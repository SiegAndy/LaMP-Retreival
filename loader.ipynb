{
 "cells": [
  {
   "cell_type": "code",
   "execution_count": 35,
   "metadata": {},
   "outputs": [
    {
     "name": "stderr",
     "output_type": "stream",
     "text": [
      "Some weights of the model checkpoint at rsvp-ai/bertserini-bert-base-squad were not used when initializing BertForQuestionAnswering: ['bert.pooler.dense.weight', 'bert.pooler.dense.bias']\n",
      "- This IS expected if you are initializing BertForQuestionAnswering from the checkpoint of a model trained on another task or with another architecture (e.g. initializing a BertForSequenceClassification model from a BertForPreTraining model).\n",
      "- This IS NOT expected if you are initializing BertForQuestionAnswering from the checkpoint of a model that you expect to be exactly identical (initializing a BertForSequenceClassification model from a BertForSequenceClassification model).\n"
     ]
    }
   ],
   "source": [
    "# Load model directly\n",
    "from transformers import AutoTokenizer, AutoModelForQuestionAnswering, pipeline\n",
    "\n",
    "tokenizer = AutoTokenizer.from_pretrained(\"rsvp-ai/bertserini-bert-base-squad\")\n",
    "model = AutoModelForQuestionAnswering.from_pretrained(\n",
    "    \"rsvp-ai/bertserini-bert-base-squad\"\n",
    ")"
   ]
  },
  {
   "cell_type": "code",
   "execution_count": 51,
   "metadata": {},
   "outputs": [],
   "source": [
    "message = \"\"\"Categories: [\"women\", \"religion\", \"politics\", \"style & beauty\", \"entertainment\", \"culture & arts\", \"sports\", \"science & technology\", \"travel\", \"business\", \"crime\", \"education\", \"healthy living\", \"parents\", \"food & drink\"]\n",
    "Keywords associated with different categories:Category: \"healthy living\" has keywords: [\"lucky\", \"lit\", \"throw\", \"year\", \"dr.\", \"gratitude\", \"life\", \"story\", \"grace\", \"way\", \"yoga\", \"make\", \"able\", \"day\", \"heard\"].Category: \"education\" has keywords: [\"relationship\", \"life\", \"graduating\", \"admonition\", \"digital\"].Category: \"business\" has keywords: [\"huffpost\", \"year\", \"conversation\", \"night\", \"hotel\", \"business\", \"health\", \"wellness\", \"big\", \"financial\"].Category: \"travel\" has keywords: [\"percent\", \"work\", \"typewriter\", \"travel\", \"vacation\"].Category: \"food & drink\" has keywords: [\"food\", \"many\", \"thought\", \"often\", \"preparation\"].Category: \"entertainment\" has keywords: [\"read\", \"life\", \"fashion\", \"week\", \"campaign\"].Category: \"style & beauty\" has keywords: [\"read\", \"medium\", \"social\", \"parenthood\", \"planned\"].\n",
    "\"Target Article\": \"This week all eyes were on Paris as the murderous shooting at the offices of the French satirical weekly Charlie Hebdo, which left 12 dead, culminated in two simultaneous hostage crises in which the Hedbo attackers and four hostages were killed. These heinous attacks were, in essence, aimed at tolerance, openness, dialogue, and diversity -- and are more a test of our commitment to our most bedrock principles than a test of our security capabilities. The way to pass this test is by refusing to compromise those core values. I'd also like to salute our colleagues at Le Huffington Post in Paris, who did a stellar job covering the tragic and rapidly shifting story. It's been a grim few days, but as today's march of solidarity in Paris will no doubt show, what unites us is much more powerful than the forces of division and intolerance\". With keywords: [\"paris\", \"test\", \"hostage\", \"division\", \"force\"].\"\"\"\n",
    "question = \"\"\"Given the above information, which category does the \"Target Article\" relate to? Just answer with the category name without further explanation.\"\"\""
   ]
  },
  {
   "cell_type": "code",
   "execution_count": 52,
   "metadata": {},
   "outputs": [
    {
     "name": "stderr",
     "output_type": "stream",
     "text": [
      "Some weights of the model checkpoint at rsvp-ai/bertserini-bert-base-squad were not used when initializing BertForQuestionAnswering: ['bert.pooler.dense.weight', 'bert.pooler.dense.bias']\n",
      "- This IS expected if you are initializing BertForQuestionAnswering from the checkpoint of a model trained on another task or with another architecture (e.g. initializing a BertForSequenceClassification model from a BertForPreTraining model).\n",
      "- This IS NOT expected if you are initializing BertForQuestionAnswering from the checkpoint of a model that you expect to be exactly identical (initializing a BertForSequenceClassification model from a BertForSequenceClassification model).\n"
     ]
    },
    {
     "name": "stdout",
     "output_type": "stream",
     "text": [
      "{'score': 0.0013732691295444965, 'start': 691, 'end': 697, 'answer': 'travel'}\n"
     ]
    }
   ],
   "source": [
    "pipe = pipeline(\"question-answering\", model=\"rsvp-ai/bertserini-bert-base-squad\")\n",
    "result = pipe(question=question, context=message)\n",
    "print(result)"
   ]
  },
  {
   "cell_type": "code",
   "execution_count": 18,
   "metadata": {},
   "outputs": [],
   "source": [
    "lines = [\n",
    "    \"Answer following question:\",\n",
    "    \"Keywords associated with different categories:\",\n",
    "    'Category: \"politics\" has keywords: \"[said, president, trump, one, house, republican, called, week, gov, know, senator, told, white, biden, governor]\"',\n",
    "    'Category: \"crime\" has keywords: \"[said, police, man, say, found, authority, face, two, child, last, people, woman, officer, arrested, mother]\"',\n",
    "    'Category: \"science & technology\" has keywords: \"[found, said, several, year, time, user, follows, record, number, replay, vehicle, succumbed, forgetting, carbon, monoxide]\"',\n",
    "    'Category: \"entertainment\" has keywords: \"[said, singer, show, love, reportedly, woman, seen, fan, thank, best, sexual, right, thing, need, police]\"',\n",
    "    'Category: \"religion\" has keywords: \"[said, spiritual, york, ever, practice, sister, group, charity, islam, islamic, esther, never, begam, finishing, regretted]\"',\n",
    "    'Category: \"business\" has keywords: \"[safety, accuses, passenger, gargac, without, reportedly, audience, mogavero, lawyer, lap, suffered, first-, family, taken, california]\"',\n",
    "    'Category: \"women\" has keywords: \"[former, resigning, abruptly, pageant, winner, back, cbs, news, far, exposing, amazed, keep, try, stunned, act]\"',\n",
    "    'Category: \"travel\" has keywords: \"[onboard, released, rise, list, percent, norway, city, spruce, york, pennsylvania, occurred, police, outside, martin, princess]\"',\n",
    "    'Category: \"sports\" has keywords: \"[said, player, left, rider, one, reportedly, life, canada, young, united, state, devastating, know, took, later]\"',\n",
    "    'Category: \"parents\" has keywords: \"[said, mother, shock, baby, staring, delivering, joker, eye, believed, want, always, help, thing, oregon, letter]\"',\n",
    "    'Category: \"culture & arts\" has keywords: \"[canoe, east, florida, believed, surfaced, mainland, appeared, near, u.k., connects, mushroom, sign, recently, swastika, dollar-sign]\"',\n",
    "    'Category: \"healthy living\" has keywords: \"[sold, pearl, frates, shared, listening, video, back, recall, far, calphalon, abundance, administration, caution, drug, food]\"',\n",
    "    'Category: \"education\" has keywords: \"[health, official, say, goat, excellent, cell, whenever, need, help, phone]\"',\n",
    "    'Category: \"style & beauty\" has keywords: \"[saturday, qassim, 20-year-old, candidate, 100]\"',\n",
    "    \"Given the above information, which category does the following article relate to? Just answer with the category name without further explanation.\",\n",
    "    'Categories: [\"women\", \"religion\", \"politics\", \"style & beauty\", \"entertainment\", \"culture & arts\", \"sports\", \"science & technology\", \"travel\", \"business\", \"crime\", \"education\", \"healthy living\", \"parents\", \"food & drink\"]',\n",
    "    \"Article: \\\"A preschool teacher seated behind a man reported seeing him send \\\"disturbing\\\" text messages about children, police said\\\". With keywords: ['police', 'teacher', 'seated', 'child', 'message']\",\n",
    "]"
   ]
  },
  {
   "cell_type": "code",
   "execution_count": 19,
   "metadata": {},
   "outputs": [
    {
     "name": "stdout",
     "output_type": "stream",
     "text": [
      "['\"Target Article\": \"A preschool teacher seated behind a man reported seeing him send \"disturbing\" text messages about children, police said\".']\n",
      "Keywords associated with different categories:\n",
      "Category: \"culture & arts\" has keywords: [\"canoe\", \"east\", \"florida\", \"believed\", \"surfaced\", \"mainland\", \"appeared\", \"near\", \"u.k.\", \"connects\", \"mushroom\", \"sign\", \"recently\", \"swastika\", \"dollar-sign\"].\n",
      "Category: \"women\" has keywords: [\"former\", \"resigning\", \"abruptly\", \"pageant\", \"winner\", \"back\", \"cbs\", \"news\", \"far\", \"exposing\", \"amazed\", \"keep\", \"try\", \"stunned\", \"act\"].\n",
      "Category: \"crime\" has keywords: [\"said\", \"police\", \"man\", \"say\", \"found\", \"authority\", \"face\", \"two\", \"child\", \"last\", \"people\", \"woman\", \"officer\", \"arrested\", \"mother\"].\n",
      "Category: \"women\" has keywords: [\"former\", \"resigning\", \"abruptly\", \"pageant\", \"winner\", \"back\", \"cbs\", \"news\", \"far\", \"exposing\", \"amazed\", \"keep\", \"try\", \"stunned\", \"act\"].\n",
      "Category: \"style & beauty\" has keywords: [\"saturday\", \"qassim\", \"20-year-old\", \"candidate\", \"100\"].\n",
      "\n",
      "Given the above information, which category does the \"Target Article\" relate to? Just answer with the category name without further explanation. Categories: [\"women\", \"religion\", \"politics\", \"style & beauty\", \"entertainment\", \"culture & arts\", \"sports\", \"science & technology\", \"travel\", \"business\", \"crime\", \"education\", \"healthy living\", \"parents\", \"food & drink\"]. \"Target Article\": \"A preschool teacher seated behind a man reported seeing him send \"disturbing\" text messages about children, police said\". With keywords: [\"police\", \"teacher\", \"seated\", \"child\", \"message\"].\n"
     ]
    }
   ],
   "source": [
    "from math import ceil, floor\n",
    "import random\n",
    "\n",
    "message = lines\n",
    "question = (\n",
    "    'Given the above information, which category does the \"Target Article\" relate to? Just answer with the category name without further explanation. '\n",
    "    + message[-2]\n",
    "    + \". \"\n",
    ")\n",
    "message[-1] = message[-1].replace(\"Article\", '\"Target Article\"')\n",
    "front, keywords = message[-1].split(\" With keywords: \")\n",
    "keywords = keywords[1:-1]\n",
    "keywords = keywords.split(\", \")\n",
    "keywords = \", \".join([f'\"{token[1:-1]}\"' for token in keywords])\n",
    "\n",
    "front = front.split(\". \")\n",
    "print(front)\n",
    "front = front[: ceil(len(front) / 2)]\n",
    "front = \". \".join(front)\n",
    "message[-1] = f\"{front} With keywords: [{keywords}].\"\n",
    "\n",
    "context_list = message[2:-3]\n",
    "\n",
    "context = message[1] + \"\\n\"\n",
    "context_list = random.choices(context_list, k=5)\n",
    "\n",
    "for line in context_list:\n",
    "    # print(line.split(\"\\\"[\"))\n",
    "    head, content_with_bracket = line.split('\"[')\n",
    "    # print(content_with_bracket.split(\"\\\"]\"))\n",
    "    content, _ = content_with_bracket.split(']\"')\n",
    "    tokens = content.split(\", \")\n",
    "    tokens_string = \", \".join([f'\"{token}\"' for token in tokens])\n",
    "    # print(f\"{head}[{tokens_string}].\")\n",
    "    context += f\"{head}[{tokens_string}].\\n\"\n",
    "question += message[-1]\n",
    "print(context)\n",
    "\n",
    "print(question)"
   ]
  },
  {
   "cell_type": "code",
   "execution_count": 6,
   "metadata": {},
   "outputs": [
    {
     "name": "stdout",
     "output_type": "stream",
     "text": [
      "Keywords associated with different categories:\n",
      "Category: \"politics\" has keywords: [\"said\", \"president\", \"trump\", \"one\", \"house\", \"republican\", \"called\", \"week\", \"gov\", \"know\", \"senator\", \"told\", \"white\", \"biden\", \"governor\"].\n",
      "Category: \"crime\" has keywords: [\"said\", \"police\", \"man\", \"say\", \"found\", \"authority\", \"face\", \"two\", \"child\", \"last\", \"people\", \"woman\", \"officer\", \"arrested\", \"mother\"].\n",
      "Category: \"science & technology\" has keywords: [\"found\", \"said\", \"several\", \"year\", \"time\", \"user\", \"follows\", \"record\", \"number\", \"replay\", \"vehicle\", \"succumbed\", \"forgetting\", \"carbon\", \"monoxide\"].\n",
      "Category: \"entertainment\" has keywords: [\"said\", \"singer\", \"show\", \"love\", \"reportedly\", \"woman\", \"seen\", \"fan\", \"thank\", \"best\", \"sexual\", \"right\", \"thing\", \"need\", \"police\"].\n",
      "Category: \"religion\" has keywords: [\"said\", \"spiritual\", \"york\", \"ever\", \"practice\", \"sister\", \"group\", \"charity\", \"islam\", \"islamic\", \"esther\", \"never\", \"begam\", \"finishing\", \"regretted\"].\n",
      "Category: \"business\" has keywords: [\"safety\", \"accuses\", \"passenger\", \"gargac\", \"without\", \"reportedly\", \"audience\", \"mogavero\", \"lawyer\", \"lap\", \"suffered\", \"first-\", \"family\", \"taken\", \"california\"].\n",
      "Category: \"women\" has keywords: [\"former\", \"resigning\", \"abruptly\", \"pageant\", \"winner\", \"back\", \"cbs\", \"news\", \"far\", \"exposing\", \"amazed\", \"keep\", \"try\", \"stunned\", \"act\"].\n",
      "Category: \"travel\" has keywords: [\"onboard\", \"released\", \"rise\", \"list\", \"percent\", \"norway\", \"city\", \"spruce\", \"york\", \"pennsylvania\", \"occurred\", \"police\", \"outside\", \"martin\", \"princess\"].\n",
      "Category: \"sports\" has keywords: [\"said\", \"player\", \"left\", \"rider\", \"one\", \"reportedly\", \"life\", \"canada\", \"young\", \"united\", \"state\", \"devastating\", \"know\", \"took\", \"later\"].\n",
      "Category: \"parents\" has keywords: [\"said\", \"mother\", \"shock\", \"baby\", \"staring\", \"delivering\", \"joker\", \"eye\", \"believed\", \"want\", \"always\", \"help\", \"thing\", \"oregon\", \"letter\"].\n",
      "Category: \"culture & arts\" has keywords: [\"canoe\", \"east\", \"florida\", \"believed\", \"surfaced\", \"mainland\", \"appeared\", \"near\", \"u.k.\", \"connects\", \"mushroom\", \"sign\", \"recently\", \"swastika\", \"dollar-sign\"].\n",
      "Category: \"healthy living\" has keywords: [\"sold\", \"pearl\", \"frates\", \"shared\", \"listening\", \"video\", \"back\", \"recall\", \"far\", \"calphalon\", \"abundance\", \"administration\", \"caution\", \"drug\", \"food\"].\n",
      "Category: \"education\" has keywords: [\"health\", \"official\", \"say\", \"goat\", \"excellent\", \"cell\", \"whenever\", \"need\", \"help\", \"phone\"].\n",
      "Category: \"style & beauty\" has keywords: [\"saturday\", \"qassim\", \"20-year-old\", \"candidate\", \"100\"].\n",
      "\"Target Article\": \"A preschool teacher seated behind a man reported seeing him send \"disturbing\" text messages about children, police said\". With keywords: [\"police\", \"teacher\", \"seated\", \"child\", \"message\"].\n",
      "Given the above information, which category does the \"Target Article\" relate to? Just answer with the category name without further explanation. Categories: [\"women\", \"religion\", \"politics\", \"style & beauty\", \"entertainment\", \"culture & arts\", \"sports\", \"science & technology\", \"travel\", \"business\", \"crime\", \"education\", \"healthy living\", \"parents\", \"food & drink\"].\n",
      "\n"
     ]
    }
   ],
   "source": [
    "question = (\n",
    "    'Given the above information, which category does the \"Target Article\" relate to? Just answer with the category name without further explanation. '\n",
    "    + lines[-2]\n",
    "    + \".\\n\"\n",
    ")\n",
    "lines[-1] = lines[-1].replace(\"Article\", '\"Target Article\"')\n",
    "front, keywords = lines[-1].split(\" With keywords: \")\n",
    "keywords = keywords[1:-1]\n",
    "keywords = keywords.split(\", \")\n",
    "keywords = \", \".join([f'\"{token[1:-1]}\"' for token in keywords])\n",
    "lines[-1] = f\"{front} With keywords: [{keywords}].\"\n",
    "\n",
    "context_list = lines[1:-3]\n",
    "\n",
    "context = lines[1] + \"\\n\"\n",
    "for line in context_list[1:]:\n",
    "    # print(line.split(\"\\\"[\"))\n",
    "    head, content_with_bracket = line.split('\"[')\n",
    "    # print(content_with_bracket.split(\"\\\"]\"))\n",
    "    content, _ = content_with_bracket.split(']\"')\n",
    "    tokens = content.split(\", \")\n",
    "    tokens_string = \", \".join([f'\"{token}\"' for token in tokens])\n",
    "    # print(f\"{head}[{tokens_string}].\")\n",
    "    context += f\"{head}[{tokens_string}].\\n\"\n",
    "context += lines[-1]\n",
    "print(context)\n",
    "\n",
    "print(question)"
   ]
  },
  {
   "cell_type": "code",
   "execution_count": null,
   "metadata": {},
   "outputs": [],
   "source": []
  }
 ],
 "metadata": {
  "kernelspec": {
   "display_name": "Python 3.11.5 ('LaMP-RM')",
   "language": "python",
   "name": "python3"
  },
  "language_info": {
   "codemirror_mode": {
    "name": "ipython",
    "version": 3
   },
   "file_extension": ".py",
   "mimetype": "text/x-python",
   "name": "python",
   "nbconvert_exporter": "python",
   "pygments_lexer": "ipython3",
   "version": "3.11.5"
  },
  "orig_nbformat": 4,
  "vscode": {
   "interpreter": {
    "hash": "e0dc0b78bb79ceedacc4b28a7c7a95f5c8ff7649848bf08868c2ee4cc7d3ac45"
   }
  }
 },
 "nbformat": 4,
 "nbformat_minor": 2
}
