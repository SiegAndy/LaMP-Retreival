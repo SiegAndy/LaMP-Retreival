{
 "cells": [
  {
   "cell_type": "code",
   "execution_count": 1,
   "id": "3864b447a2f210f0",
   "metadata": {
    "ExecuteTime": {
     "end_time": "2023-11-30T18:10:35.774248Z",
     "start_time": "2023-11-30T18:10:30.831190Z"
    }
   },
   "outputs": [],
   "source": [
    "import sys\n",
    "import os\n",
    "from typing import Dict, Tuple\n",
    "from src.utils import default_data_path, config_to_env\n",
    "from src.task import LaMPTask\n",
    "from src.models import (\n",
    "    feed_prompt_to_lm,\n",
    "    feed_prompts_to_lm,\n",
    "    OpenAIModel,\n",
    "    task_1_parse_response,\n",
    "    DistilBERTModel,\n",
    "    BERTSERINIModel,\n",
    "    MiniLM,\n",
    ")"
   ]
  },
  {
   "cell_type": "code",
   "execution_count": 2,
   "id": "e4dec76a",
   "metadata": {
    "ExecuteTime": {
     "end_time": "2023-11-30T18:10:35.803973Z",
     "start_time": "2023-11-30T18:10:35.778767Z"
    }
   },
   "outputs": [],
   "source": [
    "config_to_env(\"OPENAI_API_KEY\")"
   ]
  },
  {
   "cell_type": "code",
   "execution_count": 3,
   "id": "8a8ce4f6",
   "metadata": {},
   "outputs": [],
   "source": [
    "OpenAI_Subscriber = lambda id, prompt: feed_prompt_to_lm(\n",
    "    model=OpenAIModel(), id=id, prompt=prompt, callback=task_1_parse_response\n",
    ")\n",
    "DistilBERT_Subscriber = lambda id, prompt: feed_prompt_to_lm(\n",
    "    model=DistilBERTModel(task_name=\"LaMP_1\"),\n",
    "    id=id,\n",
    "    prompt=prompt,\n",
    "    callback=task_1_parse_response,\n",
    ")\n",
    "BERTSERINI_Subscriber = lambda id, prompt: feed_prompt_to_lm(\n",
    "    model=BERTSERINIModel(task_name=\"LaMP_1\"),\n",
    "    id=id,\n",
    "    prompt=prompt,\n",
    "    callback=task_1_parse_response,\n",
    ")\n",
    "MiniLM_Subscriber = lambda id, prompt: feed_prompts_to_lm(\n",
    "    model=MiniLM(task_name=\"LaMP_1\"),\n",
    "    id=id,\n",
    "    prompt=prompt,\n",
    "    callback=task_1_parse_response,\n",
    ")"
   ]
  },
  {
   "cell_type": "code",
   "execution_count": 39,
   "id": "e1fa06ed",
   "metadata": {
    "ExecuteTime": {
     "end_time": "2023-11-30T18:10:37.680350Z",
     "start_time": "2023-11-30T18:10:35.787695Z"
    }
   },
   "outputs": [],
   "source": [
    "def task_1_with_keywords_query(with_keyword_params, debug: bool = False):\n",
    "    task_header = \"LaMP_1\"\n",
    "    store_dir = os.path.join(\"src\", \"data\", task_header)\n",
    "    os.makedirs(store_dir, exist_ok=True)\n",
    "    dataset_question_path = os.path.join(\"src\", \"data\", \"LaMP_1_train_questions.json\")\n",
    "    entry_per_category = 120\n",
    "    worker_count = 8 if not debug else 1\n",
    "\n",
    "    ready_model = dict()\n",
    "\n",
    "    for text_rank_top_k_keywords, bm25_top_k in with_keyword_params:\n",
    "        file_ending = f\"{entry_per_category}_{text_rank_top_k_keywords}_{bm25_top_k}\"\n",
    "\n",
    "        question_store_path = os.path.join(\n",
    "            store_dir,\n",
    "            f\"{task_header}_train_prompts_questions_with_keyword_{file_ending}.json\",\n",
    "        )\n",
    "        output_store_path = os.path.join(\n",
    "            store_dir,\n",
    "            f\"{task_header}_train_outputs_selected_with_keyword_{file_ending}.json\",\n",
    "        )\n",
    "        curr_task = LaMPTask(\n",
    "            task_question_file=dataset_question_path,\n",
    "            task_output_file=output_store_path,\n",
    "            subscribers={\n",
    "                # \"BERTSERINI\": BERTSERINI_Subscriber,\n",
    "                \"DistilBERT\": DistilBERT_Subscriber,\n",
    "                # \"MiniLM\": MiniLM_Subscriber,\n",
    "                # \"OpenAI\": OpenAI_Subscriber,\n",
    "            },\n",
    "            worker_count=worker_count,\n",
    "            prompt_save_path=question_store_path,\n",
    "            preds_save_path={\n",
    "                # \"BERTSERINI\": os.path.join(store_dir,f\"{task_header}_train_preds_BERTSERINI_with_keyword_{file_ending}.json\"),\n",
    "                \"DistilBERT\": os.path.join(\n",
    "                    store_dir,\n",
    "                    f\"{task_header}_train_preds_DistilBERT_with_keyword_{file_ending}.json\",\n",
    "                ),\n",
    "                # \"MiniLM\": os.path.join(store_dir,f\"{task_header}_train_preds_MiniLM_with_keyword_{file_ending}.json\"),\n",
    "                # \"OpenAI\": os.path.join(store_dir,f\"{task_header}_train_preds_OpenAI_with_keyword_{file_ending}.json\"),\n",
    "            },\n",
    "            keyword_extraction=True,\n",
    "        )\n",
    "\n",
    "        ready_model[(text_rank_top_k_keywords, bm25_top_k)] = curr_task\n",
    "        curr_task.load_prompts(question_store_path)\n",
    "        curr_task.subscribe(skip_eval=True)\n",
    "\n",
    "\n",
    "def task_1_with_keywords_eval(\n",
    "    with_keyword_params, ready_models: Dict[Tuple[int, int], LaMPTask] = None\n",
    "):\n",
    "    if ready_models is not None:\n",
    "        for (text_rank_top_k_keywords, bm25_top_k), curr_task in ready_models.items():\n",
    "            curr_task.evaluate()\n",
    "        return\n",
    "\n",
    "    task_header = \"LaMP_1\"\n",
    "    store_dir = os.path.join(\"src\", \"data\", task_header)\n",
    "    dataset_question_path = os.path.join(\"src\", \"data\", \"LaMP_1_train_questions.json\")\n",
    "    entry_per_category = 120\n",
    "\n",
    "    evaluated_result = dict()\n",
    "\n",
    "    for text_rank_top_k_keywords, bm25_top_k in with_keyword_params:\n",
    "        file_ending = f\"{entry_per_category}_{text_rank_top_k_keywords}_{bm25_top_k}\"\n",
    "        output_store_path = os.path.join(\n",
    "            store_dir,\n",
    "            f\"{task_header}_train_outputs_selected_with_keyword_{file_ending}.json\",\n",
    "        )\n",
    "        curr_task = LaMPTask(\n",
    "            task_question_file=dataset_question_path,\n",
    "            task_output_file=output_store_path,\n",
    "            subscribers={\n",
    "                # \"BERTSERINI\": BERTSERINI_Subscriber,\n",
    "                \"DistilBERT\": DistilBERT_Subscriber,\n",
    "                # \"MiniLM\": MiniLM_Subscriber,\n",
    "                # \"OpenAI\": OpenAI_Subscriber,\n",
    "            },\n",
    "        )\n",
    "        curr_task.evaluate(\n",
    "            preds_save_name={\n",
    "                # \"BERTSERINI\": os.path.join(store_dir,f\"{task_header}_train_preds_BERTSERINI_with_keyword_{file_ending}.json\"),\n",
    "                \"DistilBERT\": os.path.join(\n",
    "                    store_dir,\n",
    "                    f\"{task_header}_train_preds_DistilBERT_with_keyword_{file_ending}.json\",\n",
    "                ),\n",
    "                # \"MiniLM\": os.path.join(store_dir,f\"{task_header}_train_preds_MiniLM_with_keyword_{file_ending}.json\"),\n",
    "                # \"OpenAI\": os.path.join(store_dir,f\"{task_header}_train_preds_OpenAI_with_keyword_{file_ending}.json\"),\n",
    "            }\n",
    "        )\n",
    "        print(curr_task.score)\n",
    "        evaluated_result[f\"{text_rank_top_k_keywords} {bm25_top_k}\"] = curr_task.score\n",
    "    return evaluated_result"
   ]
  },
  {
   "cell_type": "code",
   "execution_count": 8,
   "id": "d30df99c",
   "metadata": {},
   "outputs": [],
   "source": [
    "with_keyword_params = [(5, 5), (10, 10)]\n",
    "debug = False"
   ]
  },
  {
   "cell_type": "code",
   "execution_count": 40,
   "id": "16d07781",
   "metadata": {},
   "outputs": [],
   "source": [
    "with_keyword_params = [(5, 5)]\n",
    "# with_keyword_params = [(10, 10)]\n",
    "# debug=True"
   ]
  },
  {
   "cell_type": "code",
   "execution_count": 41,
   "id": "2126c49f",
   "metadata": {},
   "outputs": [
    {
     "data": {
      "application/vnd.jupyter.widget-view+json": {
       "model_id": "6da7e6b69d2446d29d84078a4163a079",
       "version_major": 2,
       "version_minor": 0
      },
      "text/plain": [
       "Output()"
      ]
     },
     "metadata": {},
     "output_type": "display_data"
    },
    {
     "data": {
      "text/html": [
       "<pre style=\"white-space:pre;overflow-x:auto;line-height:normal;font-family:Menlo,'DejaVu Sans Mono',consolas,'Courier New',monospace\">DistilBERTModel is processing the question 00324\n",
       "</pre>\n"
      ],
      "text/plain": [
       "DistilBERTModel is processing the question 00324\n"
      ]
     },
     "metadata": {},
     "output_type": "display_data"
    },
    {
     "data": {
      "text/html": [
       "<pre style=\"white-space:pre;overflow-x:auto;line-height:normal;font-family:Menlo,'DejaVu Sans Mono',consolas,'Courier New',monospace\">DistilBERTModel is processing the question 005\n",
       "</pre>\n"
      ],
      "text/plain": [
       "DistilBERTModel is processing the question 005\n"
      ]
     },
     "metadata": {},
     "output_type": "display_data"
    },
    {
     "data": {
      "text/html": [
       "<pre style=\"white-space:pre;overflow-x:auto;line-height:normal;font-family:Menlo,'DejaVu Sans Mono',consolas,'Courier New',monospace\">DistilBERTModel is processing the question 00412\n",
       "</pre>\n"
      ],
      "text/plain": [
       "DistilBERTModel is processing the question 00412\n"
      ]
     },
     "metadata": {},
     "output_type": "display_data"
    },
    {
     "data": {
      "text/html": [
       "<pre style=\"white-space:pre;overflow-x:auto;line-height:normal;font-family:Menlo,'DejaVu Sans Mono',consolas,'Courier New',monospace\">DistilBERTModel is processing the question 00397\n",
       "</pre>\n"
      ],
      "text/plain": [
       "DistilBERTModel is processing the question 00397\n"
      ]
     },
     "metadata": {},
     "output_type": "display_data"
    },
    {
     "data": {
      "text/html": [
       "<pre style=\"white-space:pre;overflow-x:auto;line-height:normal;font-family:Menlo,'DejaVu Sans Mono',consolas,'Courier New',monospace\">DistilBERTModel is processing the question 00417\n",
       "</pre>\n"
      ],
      "text/plain": [
       "DistilBERTModel is processing the question 00417\n"
      ]
     },
     "metadata": {},
     "output_type": "display_data"
    },
    {
     "data": {
      "text/html": [
       "<pre style=\"white-space:pre;overflow-x:auto;line-height:normal;font-family:Menlo,'DejaVu Sans Mono',consolas,'Courier New',monospace\">DistilBERTModel is processing the question 00181\n",
       "</pre>\n"
      ],
      "text/plain": [
       "DistilBERTModel is processing the question 00181\n"
      ]
     },
     "metadata": {},
     "output_type": "display_data"
    },
    {
     "data": {
      "text/html": [
       "<pre style=\"white-space:pre;overflow-x:auto;line-height:normal;font-family:Menlo,'DejaVu Sans Mono',consolas,'Courier New',monospace\">DistilBERTModel is processing the question 00375\n",
       "</pre>\n"
      ],
      "text/plain": [
       "DistilBERTModel is processing the question 00375\n"
      ]
     },
     "metadata": {},
     "output_type": "display_data"
    },
    {
     "data": {
      "text/html": [
       "<pre style=\"white-space:pre;overflow-x:auto;line-height:normal;font-family:Menlo,'DejaVu Sans Mono',consolas,'Courier New',monospace\">DistilBERTModel is processing the question 00145\n",
       "</pre>\n"
      ],
      "text/plain": [
       "DistilBERTModel is processing the question 00145\n"
      ]
     },
     "metadata": {},
     "output_type": "display_data"
    },
    {
     "data": {
      "text/html": [
       "<pre style=\"white-space:pre;overflow-x:auto;line-height:normal;font-family:Menlo,'DejaVu Sans Mono',consolas,'Courier New',monospace\">Rate limit reached. You reached free usage limit (reset hourly). Please subscribe to a plan at \n",
       "https://huggingface.co/pricing to use the API at this rate\n",
       "</pre>\n"
      ],
      "text/plain": [
       "Rate limit reached. You reached free usage limit (reset hourly). Please subscribe to a plan at \n",
       "https://huggingface.co/pricing to use the API at this rate\n"
      ]
     },
     "metadata": {},
     "output_type": "display_data"
    },
    {
     "data": {
      "text/html": [
       "<pre style=\"white-space:pre;overflow-x:auto;line-height:normal;font-family:Menlo,'DejaVu Sans Mono',consolas,'Courier New',monospace\">Rate limit reached. You reached free usage limit (reset hourly). Please subscribe to a plan at \n",
       "https://huggingface.co/pricing to use the API at this rate\n",
       "</pre>\n"
      ],
      "text/plain": [
       "Rate limit reached. You reached free usage limit (reset hourly). Please subscribe to a plan at \n",
       "https://huggingface.co/pricing to use the API at this rate\n"
      ]
     },
     "metadata": {},
     "output_type": "display_data"
    },
    {
     "data": {
      "text/html": [
       "<pre style=\"white-space:pre;overflow-x:auto;line-height:normal;font-family:Menlo,'DejaVu Sans Mono',consolas,'Courier New',monospace\">Rate limit reached. You reached free usage limit (reset hourly). Please subscribe to a plan at \n",
       "https://huggingface.co/pricing to use the API at this rate\n",
       "</pre>\n"
      ],
      "text/plain": [
       "Rate limit reached. You reached free usage limit (reset hourly). Please subscribe to a plan at \n",
       "https://huggingface.co/pricing to use the API at this rate\n"
      ]
     },
     "metadata": {},
     "output_type": "display_data"
    },
    {
     "data": {
      "text/html": [
       "<pre style=\"white-space:pre;overflow-x:auto;line-height:normal;font-family:Menlo,'DejaVu Sans Mono',consolas,'Courier New',monospace\">Rate limit reached. You reached free usage limit (reset hourly). Please subscribe to a plan at \n",
       "https://huggingface.co/pricing to use the API at this rate\n",
       "</pre>\n"
      ],
      "text/plain": [
       "Rate limit reached. You reached free usage limit (reset hourly). Please subscribe to a plan at \n",
       "https://huggingface.co/pricing to use the API at this rate\n"
      ]
     },
     "metadata": {},
     "output_type": "display_data"
    },
    {
     "data": {
      "text/html": [
       "<pre style=\"white-space:pre;overflow-x:auto;line-height:normal;font-family:Menlo,'DejaVu Sans Mono',consolas,'Courier New',monospace\">Rate limit reached. You reached free usage limit (reset hourly). Please subscribe to a plan at \n",
       "https://huggingface.co/pricing to use the API at this rate\n",
       "</pre>\n"
      ],
      "text/plain": [
       "Rate limit reached. You reached free usage limit (reset hourly). Please subscribe to a plan at \n",
       "https://huggingface.co/pricing to use the API at this rate\n"
      ]
     },
     "metadata": {},
     "output_type": "display_data"
    },
    {
     "data": {
      "text/html": [
       "<pre style=\"white-space:pre;overflow-x:auto;line-height:normal;font-family:Menlo,'DejaVu Sans Mono',consolas,'Courier New',monospace\">Rate limit reached. You reached free usage limit (reset hourly). Please subscribe to a plan at \n",
       "https://huggingface.co/pricing to use the API at this rate\n",
       "</pre>\n"
      ],
      "text/plain": [
       "Rate limit reached. You reached free usage limit (reset hourly). Please subscribe to a plan at \n",
       "https://huggingface.co/pricing to use the API at this rate\n"
      ]
     },
     "metadata": {},
     "output_type": "display_data"
    },
    {
     "data": {
      "text/html": [
       "<pre style=\"white-space:pre;overflow-x:auto;line-height:normal;font-family:Menlo,'DejaVu Sans Mono',consolas,'Courier New',monospace\">Rate limit reached. You reached free usage limit (reset hourly). Please subscribe to a plan at \n",
       "https://huggingface.co/pricing to use the API at this rate\n",
       "</pre>\n"
      ],
      "text/plain": [
       "Rate limit reached. You reached free usage limit (reset hourly). Please subscribe to a plan at \n",
       "https://huggingface.co/pricing to use the API at this rate\n"
      ]
     },
     "metadata": {},
     "output_type": "display_data"
    },
    {
     "data": {
      "text/html": [
       "<pre style=\"white-space:pre;overflow-x:auto;line-height:normal;font-family:Menlo,'DejaVu Sans Mono',consolas,'Courier New',monospace\">Rate limit reached. You reached free usage limit (reset hourly). Please subscribe to a plan at \n",
       "https://huggingface.co/pricing to use the API at this rate\n",
       "</pre>\n"
      ],
      "text/plain": [
       "Rate limit reached. You reached free usage limit (reset hourly). Please subscribe to a plan at \n",
       "https://huggingface.co/pricing to use the API at this rate\n"
      ]
     },
     "metadata": {},
     "output_type": "display_data"
    },
    {
     "data": {
      "text/html": [
       "<pre style=\"white-space:pre;overflow-x:auto;line-height:normal;font-family:Menlo,'DejaVu Sans Mono',consolas,'Courier New',monospace\"></pre>\n"
      ],
      "text/plain": []
     },
     "metadata": {},
     "output_type": "display_data"
    },
    {
     "data": {
      "text/html": [
       "<pre style=\"white-space:pre;overflow-x:auto;line-height:normal;font-family:Menlo,'DejaVu Sans Mono',consolas,'Courier New',monospace\">\n",
       "</pre>\n"
      ],
      "text/plain": [
       "\n"
      ]
     },
     "metadata": {},
     "output_type": "display_data"
    }
   ],
   "source": [
    "ready_models = task_1_with_keywords_query(with_keyword_params, debug=debug)"
   ]
  },
  {
   "cell_type": "code",
   "execution_count": 34,
   "id": "066da020",
   "metadata": {},
   "outputs": [
    {
     "name": "stdout",
     "output_type": "stream",
     "text": [
      "{'BERTSERINI': {'accuracy': 0.4641350210970464, 'f1': 0.3702348690153568}}\n"
     ]
    }
   ],
   "source": [
    "evaluate_results = task_1_with_keywords_eval(with_keyword_params)"
   ]
  },
  {
   "cell_type": "code",
   "execution_count": 35,
   "id": "6dd44102",
   "metadata": {},
   "outputs": [
    {
     "name": "stdout",
     "output_type": "stream",
     "text": [
      "{\n",
      "    \"10 10\": {\n",
      "        \"BERTSERINI\": {\n",
      "            \"accuracy\": 0.4641350210970464,\n",
      "            \"f1\": 0.3702348690153568\n",
      "        }\n",
      "    }\n",
      "}\n"
     ]
    }
   ],
   "source": [
    "import json\n",
    "\n",
    "print(json.dumps(evaluate_results, indent=4))"
   ]
  }
 ],
 "metadata": {
  "kernelspec": {
   "display_name": "Python 3 (ipykernel)",
   "language": "python",
   "name": "python3"
  },
  "language_info": {
   "codemirror_mode": {
    "name": "ipython",
    "version": 3
   },
   "file_extension": ".py",
   "mimetype": "text/x-python",
   "name": "python",
   "nbconvert_exporter": "python",
   "pygments_lexer": "ipython3",
   "version": "3.11.5"
  },
  "vscode": {
   "interpreter": {
    "hash": "e0dc0b78bb79ceedacc4b28a7c7a95f5c8ff7649848bf08868c2ee4cc7d3ac45"
   }
  }
 },
 "nbformat": 4,
 "nbformat_minor": 5
}
