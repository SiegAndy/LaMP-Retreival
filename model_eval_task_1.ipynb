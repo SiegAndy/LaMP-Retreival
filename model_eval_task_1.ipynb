{
 "cells": [
  {
   "cell_type": "code",
   "execution_count": 1,
   "id": "3864b447a2f210f0",
   "metadata": {
    "ExecuteTime": {
     "end_time": "2023-11-30T18:10:35.774248Z",
     "start_time": "2023-11-30T18:10:30.831190Z"
    }
   },
   "outputs": [],
   "source": [
    "import sys\n",
    "import os\n",
    "from typing import Dict, Tuple\n",
    "from src.utils import default_data_path, config_to_env, check_config\n",
    "from src.task import LaMPTask\n",
    "from src.models import (\n",
    "    feed_prompt_to_lm,\n",
    "    feed_prompts_to_lm,\n",
    "    OpenAIModel,\n",
    "    task_1_parse_response,\n",
    "    DistilBERTModel,\n",
    "    BERTSERINIModel,\n",
    "    MiniLM,\n",
    ")"
   ]
  },
  {
   "cell_type": "code",
   "execution_count": 2,
   "id": "e4dec76a",
   "metadata": {
    "ExecuteTime": {
     "end_time": "2023-11-30T18:10:35.803973Z",
     "start_time": "2023-11-30T18:10:35.778767Z"
    }
   },
   "outputs": [],
   "source": [
    "config_to_env(\"OPENAI_API_KEY\")"
   ]
  },
  {
   "cell_type": "code",
   "execution_count": 3,
   "id": "8a8ce4f6",
   "metadata": {},
   "outputs": [],
   "source": [
    "task_header = \"LaMP_1\"\n",
    "store_folder = os.path.join(\"src\", \"data\", task_header)\n",
    "\n",
    "OpenAI_Subscriber = lambda id, prompt, api_key: feed_prompt_to_lm(\n",
    "    model=OpenAIModel(),\n",
    "    id=id,\n",
    "    prompt=prompt,\n",
    "    api_key=api_key,\n",
    "    log_path=os.path.join(store_folder, \"OpenAI.txt\"),\n",
    "    callback=task_1_parse_response,\n",
    ")\n",
    "DistilBERT_Subscriber = lambda id, prompt, api_key: feed_prompt_to_lm(\n",
    "    model=DistilBERTModel(task_name=\"LaMP_1\"),\n",
    "    id=id,\n",
    "    prompt=prompt,\n",
    "    api_key=api_key,\n",
    "    log_path=os.path.join(store_folder, \"DistilBERTModel.txt\"),\n",
    "    callback=task_1_parse_response,\n",
    ")\n",
    "BERTSERINI_Subscriber = lambda id, prompt, api_key: feed_prompt_to_lm(\n",
    "    model=BERTSERINIModel(task_name=\"LaMP_1\"),\n",
    "    id=id,\n",
    "    prompt=prompt,\n",
    "    api_key=api_key,\n",
    "    log_path=os.path.join(store_folder, \"BERTSERINI.txt\"),\n",
    "    callback=task_1_parse_response,\n",
    ")\n",
    "MiniLM_Subscriber = lambda id, prompt, api_key: feed_prompt_to_lm(\n",
    "    model=MiniLM(task_name=\"LaMP_1\"),\n",
    "    id=id,\n",
    "    prompt=prompt,\n",
    "    api_key=api_key,\n",
    "    log_path=os.path.join(store_folder, \"MiniLM.txt\"),\n",
    "    callback=task_1_parse_response,\n",
    ")"
   ]
  },
  {
   "cell_type": "code",
   "execution_count": 4,
   "id": "e1fa06ed",
   "metadata": {
    "ExecuteTime": {
     "end_time": "2023-11-30T18:10:37.680350Z",
     "start_time": "2023-11-30T18:10:35.787695Z"
    }
   },
   "outputs": [],
   "source": [
    "def task_1_with_keywords_query(with_keyword_params, debug: bool = False):\n",
    "    task_header = \"LaMP_1\"\n",
    "    store_dir = os.path.join(\"src\", \"data\", task_header)\n",
    "    os.makedirs(store_dir, exist_ok=True)\n",
    "    dataset_question_path = os.path.join(\"src\", \"data\", \"LaMP_1_train_questions.json\")\n",
    "    entry_per_category = 120\n",
    "    worker_count = 8 if not debug else 1\n",
    "    api_keys = (\n",
    "        [\n",
    "            check_config(\"HUGGING_FACE_KEY_1\"),\n",
    "            check_config(\"HUGGING_FACE_KEY_2\"),\n",
    "            check_config(\"HUGGING_FACE_KEY_3\"),\n",
    "            check_config(\"HUGGING_FACE_KEY_4\"),\n",
    "            check_config(\"HUGGING_FACE_KEY_1\"),\n",
    "            check_config(\"HUGGING_FACE_KEY_2\"),\n",
    "            check_config(\"HUGGING_FACE_KEY_3\"),\n",
    "            check_config(\"HUGGING_FACE_KEY_4\"),\n",
    "        ]\n",
    "        if not debug\n",
    "        else None\n",
    "    )\n",
    "\n",
    "    ready_model = dict()\n",
    "\n",
    "    for text_rank_top_k_keywords, bm25_top_k in with_keyword_params:\n",
    "        file_ending = f\"{entry_per_category}_{text_rank_top_k_keywords}_{bm25_top_k}\"\n",
    "\n",
    "        question_store_path = os.path.join(\n",
    "            store_dir,\n",
    "            f\"{task_header}_train_prompts_questions_with_keyword_{file_ending}.json\",\n",
    "        )\n",
    "        output_store_path = os.path.join(\n",
    "            store_dir,\n",
    "            f\"{task_header}_train_outputs_selected_with_keyword_{file_ending}.json\",\n",
    "        )\n",
    "        curr_task = LaMPTask(\n",
    "            task_question_file=dataset_question_path,\n",
    "            task_output_file=output_store_path,\n",
    "            subscribers={\n",
    "                # \"BERTSERINI\": BERTSERINI_Subscriber,\n",
    "                # \"DistilBERT\": DistilBERT_Subscriber,\n",
    "                # \"MiniLM\": MiniLM_Subscriber,\n",
    "                \"OpenAI\": OpenAI_Subscriber,\n",
    "            },\n",
    "            worker_count=worker_count,\n",
    "            prompt_save_path=question_store_path,\n",
    "            preds_save_path={\n",
    "                # \"BERTSERINI\": os.path.join(store_dir,f\"{task_header}_train_preds_BERTSERINI_with_keyword_{file_ending}.json\"),\n",
    "                # \"DistilBERT\": os.path.join(\n",
    "                #     store_dir,\n",
    "                #     f\"{task_header}_train_preds_DistilBERT_with_keyword_{file_ending}.json\",\n",
    "                # ),\n",
    "                # \"MiniLM\": os.path.join(\n",
    "                #     store_dir,\n",
    "                #     f\"{task_header}_train_preds_MiniLM_with_keyword_{file_ending}.json\",\n",
    "                # ),\n",
    "                \"OpenAI\": os.path.join(\n",
    "                    store_dir,\n",
    "                    f\"{task_header}_train_preds_OpenAI_with_keyword_{file_ending}.json\",\n",
    "                ),\n",
    "            },\n",
    "            keyword_extraction=True,\n",
    "        )\n",
    "\n",
    "        ready_model[(text_rank_top_k_keywords, bm25_top_k)] = curr_task\n",
    "        curr_task.load_prompts(question_store_path)\n",
    "        curr_task.subscribe(\n",
    "            skip_eval=True,\n",
    "            api_keys=api_keys,\n",
    "        )\n",
    "\n",
    "\n",
    "def task_1_with_keywords_eval(\n",
    "    with_keyword_params, ready_models: Dict[Tuple[int, int], LaMPTask] = None\n",
    "):\n",
    "    if ready_models is not None:\n",
    "        for (text_rank_top_k_keywords, bm25_top_k), curr_task in ready_models.items():\n",
    "            curr_task.evaluate()\n",
    "        return\n",
    "\n",
    "    task_header = \"LaMP_1\"\n",
    "    store_dir = os.path.join(\"src\", \"data\", task_header)\n",
    "    dataset_question_path = os.path.join(\"src\", \"data\", \"LaMP_1_train_questions.json\")\n",
    "    entry_per_category = 120\n",
    "\n",
    "    evaluated_result = dict()\n",
    "\n",
    "    for text_rank_top_k_keywords, bm25_top_k in with_keyword_params:\n",
    "        file_ending = f\"{entry_per_category}_{text_rank_top_k_keywords}_{bm25_top_k}\"\n",
    "        output_store_path = os.path.join(\n",
    "            store_dir,\n",
    "            f\"{task_header}_train_outputs_selected_with_keyword_{file_ending}.json\",\n",
    "        )\n",
    "        curr_task = LaMPTask(\n",
    "            task_question_file=dataset_question_path,\n",
    "            task_output_file=output_store_path,\n",
    "            subscribers={\n",
    "                # \"BERTSERINI\": BERTSERINI_Subscriber,\n",
    "                # \"DistilBERT\": DistilBERT_Subscriber,\n",
    "                # \"MiniLM\": MiniLM_Subscriber,\n",
    "                \"OpenAI\": OpenAI_Subscriber,\n",
    "            },\n",
    "        )\n",
    "        curr_task.evaluate(\n",
    "            preds_save_name={\n",
    "                # \"BERTSERINI\": os.path.join(store_dir,f\"{task_header}_train_preds_BERTSERINI_with_keyword_{file_ending}.json\"),\n",
    "                # \"DistilBERT\": os.path.join(\n",
    "                #     store_dir,\n",
    "                #     f\"{task_header}_train_preds_DistilBERT_with_keyword_{file_ending}.json\",\n",
    "                # ),\n",
    "                # \"MiniLM\": os.path.join(\n",
    "                #     store_dir,\n",
    "                #     f\"{task_header}_train_preds_MiniLM_with_keyword_{file_ending}.json\",\n",
    "                # ),\n",
    "                \"OpenAI\": os.path.join(\n",
    "                    store_dir,\n",
    "                    f\"{task_header}_train_preds_OpenAI_with_keyword_{file_ending}.json\",\n",
    "                ),\n",
    "            }\n",
    "        )\n",
    "        print(curr_task.score)\n",
    "        evaluated_result[f\"{text_rank_top_k_keywords} {bm25_top_k}\"] = curr_task.score\n",
    "    return evaluated_result"
   ]
  },
  {
   "cell_type": "code",
   "execution_count": 5,
   "id": "d30df99c",
   "metadata": {},
   "outputs": [],
   "source": [
    "with_keyword_params = [(5, 5), (10, 10)]\n",
    "debug = False"
   ]
  },
  {
   "cell_type": "code",
   "execution_count": 6,
   "id": "16d07781",
   "metadata": {},
   "outputs": [],
   "source": [
    "# with_keyword_params = [(5, 5)]\n",
    "with_keyword_params = [(10, 10)]\n",
    "# debug=True"
   ]
  },
  {
   "cell_type": "code",
   "execution_count": 7,
   "id": "2126c49f",
   "metadata": {},
   "outputs": [
    {
     "data": {
      "application/vnd.jupyter.widget-view+json": {
       "model_id": "d66a4b5b39144f9893bbd0cdaf5d369d",
       "version_major": 2,
       "version_minor": 0
      },
      "text/plain": [
       "Output()"
      ]
     },
     "metadata": {},
     "output_type": "display_data"
    },
    {
     "data": {
      "text/html": [
       "<pre style=\"white-space:pre;overflow-x:auto;line-height:normal;font-family:Menlo,'DejaVu Sans Mono',consolas,'Courier New',monospace\">['0037', '00204', '00425', '00162', '009', '00832', '0042', '00394', '00692', '00336', '00421', '00930', '00936', \n",
       "'00884', '00765', '00854', '00980', '001239', '001015', '00392', '00663', '001321', '001294', '001051', '001472', \n",
       "'001470', '001309', '001285', '00888', '001048', '001283', '001812', '001954', '001508', '00549', '001700', \n",
       "'001519', '001751', '001778', '001659', '001335', '001878', '002071', '002238', '001028', '002175', '001972', \n",
       "'00781', '001600', '002215', '002004', '002270', '002564', '001985', '002673', '002393', '002064', '002724', \n",
       "'002302', '002247', '002169', '002686', '001329', '002973', '003007', '002791', '002190', '003391', '003052', \n",
       "'003126', '001544', '003147', '002927', '003405', '002923', '003660', '003705', '003858', '003500', '003718', \n",
       "'004116', '003779', '003137', '003459', '003864', '003699', '004178', '004119', '004557', '004017', '003978', \n",
       "'003220', '004575', '004366', '004276', '004740', '004569', '004539', '003211', '004639', '004993', '002678', \n",
       "'004846', '004707', '003363', '003897', '004568', '005235', '004757', '005287', '005093', '005307', '004187', \n",
       "'001975', '005298', '004791', '005051', '005232', '004853', '005096', '005182', '005569', '005527', '005419', \n",
       "'005705', '005273', '005380', '005647', '004913', '005940', '005323', '004903', '005799', '005656', '005747', \n",
       "'005425', '006011', '005375', '006204', '005758', '006284', '005849', '006371', '006520', '006044', '005904', \n",
       "'005661', '005751', '006564', '005320', '006588', '006053', '006428', '006735', '006521', '006261', '006456', \n",
       "'006932', '006258', '005195', '006776', '007195', '007097', '005775', '007026', '005301', '007212', '006864', \n",
       "'007220', '006998', '006646', '006631', '007503', '008106', '007283', '008182', '007058', '007263', '007160', \n",
       "'006972', '007461', '007890', '007543', '008279', '007200', '008303', '008161', '007356', '007563', '008527', \n",
       "'007745', '008325', '008418', '008437', '007986', '008577', '008511', '006772', '008649', '008488', '008393', \n",
       "'008690', '008833', '008439', '008324', '008453', '008986', '008964', '009019', '008921', '006973', '008299', \n",
       "'009101', '008809', '005787', '009393', '008646', '009097', '008758', '009263', '009147', '009517', '009670', \n",
       "'009639', '009434', '008757', '008800', '008742', '008834', '009232', '009471', '009293', '009446', '009659', \n",
       "'009140', '009595', '008884']\n",
       "</pre>\n"
      ],
      "text/plain": [
       "['0037', '00204', '00425', '00162', '009', '00832', '0042', '00394', '00692', '00336', '00421', '00930', '00936', \n",
       "'00884', '00765', '00854', '00980', '001239', '001015', '00392', '00663', '001321', '001294', '001051', '001472', \n",
       "'001470', '001309', '001285', '00888', '001048', '001283', '001812', '001954', '001508', '00549', '001700', \n",
       "'001519', '001751', '001778', '001659', '001335', '001878', '002071', '002238', '001028', '002175', '001972', \n",
       "'00781', '001600', '002215', '002004', '002270', '002564', '001985', '002673', '002393', '002064', '002724', \n",
       "'002302', '002247', '002169', '002686', '001329', '002973', '003007', '002791', '002190', '003391', '003052', \n",
       "'003126', '001544', '003147', '002927', '003405', '002923', '003660', '003705', '003858', '003500', '003718', \n",
       "'004116', '003779', '003137', '003459', '003864', '003699', '004178', '004119', '004557', '004017', '003978', \n",
       "'003220', '004575', '004366', '004276', '004740', '004569', '004539', '003211', '004639', '004993', '002678', \n",
       "'004846', '004707', '003363', '003897', '004568', '005235', '004757', '005287', '005093', '005307', '004187', \n",
       "'001975', '005298', '004791', '005051', '005232', '004853', '005096', '005182', '005569', '005527', '005419', \n",
       "'005705', '005273', '005380', '005647', '004913', '005940', '005323', '004903', '005799', '005656', '005747', \n",
       "'005425', '006011', '005375', '006204', '005758', '006284', '005849', '006371', '006520', '006044', '005904', \n",
       "'005661', '005751', '006564', '005320', '006588', '006053', '006428', '006735', '006521', '006261', '006456', \n",
       "'006932', '006258', '005195', '006776', '007195', '007097', '005775', '007026', '005301', '007212', '006864', \n",
       "'007220', '006998', '006646', '006631', '007503', '008106', '007283', '008182', '007058', '007263', '007160', \n",
       "'006972', '007461', '007890', '007543', '008279', '007200', '008303', '008161', '007356', '007563', '008527', \n",
       "'007745', '008325', '008418', '008437', '007986', '008577', '008511', '006772', '008649', '008488', '008393', \n",
       "'008690', '008833', '008439', '008324', '008453', '008986', '008964', '009019', '008921', '006973', '008299', \n",
       "'009101', '008809', '005787', '009393', '008646', '009097', '008758', '009263', '009147', '009517', '009670', \n",
       "'009639', '009434', '008757', '008800', '008742', '008834', '009232', '009471', '009293', '009446', '009659', \n",
       "'009140', '009595', '008884']\n"
      ]
     },
     "metadata": {},
     "output_type": "display_data"
    },
    {
     "data": {
      "text/html": [
       "<pre style=\"white-space:pre;overflow-x:auto;line-height:normal;font-family:Menlo,'DejaVu Sans Mono',consolas,'Courier New',monospace\"></pre>\n"
      ],
      "text/plain": []
     },
     "metadata": {},
     "output_type": "display_data"
    },
    {
     "data": {
      "text/html": [
       "<pre style=\"white-space:pre;overflow-x:auto;line-height:normal;font-family:Menlo,'DejaVu Sans Mono',consolas,'Courier New',monospace\">\n",
       "</pre>\n"
      ],
      "text/plain": [
       "\n"
      ]
     },
     "metadata": {},
     "output_type": "display_data"
    }
   ],
   "source": [
    "ready_models = task_1_with_keywords_query(with_keyword_params, debug=debug)"
   ]
  },
  {
   "cell_type": "code",
   "execution_count": 8,
   "id": "066da020",
   "metadata": {},
   "outputs": [
    {
     "name": "stdout",
     "output_type": "stream",
     "text": [
      "{'OpenAI': {'accuracy': 0.5063291139240507, 'f1': 0.5218125960061444}}\n"
     ]
    }
   ],
   "source": [
    "evaluate_results = task_1_with_keywords_eval(with_keyword_params)"
   ]
  },
  {
   "cell_type": "code",
   "execution_count": 21,
   "id": "6dd44102",
   "metadata": {},
   "outputs": [],
   "source": [
    "def task_1_without_keywords_query(without_keyword_params, debug: bool = False):\n",
    "    task_header = \"LaMP_1\"\n",
    "    store_dir = os.path.join(\"src\", \"data\", task_header)\n",
    "    os.makedirs(store_dir, exist_ok=True)\n",
    "    dataset_question_path = os.path.join(\"src\", \"data\", \"LaMP_1_train_questions.json\")\n",
    "    entry_per_category = 120\n",
    "    worker_count = 8 if not debug else 1\n",
    "    api_keys = (\n",
    "        [\n",
    "            check_config(\"HUGGING_FACE_KEY_1\"),\n",
    "            check_config(\"HUGGING_FACE_KEY_2\"),\n",
    "            check_config(\"HUGGING_FACE_KEY_3\"),\n",
    "            check_config(\"HUGGING_FACE_KEY_4\"),\n",
    "            check_config(\"HUGGING_FACE_KEY_1\"),\n",
    "            check_config(\"HUGGING_FACE_KEY_2\"),\n",
    "            check_config(\"HUGGING_FACE_KEY_3\"),\n",
    "            check_config(\"HUGGING_FACE_KEY_4\"),\n",
    "        ]\n",
    "        if not debug\n",
    "        else None\n",
    "    )\n",
    "\n",
    "    ready_model = dict()\n",
    "\n",
    "    for bm25_top_k in without_keyword_params:\n",
    "        file_ending = f\"{entry_per_category}_{bm25_top_k}\"\n",
    "\n",
    "        question_store_path = os.path.join(\n",
    "            store_dir,\n",
    "            f\"{task_header}_train_prompts_questions_without_keyword_{file_ending}.json\",\n",
    "        )\n",
    "        output_store_path = os.path.join(\n",
    "            store_dir,\n",
    "            f\"{task_header}_train_outputs_selected_without_keyword_{file_ending}.json\",\n",
    "        )\n",
    "        curr_task = LaMPTask(\n",
    "            task_question_file=dataset_question_path,\n",
    "            task_output_file=output_store_path,\n",
    "            subscribers={\n",
    "                \"BERTSERINI\": BERTSERINI_Subscriber,\n",
    "                # \"DistilBERT\": DistilBERT_Subscriber,\n",
    "                # \"MiniLM\": MiniLM_Subscriber,\n",
    "                # \"OpenAI\": OpenAI_Subscriber,\n",
    "            },\n",
    "            worker_count=worker_count,\n",
    "            prompt_save_path=question_store_path,\n",
    "            preds_save_path={\n",
    "                \"BERTSERINI\": os.path.join(\n",
    "                    store_dir,\n",
    "                    f\"{task_header}_train_preds_BERTSERINI_without_keyword_{file_ending}.json\",\n",
    "                ),\n",
    "                # \"DistilBERT\": os.path.join(\n",
    "                #     store_dir,\n",
    "                #     f\"{task_header}_train_preds_DistilBERT_without_keyword_{file_ending}.json\",\n",
    "                # ),\n",
    "                # \"MiniLM\": os.path.join(\n",
    "                #     store_dir,\n",
    "                #     f\"{task_header}_train_preds_MiniLM_without_keyword_{file_ending}.json\",\n",
    "                # ),\n",
    "                # \"OpenAI\": os.path.join(store_dir,f\"{task_header}_train_preds_OpenAI_without_keyword_{file_ending}.json\"),\n",
    "            },\n",
    "            keyword_extraction=False,\n",
    "        )\n",
    "\n",
    "        ready_model[bm25_top_k] = curr_task\n",
    "        curr_task.load_prompts(question_store_path)\n",
    "        curr_task.subscribe(\n",
    "            skip_eval=True,\n",
    "            api_keys=api_keys,\n",
    "        )\n",
    "\n",
    "\n",
    "def task_1_without_keywords_eval(\n",
    "    without_keyword_params, ready_models: Dict[Tuple[int, int], LaMPTask] = None\n",
    "):\n",
    "    if ready_models is not None:\n",
    "        for bm25_top_k, curr_task in ready_models.items():\n",
    "            curr_task.evaluate()\n",
    "        return\n",
    "\n",
    "    task_header = \"LaMP_1\"\n",
    "    store_dir = os.path.join(\"src\", \"data\", task_header)\n",
    "    dataset_question_path = os.path.join(\"src\", \"data\", \"LaMP_1_train_questions.json\")\n",
    "    entry_per_category = 120\n",
    "\n",
    "    evaluated_result = dict()\n",
    "\n",
    "    for bm25_top_k in without_keyword_params:\n",
    "        file_ending = f\"{entry_per_category}_{bm25_top_k}\"\n",
    "        output_store_path = os.path.join(\n",
    "            store_dir,\n",
    "            f\"{task_header}_train_outputs_selected_without_keyword_{file_ending}.json\",\n",
    "        )\n",
    "        curr_task = LaMPTask(\n",
    "            task_question_file=dataset_question_path,\n",
    "            task_output_file=output_store_path,\n",
    "            subscribers={\n",
    "                \"BERTSERINI\": BERTSERINI_Subscriber,\n",
    "                # \"DistilBERT\": DistilBERT_Subscriber,\n",
    "                # \"MiniLM\": MiniLM_Subscriber,\n",
    "                # \"OpenAI\": OpenAI_Subscriber,\n",
    "            },\n",
    "        )\n",
    "        curr_task.evaluate(\n",
    "            preds_save_name={\n",
    "                \"BERTSERINI\": os.path.join(\n",
    "                    store_dir,\n",
    "                    f\"{task_header}_train_preds_BERTSERINI_without_keyword_{file_ending}.json\",\n",
    "                ),\n",
    "                # \"DistilBERT\": os.path.join(\n",
    "                #     store_dir,\n",
    "                #     f\"{task_header}_train_preds_DistilBERT_without_keyword_{file_ending}.json\",\n",
    "                # ),\n",
    "                # \"MiniLM\": os.path.join(\n",
    "                #     store_dir,\n",
    "                #     f\"{task_header}_train_preds_MiniLM_without_keyword_{file_ending}.json\",\n",
    "                # ),\n",
    "                # \"OpenAI\": os.path.join(store_dir,f\"{task_header}_train_preds_OpenAI_without_keyword_{file_ending}.json\"),\n",
    "            }\n",
    "        )\n",
    "        print(curr_task.score)\n",
    "        evaluated_result[f\"{bm25_top_k}\"] = curr_task.score\n",
    "    return evaluated_result"
   ]
  },
  {
   "cell_type": "code",
   "execution_count": 28,
   "id": "c65114dc",
   "metadata": {},
   "outputs": [],
   "source": [
    "debug = False\n",
    "without_keyword_params = [2, 4]\n",
    "without_keyword_params = [4]"
   ]
  },
  {
   "cell_type": "code",
   "execution_count": 30,
   "id": "cb7136bd",
   "metadata": {},
   "outputs": [
    {
     "data": {
      "application/vnd.jupyter.widget-view+json": {
       "model_id": "37684ef766ce441499fdce11b26eabcf",
       "version_major": 2,
       "version_minor": 0
      },
      "text/plain": [
       "Output()"
      ]
     },
     "metadata": {},
     "output_type": "display_data"
    },
    {
     "data": {
      "text/html": [
       "<pre style=\"white-space:pre;overflow-x:auto;line-height:normal;font-family:Menlo,'DejaVu Sans Mono',consolas,'Courier New',monospace\">['00188', '00264', '00250', '009', '00387', '0060', '00227', '00371', '00467', '00521', '00531', '00544', '00847', \n",
       "'00605', '00594', '00625', '00591', '00916', '00914', '00961', '00983', '001111', '001231', '00982', '001146', \n",
       "'001238', '00973', '001275', '001350', '001335', '001326', '001346', '001413', '001428', '001404', '001479', \n",
       "'001606', '001662', '001677', '001839', '001831', '001589', '001722', '001634', '002024', '002136', '002224', \n",
       "'002229', '001929', '002422', '001985', '002017', '002532', '002662', '002785', '002672', '002681', '002614', \n",
       "'002568', '002664', '002819', '002993', '002814', '003127', '002842', '002950', '003003', '002797', '003253', \n",
       "'003186', '003247', '003137', '003232', '003275', '003311', '003203', '003384', '003332', '003549', '003495', \n",
       "'003614', '003316', '003413', '003398', '003971', '003814', '003924', '003912', '003833', '003636', '003733', \n",
       "'003941', '003999', '004158', '004173', '004065', '004305', '004097', '004166', '004195', '004680', '004402', \n",
       "'004418', '004406', '004414', '004724', '004553', '004337', '004765', '004730', '004886', '004885', '004832', \n",
       "'004786', '004739', '004840', '005035', '005204', '004920', '005021', '005073', '005208', '004918', '005219', \n",
       "'005516', '005367', '005489', '005353', '005631', '005436', '005777', '005764', '005930', '006090', '005970', \n",
       "'006079', '005879', '005835', '005952', '005959', '006297', '006286', '006215', '006194', '006298', '006129', \n",
       "'006311', '006332', '006808', '006445', '006632', '006339', '006915', '006476', '006373', '006493', '006991', \n",
       "'007048', '007023', '007054', '007037', '007051', '006977', '007069', '007404', '007326', '007296', '007202', \n",
       "'007315', '007184', '007250', '007225', '007405', '007853', '007420', '007894', '007749', '007618', '007741', \n",
       "'007623', '007718', '007939', '007935', '007973', '008217', '008222', '008319', '007963', '008017', '008019', \n",
       "'008238', '008261', '008257', '008341', '008349', '008364', '008493', '008519', '008585', '008347', '008426', \n",
       "'008484', '008360', '008525', '008481', '008594', '008608', '008796', '008824', '008617', '008735', '008722', \n",
       "'008675', '008676', '008804', '008828', '008985', '008978', '008956', '009001', '009060', '008975', '009095', \n",
       "'009241', '009123', '009163', '009117', '009131', '009235', '009314', '009659', '009470', '009380', '009680']\n",
       "</pre>\n"
      ],
      "text/plain": [
       "['00188', '00264', '00250', '009', '00387', '0060', '00227', '00371', '00467', '00521', '00531', '00544', '00847', \n",
       "'00605', '00594', '00625', '00591', '00916', '00914', '00961', '00983', '001111', '001231', '00982', '001146', \n",
       "'001238', '00973', '001275', '001350', '001335', '001326', '001346', '001413', '001428', '001404', '001479', \n",
       "'001606', '001662', '001677', '001839', '001831', '001589', '001722', '001634', '002024', '002136', '002224', \n",
       "'002229', '001929', '002422', '001985', '002017', '002532', '002662', '002785', '002672', '002681', '002614', \n",
       "'002568', '002664', '002819', '002993', '002814', '003127', '002842', '002950', '003003', '002797', '003253', \n",
       "'003186', '003247', '003137', '003232', '003275', '003311', '003203', '003384', '003332', '003549', '003495', \n",
       "'003614', '003316', '003413', '003398', '003971', '003814', '003924', '003912', '003833', '003636', '003733', \n",
       "'003941', '003999', '004158', '004173', '004065', '004305', '004097', '004166', '004195', '004680', '004402', \n",
       "'004418', '004406', '004414', '004724', '004553', '004337', '004765', '004730', '004886', '004885', '004832', \n",
       "'004786', '004739', '004840', '005035', '005204', '004920', '005021', '005073', '005208', '004918', '005219', \n",
       "'005516', '005367', '005489', '005353', '005631', '005436', '005777', '005764', '005930', '006090', '005970', \n",
       "'006079', '005879', '005835', '005952', '005959', '006297', '006286', '006215', '006194', '006298', '006129', \n",
       "'006311', '006332', '006808', '006445', '006632', '006339', '006915', '006476', '006373', '006493', '006991', \n",
       "'007048', '007023', '007054', '007037', '007051', '006977', '007069', '007404', '007326', '007296', '007202', \n",
       "'007315', '007184', '007250', '007225', '007405', '007853', '007420', '007894', '007749', '007618', '007741', \n",
       "'007623', '007718', '007939', '007935', '007973', '008217', '008222', '008319', '007963', '008017', '008019', \n",
       "'008238', '008261', '008257', '008341', '008349', '008364', '008493', '008519', '008585', '008347', '008426', \n",
       "'008484', '008360', '008525', '008481', '008594', '008608', '008796', '008824', '008617', '008735', '008722', \n",
       "'008675', '008676', '008804', '008828', '008985', '008978', '008956', '009001', '009060', '008975', '009095', \n",
       "'009241', '009123', '009163', '009117', '009131', '009235', '009314', '009659', '009470', '009380', '009680']\n"
      ]
     },
     "metadata": {},
     "output_type": "display_data"
    },
    {
     "data": {
      "text/html": [
       "<pre style=\"white-space:pre;overflow-x:auto;line-height:normal;font-family:Menlo,'DejaVu Sans Mono',consolas,'Courier New',monospace\"></pre>\n"
      ],
      "text/plain": []
     },
     "metadata": {},
     "output_type": "display_data"
    },
    {
     "data": {
      "text/html": [
       "<pre style=\"white-space:pre;overflow-x:auto;line-height:normal;font-family:Menlo,'DejaVu Sans Mono',consolas,'Courier New',monospace\">\n",
       "</pre>\n"
      ],
      "text/plain": [
       "\n"
      ]
     },
     "metadata": {},
     "output_type": "display_data"
    }
   ],
   "source": [
    "ready_models_no_keywords = task_1_without_keywords_query(\n",
    "    without_keyword_params, debug=debug\n",
    ")"
   ]
  },
  {
   "cell_type": "code",
   "execution_count": 31,
   "id": "13405aec",
   "metadata": {},
   "outputs": [
    {
     "name": "stdout",
     "output_type": "stream",
     "text": [
      "{'BERTSERINI': {'accuracy': 0.3191489361702128, 'f1': 0.2987044882421563}}\n"
     ]
    }
   ],
   "source": [
    "evaluate_results_no_keywords = task_1_without_keywords_eval(without_keyword_params)"
   ]
  }
 ],
 "metadata": {
  "kernelspec": {
   "display_name": "Python 3 (ipykernel)",
   "language": "python",
   "name": "python3"
  },
  "language_info": {
   "codemirror_mode": {
    "name": "ipython",
    "version": 3
   },
   "file_extension": ".py",
   "mimetype": "text/x-python",
   "name": "python",
   "nbconvert_exporter": "python",
   "pygments_lexer": "ipython3",
   "version": "3.11.5"
  },
  "vscode": {
   "interpreter": {
    "hash": "e0dc0b78bb79ceedacc4b28a7c7a95f5c8ff7649848bf08868c2ee4cc7d3ac45"
   }
  }
 },
 "nbformat": 4,
 "nbformat_minor": 5
}
