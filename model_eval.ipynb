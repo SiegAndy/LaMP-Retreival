{
 "cells": [
  {
   "cell_type": "code",
   "execution_count": 1,
   "outputs": [
    {
     "name": "stdout",
     "output_type": "stream",
     "text": [
      "/Users/kaiye/Desktop/COMPSCI646/LaMP-Retreival/src\n"
     ]
    },
    {
     "name": "stderr",
     "output_type": "stream",
     "text": [
      "/Users/kaiye/Desktop/COMPSCI646/LaMP-Retreival/venv/lib/python3.9/site-packages/IPython/core/magics/osm.py:417: UserWarning: using dhist requires you to install the `pickleshare` library.\n",
      "  self.shell.db['dhist'] = compress_dhist(dhist)[-100:]\n"
     ]
    }
   ],
   "source": [
    "import sys\n",
    "from src.model_tokenizer_generator import *\n",
    "from src.dataset_generator import *\n",
    "%cd src"
   ],
   "metadata": {
    "collapsed": false,
    "ExecuteTime": {
     "end_time": "2023-11-28T19:58:37.405385Z",
     "start_time": "2023-11-28T19:58:33.349646Z"
    }
   },
   "id": "3864b447a2f210f0"
  },
  {
   "cell_type": "code",
   "execution_count": 2,
   "outputs": [],
   "source": [
    "LaMP_1_train_X, LaMP_1_train_y = generate_np_X_y(\"train\", \"LaMP_1\")\n",
    "LaMP_1_val_X, LaMP_1_val_y = generate_np_X_y(\"dev\", \"LaMP_1\")\n",
    "LaMP_1_test_X = generate_np_test_X(\"LaMP_1\")"
   ],
   "metadata": {
    "collapsed": false,
    "ExecuteTime": {
     "end_time": "2023-11-28T19:58:37.617197Z",
     "start_time": "2023-11-28T19:58:37.412745Z"
    }
   },
   "id": "bcd4813b9a2f155a"
  },
  {
   "cell_type": "code",
   "execution_count": 3,
   "outputs": [
    {
     "name": "stdout",
     "output_type": "stream",
     "text": [
      "(9682,)\n",
      "(9682,)\n",
      "(2500,)\n",
      "(2500,)\n",
      "(2500,)\n"
     ]
    }
   ],
   "source": [
    "print(LaMP_1_train_X.shape)\n",
    "print(LaMP_1_train_y.shape)\n",
    "print(LaMP_1_val_X.shape)\n",
    "print(LaMP_1_val_y.shape)\n",
    "print(LaMP_1_test_X.shape)"
   ],
   "metadata": {
    "collapsed": false,
    "ExecuteTime": {
     "end_time": "2023-11-28T19:58:37.845200Z",
     "start_time": "2023-11-28T19:58:37.800906Z"
    }
   },
   "id": "bc15a1f2042e8f8c"
  },
  {
   "cell_type": "code",
   "execution_count": null,
   "id": "initial_id",
   "metadata": {
    "collapsed": true
   },
   "outputs": [],
   "source": [
    "print(sys.version)\n",
    "device = torch.device(\"cpu\")\n",
    "T5_L_MODEL_PATH = \"./model/T5_model/flan-t5-large/config.json\"\n",
    "T5_L_TOKENIZER_PATH = \"./model/T5_model/flan-t5-large/\"\n",
    "file = open(\"./model/T5_model/question.txt\", \"r\")\n",
    "input_text = file.read()"
   ]
  },
  {
   "cell_type": "code",
   "execution_count": null,
   "outputs": [],
   "source": [
    "flan_T5_large = \"google/flan-t5-large\"\n",
    "flan_T5_large_path =  \"./model/T5_model/flan-t5-large/\"\n",
    "get_and_save_T5_model(flan_T5_large, flan_T5_large_path)"
   ],
   "metadata": {
    "collapsed": false
   },
   "id": "7eedf6864a907371"
  },
  {
   "cell_type": "code",
   "execution_count": null,
   "outputs": [],
   "source": [
    "print(\"start loading model\")\n",
    "\n",
    "t5_large_model = getT5Model_with_device(T5_L_MODEL_PATH, device)\n",
    "\n",
    "print(\"finished loading model\")\n",
    "print(\"start loading tokenizer\")\n",
    "\n",
    "t5_large_tokenizer = getT5Tokenizer(T5_L_TOKENIZER_PATH)\n",
    "\n",
    "print(\"finished loading tokenizer\")"
   ],
   "metadata": {
    "collapsed": false
   },
   "id": "1f5e9b9aeddfd607"
  },
  {
   "cell_type": "code",
   "execution_count": null,
   "outputs": [],
   "source": [
    "result = generate_result_by_device(t5_large_model, t5_large_tokenizer, input_text, device)\n",
    "print(t5_large_tokenizer.decode(result[0]))"
   ],
   "metadata": {
    "collapsed": false
   },
   "id": "42d469f90b2219de"
  },
  {
   "cell_type": "code",
   "execution_count": null,
   "outputs": [],
   "source": [
    "# from openai import OpenAI\n",
    "# client = OpenAI()\n",
    "# \n",
    "# completion = client.chat.completions.create(\n",
    "#   model=\"ada v2\",\n",
    "#   messages=[\n",
    "#     {\"role\": \"system\", \"content\": \"You are a helpful assistant.\"},\n",
    "#     {\"role\": \"user\", \"content\": input_text}\n",
    "#   ]\n",
    "# )\n",
    "# \n",
    "# print(completion.choices[0].message)"
   ],
   "metadata": {
    "collapsed": false
   },
   "id": "eeaffdfc86d32793"
  },
  {
   "cell_type": "code",
   "execution_count": null,
   "outputs": [],
   "source": [],
   "metadata": {
    "collapsed": false
   },
   "id": "fb38d833880bb413"
  }
 ],
 "metadata": {
  "kernelspec": {
   "display_name": "Python 3",
   "language": "python",
   "name": "python3"
  },
  "language_info": {
   "codemirror_mode": {
    "name": "ipython",
    "version": 2
   },
   "file_extension": ".py",
   "mimetype": "text/x-python",
   "name": "python",
   "nbconvert_exporter": "python",
   "pygments_lexer": "ipython2",
   "version": "2.7.6"
  }
 },
 "nbformat": 4,
 "nbformat_minor": 5
}
