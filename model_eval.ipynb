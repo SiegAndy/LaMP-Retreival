{
 "cells": [
  {
   "cell_type": "code",
   "execution_count": 1,
   "outputs": [
    {
     "name": "stdout",
     "output_type": "stream",
     "text": [
      "/Users/kaiye/Desktop/COMPSCI646/LaMP-Retreival/src\n"
     ]
    }
   ],
   "source": [
    "import sys\n",
    "from src.dataset_generator import *\n",
    "from src.models.model_utils import *\n",
    "%cd src"
   ],
   "metadata": {
    "collapsed": false,
    "ExecuteTime": {
     "end_time": "2023-11-29T18:31:12.150121Z",
     "start_time": "2023-11-29T18:31:08.733614Z"
    }
   },
   "id": "3864b447a2f210f0"
  },
  {
   "cell_type": "code",
   "execution_count": 2,
   "outputs": [],
   "source": [
    "LaMP_1_val_X_prompted, LaMP_1_val_y_prompted = generate_np_X_y(\"dev\", \"LaMP_1\")\n"
   ],
   "metadata": {
    "collapsed": false,
    "ExecuteTime": {
     "end_time": "2023-11-29T18:31:14.053753Z",
     "start_time": "2023-11-29T18:31:14.001100Z"
    }
   },
   "id": "bcd4813b9a2f155a"
  },
  {
   "cell_type": "code",
   "execution_count": 6,
   "outputs": [
    {
     "name": "stdout",
     "output_type": "stream",
     "text": [
      "Here are the documents ranked by relevance, with titles and keywords, from most relevant to least relevant, for the topic of 'Visual-audio integration for user authentication system of partner robots':\n",
      "title: \"Adaptive fuzzy logic controller for vehicle active suspensions with interval type-2 fuzzy membership functions\" with keywords: [fuzzy, active, interval, uncertainty, controller]\n",
      "title: \"Asymmetric LSH (ALSH) for Sublinear Time Maximum Inner Product Search (MIPS).\" with keywords: [hashing, mips, lsh, scheme, asymmetric]\n",
      "title: \"Training Logistic Regression and SVM on 200GB Data Using b-Bit Minwise Hashing and Comparisons with Vowpal Wabbit (VW)\" with keywords: [hashing, data, b-bit, one, permutation]\n",
      "title: \"Partial Hard Thresholding: Towards A Principled Analysis of Support Recovery.\" with keywords: [pht, kappa, compressed, signal, hard]\n",
      "title: \"Logician: A Unified End-to-End Neural Approach for Open-Domain Information Extraction.\" with keywords: [fact, logician, saoke, sentence, relation]\n",
      "Given above information, for an author who has written the paper with the title \"Visual-audio integration for user authentication system of partner robots\", which reference is related? Just answer with 1 or 2 without explanation. 1 is \"Pronunciation Modeling for Improved Spelling Correction\" 2 is \"Path following algorithm for highly redundant manipulators\"\n"
     ]
    }
   ],
   "source": [
    "print(LaMP_1_val_X_prompted[0])"
   ],
   "metadata": {
    "collapsed": false,
    "ExecuteTime": {
     "end_time": "2023-11-29T18:32:23.857379Z",
     "start_time": "2023-11-29T18:32:23.831359Z"
    }
   },
   "id": "3573f9c5823caffa"
  },
  {
   "cell_type": "code",
   "execution_count": 4,
   "outputs": [
    {
     "name": "stdout",
     "output_type": "stream",
     "text": [
      "ChatCompletionMessage(content='2', role='assistant', function_call=None, tool_calls=None)\n"
     ]
    }
   ],
   "source": [
    "from openai import OpenAI\n",
    "client = OpenAI()\n",
    "\n",
    "completion = client.chat.completions.create(\n",
    "  model=\"gpt-3.5-turbo\",\n",
    "  messages=[\n",
    "    {\"role\": \"system\", \"content\": \"You are a helpful assistant.\"},\n",
    "    {\"role\": \"user\", \"content\": LaMP_1_val_X_prompted[0]}\n",
    "  ]\n",
    ")\n",
    "\n",
    "print(completion.choices[0].message.content)"
   ],
   "metadata": {
    "collapsed": false,
    "ExecuteTime": {
     "end_time": "2023-11-29T18:31:25.722998Z",
     "start_time": "2023-11-29T18:31:24.202271Z"
    }
   },
   "id": "eeaffdfc86d32793"
  },
  {
   "cell_type": "code",
   "execution_count": null,
   "outputs": [],
   "source": [],
   "metadata": {
    "collapsed": false
   },
   "id": "fb38d833880bb413"
  }
 ],
 "metadata": {
  "kernelspec": {
   "display_name": "Python 3",
   "language": "python",
   "name": "python3"
  },
  "language_info": {
   "codemirror_mode": {
    "name": "ipython",
    "version": 2
   },
   "file_extension": ".py",
   "mimetype": "text/x-python",
   "name": "python",
   "nbconvert_exporter": "python",
   "pygments_lexer": "ipython2",
   "version": "2.7.6"
  }
 },
 "nbformat": 4,
 "nbformat_minor": 5
}
