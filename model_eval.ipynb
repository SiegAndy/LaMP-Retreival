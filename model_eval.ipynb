{
 "cells": [
  {
   "cell_type": "code",
   "execution_count": 2,
   "id": "3864b447a2f210f0",
   "metadata": {
    "ExecuteTime": {
     "end_time": "2023-11-30T18:10:35.774248Z",
     "start_time": "2023-11-30T18:10:30.831190Z"
    }
   },
   "outputs": [],
   "source": [
    "import sys\n",
    "import os\n",
    "from src.utils import default_data_path, config_to_env\n",
    "from src.task import LaMPTask\n",
    "from src.models import (\n",
    "    feed_prompt_to_lm,\n",
    "    feed_prompts_to_lm,\n",
    "    OpenAIModel,\n",
    "    task_1_parse_response,\n",
    "    task_2_parse_response,\n",
    "    DistilBERTModel,\n",
    "    BERTSERINIModel,\n",
    ")"
   ]
  },
  {
   "cell_type": "code",
   "execution_count": 3,
   "id": "e4dec76a",
   "metadata": {
    "ExecuteTime": {
     "end_time": "2023-11-30T18:10:35.803973Z",
     "start_time": "2023-11-30T18:10:35.778767Z"
    }
   },
   "outputs": [],
   "source": [
    "config_to_env(\"OPENAI_API_KEY\")"
   ]
  },
  {
   "cell_type": "code",
   "execution_count": 4,
   "id": "0d2838d5",
   "metadata": {
    "ExecuteTime": {
     "end_time": "2023-11-30T18:10:35.804478Z",
     "start_time": "2023-11-30T18:10:35.783113Z"
    }
   },
   "outputs": [],
   "source": [
    "OpenAI_Subscriber = lambda prompts, ret: feed_prompts_to_lm(\n",
    "    model=OpenAIModel(), prompts=prompts, ret=ret, callback=task_2_parse_response\n",
    ")\n",
    "DistilBERT_Subscriber = lambda prompts, ret: feed_prompts_to_lm(\n",
    "    model=DistilBERTModel(), prompts=prompts, ret=ret, callback=task_2_parse_response\n",
    ")\n",
    "\n",
    "BERTSERINI_Subscriber = lambda prompts, ret: feed_prompts_to_lm(\n",
    "    model=BERTSERINIModel(), prompts=prompts, ret=ret, callback=task_2_parse_response\n",
    ")"
   ]
  },
  {
   "cell_type": "code",
   "execution_count": 5,
   "id": "8a8ce4f6",
   "metadata": {},
   "outputs": [],
   "source": [
    "OpenAI_Subscriber_2 = lambda id, prompt: feed_prompt_to_lm(\n",
    "    model=OpenAIModel(), id=id, prompt=prompt, callback=task_2_parse_response\n",
    ")\n",
    "DistilBERT_Subscriber_2 = lambda id, prompt: feed_prompt_to_lm(\n",
    "    model=DistilBERTModel(), id=id, prompt=prompt, callback=task_2_parse_response\n",
    ")\n",
    "BERTSERINI_Subscriber_2 = lambda id, prompt: feed_prompt_to_lm(\n",
    "    model=BERTSERINIModel(), id=id, prompt=prompt, callback=task_2_parse_response\n",
    ")"
   ]
  },
  {
   "cell_type": "code",
   "execution_count": 10,
   "id": "e1fa06ed",
   "metadata": {
    "ExecuteTime": {
     "end_time": "2023-11-30T18:10:37.680350Z",
     "start_time": "2023-11-30T18:10:35.787695Z"
    }
   },
   "outputs": [],
   "source": [
    "task_1_train_with_keyword = LaMPTask(\n",
    "    \"./src/data/LaMP_2_train_questions.json\",\n",
    "    # \"./src/data/LaMP_22_train_questions.json\",\n",
    "    # \"./src/data/LaMP_1_dev_questions.json\",\n",
    "    # \"./src/data/LaMP_1_dev_outputs.json\",\n",
    "    # \"./src/data/LaMP_22_train_output_1_with_keywords.json\",\n",
    "    \"./src/data/LaMP_2_train_output_12.json\",\n",
    "    subscribers={\n",
    "        # \"BERTSERINI\": BERTSERINI_Subscriber_2,\n",
    "        # \"DistilBERT\": DistilBERT_Subscriber_2,\n",
    "        \"OpenAI\": OpenAI_Subscriber_2,\n",
    "    },\n",
    "    worker_count=16,\n",
    "    # subscribers={},\n",
    "    prompt_save_path=default_data_path,\n",
    "    keyword_extraction = False\n",
    ")\n"
   ]
  },
  {
   "cell_type": "code",
   "execution_count": 11,
   "id": "787a73ef",
   "metadata": {},
   "outputs": [
    {
     "data": {
      "application/vnd.jupyter.widget-view+json": {
       "model_id": "ec282c3b3f254bc991af7b6981f18c63",
       "version_major": 2,
       "version_minor": 0
      },
      "text/plain": [
       "Output()"
      ]
     },
     "metadata": {},
     "output_type": "display_data"
    },
    {
     "data": {
      "text/html": [
       "<pre style=\"white-space:pre;overflow-x:auto;line-height:normal;font-family:Menlo,'DejaVu Sans Mono',consolas,'Courier New',monospace\">OpenAIModel is processing the question 10169\n",
       "</pre>\n"
      ],
      "text/plain": [
       "OpenAIModel is processing the question 10169\n"
      ]
     },
     "metadata": {},
     "output_type": "display_data"
    },
    {
     "data": {
      "text/html": [
       "<pre style=\"white-space:pre;overflow-x:auto;line-height:normal;font-family:Menlo,'DejaVu Sans Mono',consolas,'Courier New',monospace\">OpenAIModel is processing the question 10511\n",
       "</pre>\n"
      ],
      "text/plain": [
       "OpenAIModel is processing the question 10511\n"
      ]
     },
     "metadata": {},
     "output_type": "display_data"
    },
    {
     "data": {
      "text/html": [
       "<pre style=\"white-space:pre;overflow-x:auto;line-height:normal;font-family:Menlo,'DejaVu Sans Mono',consolas,'Courier New',monospace\">OpenAIModel finished the question 10560 took 0.5247049331665039\n",
       "</pre>\n"
      ],
      "text/plain": [
       "OpenAIModel finished the question 10560 took 0.5247049331665039\n"
      ]
     },
     "metadata": {},
     "output_type": "display_data"
    },
    {
     "data": {
      "text/html": [
       "<pre style=\"white-space:pre;overflow-x:auto;line-height:normal;font-family:Menlo,'DejaVu Sans Mono',consolas,'Courier New',monospace\">OpenAIModel finished the question 10729 took 0.5926153659820557\n",
       "</pre>\n"
      ],
      "text/plain": [
       "OpenAIModel finished the question 10729 took 0.5926153659820557\n"
      ]
     },
     "metadata": {},
     "output_type": "display_data"
    },
    {
     "data": {
      "text/html": [
       "<pre style=\"white-space:pre;overflow-x:auto;line-height:normal;font-family:Menlo,'DejaVu Sans Mono',consolas,'Courier New',monospace\">OpenAIModel finished the question 10511 took 0.6646909713745117\n",
       "</pre>\n"
      ],
      "text/plain": [
       "OpenAIModel finished the question 10511 took 0.6646909713745117\n"
      ]
     },
     "metadata": {},
     "output_type": "display_data"
    },
    {
     "data": {
      "text/html": [
       "<pre style=\"white-space:pre;overflow-x:auto;line-height:normal;font-family:Menlo,'DejaVu Sans Mono',consolas,'Courier New',monospace\">OpenAIModel finished the question 10295 took 0.6150949001312256\n",
       "</pre>\n"
      ],
      "text/plain": [
       "OpenAIModel finished the question 10295 took 0.6150949001312256\n"
      ]
     },
     "metadata": {},
     "output_type": "display_data"
    },
    {
     "data": {
      "text/html": [
       "<pre style=\"white-space:pre;overflow-x:auto;line-height:normal;font-family:Menlo,'DejaVu Sans Mono',consolas,'Courier New',monospace\">OpenAIModel finished the question 10202 took 0.6275985240936279\n",
       "</pre>\n"
      ],
      "text/plain": [
       "OpenAIModel finished the question 10202 took 0.6275985240936279\n"
      ]
     },
     "metadata": {},
     "output_type": "display_data"
    },
    {
     "data": {
      "text/html": [
       "<pre style=\"white-space:pre;overflow-x:auto;line-height:normal;font-family:Menlo,'DejaVu Sans Mono',consolas,'Courier New',monospace\">OpenAIModel finished the question 10555 took 0.677682638168335\n",
       "</pre>\n"
      ],
      "text/plain": [
       "OpenAIModel finished the question 10555 took 0.677682638168335\n"
      ]
     },
     "metadata": {},
     "output_type": "display_data"
    },
    {
     "data": {
      "text/html": [
       "<pre style=\"white-space:pre;overflow-x:auto;line-height:normal;font-family:Menlo,'DejaVu Sans Mono',consolas,'Courier New',monospace\">OpenAIModel finished the question 10383 took 0.659644365310669\n",
       "</pre>\n"
      ],
      "text/plain": [
       "OpenAIModel finished the question 10383 took 0.659644365310669\n"
      ]
     },
     "metadata": {},
     "output_type": "display_data"
    },
    {
     "data": {
      "text/html": [
       "<pre style=\"white-space:pre;overflow-x:auto;line-height:normal;font-family:Menlo,'DejaVu Sans Mono',consolas,'Courier New',monospace\">OpenAIModel finished the question 10169 took 0.7868099212646484\n",
       "</pre>\n"
      ],
      "text/plain": [
       "OpenAIModel finished the question 10169 took 0.7868099212646484\n"
      ]
     },
     "metadata": {},
     "output_type": "display_data"
    },
    {
     "data": {
      "text/html": [
       "<pre style=\"white-space:pre;overflow-x:auto;line-height:normal;font-family:Menlo,'DejaVu Sans Mono',consolas,'Courier New',monospace\">OpenAIModel finished the question 10458 took 0.7592916488647461\n",
       "</pre>\n"
      ],
      "text/plain": [
       "OpenAIModel finished the question 10458 took 0.7592916488647461\n"
      ]
     },
     "metadata": {},
     "output_type": "display_data"
    },
    {
     "data": {
      "text/html": [
       "<pre style=\"white-space:pre;overflow-x:auto;line-height:normal;font-family:Menlo,'DejaVu Sans Mono',consolas,'Courier New',monospace\">OpenAIModel finished the question 104 took 0.7287685871124268\n",
       "</pre>\n"
      ],
      "text/plain": [
       "OpenAIModel finished the question 104 took 0.7287685871124268\n"
      ]
     },
     "metadata": {},
     "output_type": "display_data"
    },
    {
     "data": {
      "text/html": [
       "<pre style=\"white-space:pre;overflow-x:auto;line-height:normal;font-family:Menlo,'DejaVu Sans Mono',consolas,'Courier New',monospace\">OpenAIModel finished the question 10455 took 0.822242259979248\n",
       "</pre>\n"
      ],
      "text/plain": [
       "OpenAIModel finished the question 10455 took 0.822242259979248\n"
      ]
     },
     "metadata": {},
     "output_type": "display_data"
    },
    {
     "data": {
      "text/html": [
       "<pre style=\"white-space:pre;overflow-x:auto;line-height:normal;font-family:Menlo,'DejaVu Sans Mono',consolas,'Courier New',monospace\">OpenAIModel finished the question 10403 took 0.8798046112060547\n",
       "</pre>\n"
      ],
      "text/plain": [
       "OpenAIModel finished the question 10403 took 0.8798046112060547\n"
      ]
     },
     "metadata": {},
     "output_type": "display_data"
    },
    {
     "data": {
      "text/html": [
       "<pre style=\"white-space:pre;overflow-x:auto;line-height:normal;font-family:Menlo,'DejaVu Sans Mono',consolas,'Courier New',monospace\">OpenAIModel finished the question 10139 took 0.9643583297729492\n",
       "</pre>\n"
      ],
      "text/plain": [
       "OpenAIModel finished the question 10139 took 0.9643583297729492\n"
      ]
     },
     "metadata": {},
     "output_type": "display_data"
    },
    {
     "data": {
      "text/html": [
       "<pre style=\"white-space:pre;overflow-x:auto;line-height:normal;font-family:Menlo,'DejaVu Sans Mono',consolas,'Courier New',monospace\">OpenAIModel is processing the question 10488\n",
       "</pre>\n"
      ],
      "text/plain": [
       "OpenAIModel is processing the question 10488\n"
      ]
     },
     "metadata": {},
     "output_type": "display_data"
    },
    {
     "data": {
      "text/html": [
       "<pre style=\"white-space:pre;overflow-x:auto;line-height:normal;font-family:Menlo,'DejaVu Sans Mono',consolas,'Courier New',monospace\">OpenAIModel finished the question 10597 took 1.2252435684204102\n",
       "</pre>\n"
      ],
      "text/plain": [
       "OpenAIModel finished the question 10597 took 1.2252435684204102\n"
      ]
     },
     "metadata": {},
     "output_type": "display_data"
    },
    {
     "data": {
      "text/html": [
       "<pre style=\"white-space:pre;overflow-x:auto;line-height:normal;font-family:Menlo,'DejaVu Sans Mono',consolas,'Courier New',monospace\">OpenAIModel is processing the question 10243\n",
       "</pre>\n"
      ],
      "text/plain": [
       "OpenAIModel is processing the question 10243\n"
      ]
     },
     "metadata": {},
     "output_type": "display_data"
    },
    {
     "data": {
      "text/html": [
       "<pre style=\"white-space:pre;overflow-x:auto;line-height:normal;font-family:Menlo,'DejaVu Sans Mono',consolas,'Courier New',monospace\">OpenAIModel is processing the question 101129\n",
       "</pre>\n"
      ],
      "text/plain": [
       "OpenAIModel is processing the question 101129\n"
      ]
     },
     "metadata": {},
     "output_type": "display_data"
    },
    {
     "data": {
      "text/html": [
       "<pre style=\"white-space:pre;overflow-x:auto;line-height:normal;font-family:Menlo,'DejaVu Sans Mono',consolas,'Courier New',monospace\">OpenAIModel is processing the question 10536\n",
       "</pre>\n"
      ],
      "text/plain": [
       "OpenAIModel is processing the question 10536\n"
      ]
     },
     "metadata": {},
     "output_type": "display_data"
    },
    {
     "data": {
      "text/html": [
       "<pre style=\"white-space:pre;overflow-x:auto;line-height:normal;font-family:Menlo,'DejaVu Sans Mono',consolas,'Courier New',monospace\">OpenAIModel is processing the question 10998\n",
       "</pre>\n"
      ],
      "text/plain": [
       "OpenAIModel is processing the question 10998\n"
      ]
     },
     "metadata": {},
     "output_type": "display_data"
    },
    {
     "data": {
      "text/html": [
       "<pre style=\"white-space:pre;overflow-x:auto;line-height:normal;font-family:Menlo,'DejaVu Sans Mono',consolas,'Courier New',monospace\">OpenAIModel is processing the question 10157\n",
       "</pre>\n"
      ],
      "text/plain": [
       "OpenAIModel is processing the question 10157\n"
      ]
     },
     "metadata": {},
     "output_type": "display_data"
    },
    {
     "data": {
      "text/html": [
       "<pre style=\"white-space:pre;overflow-x:auto;line-height:normal;font-family:Menlo,'DejaVu Sans Mono',consolas,'Courier New',monospace\">OpenAIModel is processing the question 101044\n",
       "</pre>\n"
      ],
      "text/plain": [
       "OpenAIModel is processing the question 101044\n"
      ]
     },
     "metadata": {},
     "output_type": "display_data"
    },
    {
     "data": {
      "text/html": [
       "<pre style=\"white-space:pre;overflow-x:auto;line-height:normal;font-family:Menlo,'DejaVu Sans Mono',consolas,'Courier New',monospace\">OpenAIModel is processing the question 10423\n",
       "</pre>\n"
      ],
      "text/plain": [
       "OpenAIModel is processing the question 10423\n"
      ]
     },
     "metadata": {},
     "output_type": "display_data"
    },
    {
     "data": {
      "text/html": [
       "<pre style=\"white-space:pre;overflow-x:auto;line-height:normal;font-family:Menlo,'DejaVu Sans Mono',consolas,'Courier New',monospace\">OpenAIModel is processing the question 10577\n",
       "</pre>\n"
      ],
      "text/plain": [
       "OpenAIModel is processing the question 10577\n"
      ]
     },
     "metadata": {},
     "output_type": "display_data"
    },
    {
     "data": {
      "text/html": [
       "<pre style=\"white-space:pre;overflow-x:auto;line-height:normal;font-family:Menlo,'DejaVu Sans Mono',consolas,'Courier New',monospace\">OpenAIModel is processing the question 101692\n",
       "</pre>\n"
      ],
      "text/plain": [
       "OpenAIModel is processing the question 101692\n"
      ]
     },
     "metadata": {},
     "output_type": "display_data"
    },
    {
     "data": {
      "text/html": [
       "<pre style=\"white-space:pre;overflow-x:auto;line-height:normal;font-family:Menlo,'DejaVu Sans Mono',consolas,'Courier New',monospace\">OpenAIModel is processing the question 10682\n",
       "</pre>\n"
      ],
      "text/plain": [
       "OpenAIModel is processing the question 10682\n"
      ]
     },
     "metadata": {},
     "output_type": "display_data"
    },
    {
     "data": {
      "text/html": [
       "<pre style=\"white-space:pre;overflow-x:auto;line-height:normal;font-family:Menlo,'DejaVu Sans Mono',consolas,'Courier New',monospace\">OpenAIModel is processing the question 10530\n",
       "</pre>\n"
      ],
      "text/plain": [
       "OpenAIModel is processing the question 10530\n"
      ]
     },
     "metadata": {},
     "output_type": "display_data"
    },
    {
     "data": {
      "text/html": [
       "<pre style=\"white-space:pre;overflow-x:auto;line-height:normal;font-family:Menlo,'DejaVu Sans Mono',consolas,'Courier New',monospace\">OpenAIModel is processing the question 101695\n",
       "</pre>\n"
      ],
      "text/plain": [
       "OpenAIModel is processing the question 101695\n"
      ]
     },
     "metadata": {},
     "output_type": "display_data"
    },
    {
     "data": {
      "text/html": [
       "<pre style=\"white-space:pre;overflow-x:auto;line-height:normal;font-family:Menlo,'DejaVu Sans Mono',consolas,'Courier New',monospace\">OpenAIModel is processing the question 101699\n",
       "</pre>\n"
      ],
      "text/plain": [
       "OpenAIModel is processing the question 101699\n"
      ]
     },
     "metadata": {},
     "output_type": "display_data"
    },
    {
     "data": {
      "text/html": [
       "<pre style=\"white-space:pre;overflow-x:auto;line-height:normal;font-family:Menlo,'DejaVu Sans Mono',consolas,'Courier New',monospace\">OpenAIModel finished the question 10122 took 1.8320643901824951\n",
       "</pre>\n"
      ],
      "text/plain": [
       "OpenAIModel finished the question 10122 took 1.8320643901824951\n"
      ]
     },
     "metadata": {},
     "output_type": "display_data"
    },
    {
     "data": {
      "text/html": [
       "<pre style=\"white-space:pre;overflow-x:auto;line-height:normal;font-family:Menlo,'DejaVu Sans Mono',consolas,'Courier New',monospace\">OpenAIModel finished the question 10204 took 1.7789943218231201\n",
       "</pre>\n"
      ],
      "text/plain": [
       "OpenAIModel finished the question 10204 took 1.7789943218231201\n"
      ]
     },
     "metadata": {},
     "output_type": "display_data"
    },
    {
     "data": {
      "text/html": [
       "<pre style=\"white-space:pre;overflow-x:auto;line-height:normal;font-family:Menlo,'DejaVu Sans Mono',consolas,'Courier New',monospace\">OpenAIModel finished the question 101129 took 0.5528805255889893\n",
       "</pre>\n"
      ],
      "text/plain": [
       "OpenAIModel finished the question 101129 took 0.5528805255889893\n"
      ]
     },
     "metadata": {},
     "output_type": "display_data"
    },
    {
     "data": {
      "text/html": [
       "<pre style=\"white-space:pre;overflow-x:auto;line-height:normal;font-family:Menlo,'DejaVu Sans Mono',consolas,'Courier New',monospace\">OpenAIModel is processing the question 101315\n",
       "</pre>\n"
      ],
      "text/plain": [
       "OpenAIModel is processing the question 101315\n"
      ]
     },
     "metadata": {},
     "output_type": "display_data"
    },
    {
     "data": {
      "text/html": [
       "<pre style=\"white-space:pre;overflow-x:auto;line-height:normal;font-family:Menlo,'DejaVu Sans Mono',consolas,'Courier New',monospace\">OpenAIModel is processing the question 101512\n",
       "</pre>\n"
      ],
      "text/plain": [
       "OpenAIModel is processing the question 101512\n"
      ]
     },
     "metadata": {},
     "output_type": "display_data"
    },
    {
     "data": {
      "text/html": [
       "<pre style=\"white-space:pre;overflow-x:auto;line-height:normal;font-family:Menlo,'DejaVu Sans Mono',consolas,'Courier New',monospace\">OpenAIModel finished the question 101695 took 0.4567866325378418\n",
       "</pre>\n"
      ],
      "text/plain": [
       "OpenAIModel finished the question 101695 took 0.4567866325378418\n"
      ]
     },
     "metadata": {},
     "output_type": "display_data"
    },
    {
     "data": {
      "text/html": [
       "<pre style=\"white-space:pre;overflow-x:auto;line-height:normal;font-family:Menlo,'DejaVu Sans Mono',consolas,'Courier New',monospace\">OpenAIModel finished the question 10423 took 0.5707886219024658\n",
       "</pre>\n"
      ],
      "text/plain": [
       "OpenAIModel finished the question 10423 took 0.5707886219024658\n"
      ]
     },
     "metadata": {},
     "output_type": "display_data"
    },
    {
     "data": {
      "text/html": [
       "<pre style=\"white-space:pre;overflow-x:auto;line-height:normal;font-family:Menlo,'DejaVu Sans Mono',consolas,'Courier New',monospace\">OpenAIModel finished the question 10243 took 0.7867882251739502\n",
       "</pre>\n"
      ],
      "text/plain": [
       "OpenAIModel finished the question 10243 took 0.7867882251739502\n"
      ]
     },
     "metadata": {},
     "output_type": "display_data"
    },
    {
     "data": {
      "text/html": [
       "<pre style=\"white-space:pre;overflow-x:auto;line-height:normal;font-family:Menlo,'DejaVu Sans Mono',consolas,'Courier New',monospace\">OpenAIModel finished the question 10530 took 0.5387861728668213\n",
       "</pre>\n"
      ],
      "text/plain": [
       "OpenAIModel finished the question 10530 took 0.5387861728668213\n"
      ]
     },
     "metadata": {},
     "output_type": "display_data"
    },
    {
     "data": {
      "text/html": [
       "<pre style=\"white-space:pre;overflow-x:auto;line-height:normal;font-family:Menlo,'DejaVu Sans Mono',consolas,'Courier New',monospace\">OpenAIModel is processing the question 101732\n",
       "</pre>\n"
      ],
      "text/plain": [
       "OpenAIModel is processing the question 101732\n"
      ]
     },
     "metadata": {},
     "output_type": "display_data"
    },
    {
     "data": {
      "text/html": [
       "<pre style=\"white-space:pre;overflow-x:auto;line-height:normal;font-family:Menlo,'DejaVu Sans Mono',consolas,'Courier New',monospace\">OpenAIModel finished the question 101044 took 0.7117846012115479\n",
       "</pre>\n"
      ],
      "text/plain": [
       "OpenAIModel finished the question 101044 took 0.7117846012115479\n"
      ]
     },
     "metadata": {},
     "output_type": "display_data"
    },
    {
     "data": {
      "text/html": [
       "<pre style=\"white-space:pre;overflow-x:auto;line-height:normal;font-family:Menlo,'DejaVu Sans Mono',consolas,'Courier New',monospace\">OpenAIModel finished the question 101699 took 0.6023180484771729\n",
       "</pre>\n"
      ],
      "text/plain": [
       "OpenAIModel finished the question 101699 took 0.6023180484771729\n"
      ]
     },
     "metadata": {},
     "output_type": "display_data"
    },
    {
     "data": {
      "text/html": [
       "<pre style=\"white-space:pre;overflow-x:auto;line-height:normal;font-family:Menlo,'DejaVu Sans Mono',consolas,'Courier New',monospace\">OpenAIModel finished the question 10157 took 0.829538106918335\n",
       "</pre>\n"
      ],
      "text/plain": [
       "OpenAIModel finished the question 10157 took 0.829538106918335\n"
      ]
     },
     "metadata": {},
     "output_type": "display_data"
    },
    {
     "data": {
      "text/html": [
       "<pre style=\"white-space:pre;overflow-x:auto;line-height:normal;font-family:Menlo,'DejaVu Sans Mono',consolas,'Courier New',monospace\">OpenAIModel finished the question 10998 took 0.8595390319824219\n",
       "</pre>\n"
      ],
      "text/plain": [
       "OpenAIModel finished the question 10998 took 0.8595390319824219\n"
      ]
     },
     "metadata": {},
     "output_type": "display_data"
    },
    {
     "data": {
      "text/html": [
       "<pre style=\"white-space:pre;overflow-x:auto;line-height:normal;font-family:Menlo,'DejaVu Sans Mono',consolas,'Courier New',monospace\">OpenAIModel finished the question 101315 took 0.6051421165466309\n",
       "</pre>\n"
      ],
      "text/plain": [
       "OpenAIModel finished the question 101315 took 0.6051421165466309\n"
      ]
     },
     "metadata": {},
     "output_type": "display_data"
    },
    {
     "data": {
      "text/html": [
       "<pre style=\"white-space:pre;overflow-x:auto;line-height:normal;font-family:Menlo,'DejaVu Sans Mono',consolas,'Courier New',monospace\">OpenAIModel is processing the question 101241\n",
       "</pre>\n"
      ],
      "text/plain": [
       "OpenAIModel is processing the question 101241\n"
      ]
     },
     "metadata": {},
     "output_type": "display_data"
    },
    {
     "data": {
      "text/html": [
       "<pre style=\"white-space:pre;overflow-x:auto;line-height:normal;font-family:Menlo,'DejaVu Sans Mono',consolas,'Courier New',monospace\">OpenAIModel finished the question 101732 took 0.45975399017333984\n",
       "</pre>\n"
      ],
      "text/plain": [
       "OpenAIModel finished the question 101732 took 0.45975399017333984\n"
      ]
     },
     "metadata": {},
     "output_type": "display_data"
    },
    {
     "data": {
      "text/html": [
       "<pre style=\"white-space:pre;overflow-x:auto;line-height:normal;font-family:Menlo,'DejaVu Sans Mono',consolas,'Courier New',monospace\">OpenAIModel finished the question 101512 took 0.7566196918487549\n",
       "</pre>\n"
      ],
      "text/plain": [
       "OpenAIModel finished the question 101512 took 0.7566196918487549\n"
      ]
     },
     "metadata": {},
     "output_type": "display_data"
    },
    {
     "data": {
      "text/html": [
       "<pre style=\"white-space:pre;overflow-x:auto;line-height:normal;font-family:Menlo,'DejaVu Sans Mono',consolas,'Courier New',monospace\">OpenAIModel is processing the question 101619\n",
       "</pre>\n"
      ],
      "text/plain": [
       "OpenAIModel is processing the question 101619\n"
      ]
     },
     "metadata": {},
     "output_type": "display_data"
    },
    {
     "data": {
      "text/html": [
       "<pre style=\"white-space:pre;overflow-x:auto;line-height:normal;font-family:Menlo,'DejaVu Sans Mono',consolas,'Courier New',monospace\">OpenAIModel is processing the question 101691\n",
       "</pre>\n"
      ],
      "text/plain": [
       "OpenAIModel is processing the question 101691\n"
      ]
     },
     "metadata": {},
     "output_type": "display_data"
    },
    {
     "data": {
      "text/html": [
       "<pre style=\"white-space:pre;overflow-x:auto;line-height:normal;font-family:Menlo,'DejaVu Sans Mono',consolas,'Courier New',monospace\">OpenAIModel is processing the question 101256\n",
       "</pre>\n"
      ],
      "text/plain": [
       "OpenAIModel is processing the question 101256\n"
      ]
     },
     "metadata": {},
     "output_type": "display_data"
    },
    {
     "data": {
      "text/html": [
       "<pre style=\"white-space:pre;overflow-x:auto;line-height:normal;font-family:Menlo,'DejaVu Sans Mono',consolas,'Courier New',monospace\">OpenAIModel is processing the question 101728\n",
       "</pre>\n"
      ],
      "text/plain": [
       "OpenAIModel is processing the question 101728\n"
      ]
     },
     "metadata": {},
     "output_type": "display_data"
    },
    {
     "data": {
      "text/html": [
       "<pre style=\"white-space:pre;overflow-x:auto;line-height:normal;font-family:Menlo,'DejaVu Sans Mono',consolas,'Courier New',monospace\">OpenAIModel finished the question 10536 took 1.59415864944458\n",
       "</pre>\n"
      ],
      "text/plain": [
       "OpenAIModel finished the question 10536 took 1.59415864944458\n"
      ]
     },
     "metadata": {},
     "output_type": "display_data"
    },
    {
     "data": {
      "text/html": [
       "<pre style=\"white-space:pre;overflow-x:auto;line-height:normal;font-family:Menlo,'DejaVu Sans Mono',consolas,'Courier New',monospace\">OpenAIModel is processing the question 101662\n",
       "</pre>\n"
      ],
      "text/plain": [
       "OpenAIModel is processing the question 101662\n"
      ]
     },
     "metadata": {},
     "output_type": "display_data"
    },
    {
     "data": {
      "text/html": [
       "<pre style=\"white-space:pre;overflow-x:auto;line-height:normal;font-family:Menlo,'DejaVu Sans Mono',consolas,'Courier New',monospace\">OpenAIModel is processing the question 101740\n",
       "</pre>\n"
      ],
      "text/plain": [
       "OpenAIModel is processing the question 101740\n"
      ]
     },
     "metadata": {},
     "output_type": "display_data"
    },
    {
     "data": {
      "text/html": [
       "<pre style=\"white-space:pre;overflow-x:auto;line-height:normal;font-family:Menlo,'DejaVu Sans Mono',consolas,'Courier New',monospace\">OpenAIModel finished the question 101241 took 0.4676201343536377\n",
       "</pre>\n"
      ],
      "text/plain": [
       "OpenAIModel finished the question 101241 took 0.4676201343536377\n"
      ]
     },
     "metadata": {},
     "output_type": "display_data"
    },
    {
     "data": {
      "text/html": [
       "<pre style=\"white-space:pre;overflow-x:auto;line-height:normal;font-family:Menlo,'DejaVu Sans Mono',consolas,'Courier New',monospace\">OpenAIModel is processing the question 10249\n",
       "</pre>\n"
      ],
      "text/plain": [
       "OpenAIModel is processing the question 10249\n"
      ]
     },
     "metadata": {},
     "output_type": "display_data"
    },
    {
     "data": {
      "text/html": [
       "<pre style=\"white-space:pre;overflow-x:auto;line-height:normal;font-family:Menlo,'DejaVu Sans Mono',consolas,'Courier New',monospace\">OpenAIModel is processing the question 101753\n",
       "</pre>\n"
      ],
      "text/plain": [
       "OpenAIModel is processing the question 101753\n"
      ]
     },
     "metadata": {},
     "output_type": "display_data"
    },
    {
     "data": {
      "text/html": [
       "<pre style=\"white-space:pre;overflow-x:auto;line-height:normal;font-family:Menlo,'DejaVu Sans Mono',consolas,'Courier New',monospace\">OpenAIModel finished the question 101256 took 0.4669981002807617\n",
       "</pre>\n"
      ],
      "text/plain": [
       "OpenAIModel finished the question 101256 took 0.4669981002807617\n"
      ]
     },
     "metadata": {},
     "output_type": "display_data"
    },
    {
     "data": {
      "text/html": [
       "<pre style=\"white-space:pre;overflow-x:auto;line-height:normal;font-family:Menlo,'DejaVu Sans Mono',consolas,'Courier New',monospace\">OpenAIModel is processing the question 10918\n",
       "</pre>\n"
      ],
      "text/plain": [
       "OpenAIModel is processing the question 10918\n"
      ]
     },
     "metadata": {},
     "output_type": "display_data"
    },
    {
     "data": {
      "text/html": [
       "<pre style=\"white-space:pre;overflow-x:auto;line-height:normal;font-family:Menlo,'DejaVu Sans Mono',consolas,'Courier New',monospace\">OpenAIModel finished the question 101691 took 0.6279065608978271\n",
       "</pre>\n"
      ],
      "text/plain": [
       "OpenAIModel finished the question 101691 took 0.6279065608978271\n"
      ]
     },
     "metadata": {},
     "output_type": "display_data"
    },
    {
     "data": {
      "text/html": [
       "<pre style=\"white-space:pre;overflow-x:auto;line-height:normal;font-family:Menlo,'DejaVu Sans Mono',consolas,'Courier New',monospace\">OpenAIModel is processing the question 10965\n",
       "</pre>\n"
      ],
      "text/plain": [
       "OpenAIModel is processing the question 10965\n"
      ]
     },
     "metadata": {},
     "output_type": "display_data"
    },
    {
     "data": {
      "text/html": [
       "<pre style=\"white-space:pre;overflow-x:auto;line-height:normal;font-family:Menlo,'DejaVu Sans Mono',consolas,'Courier New',monospace\">OpenAIModel finished the question 101619 took 0.7579445838928223\n",
       "</pre>\n"
      ],
      "text/plain": [
       "OpenAIModel finished the question 101619 took 0.7579445838928223\n"
      ]
     },
     "metadata": {},
     "output_type": "display_data"
    },
    {
     "data": {
      "text/html": [
       "<pre style=\"white-space:pre;overflow-x:auto;line-height:normal;font-family:Menlo,'DejaVu Sans Mono',consolas,'Courier New',monospace\">OpenAIModel is processing the question 102201\n",
       "</pre>\n"
      ],
      "text/plain": [
       "OpenAIModel is processing the question 102201\n"
      ]
     },
     "metadata": {},
     "output_type": "display_data"
    },
    {
     "data": {
      "text/html": [
       "<pre style=\"white-space:pre;overflow-x:auto;line-height:normal;font-family:Menlo,'DejaVu Sans Mono',consolas,'Courier New',monospace\">OpenAIModel is processing the question 102228\n",
       "</pre>\n"
      ],
      "text/plain": [
       "OpenAIModel is processing the question 102228\n"
      ]
     },
     "metadata": {},
     "output_type": "display_data"
    },
    {
     "data": {
      "text/html": [
       "<pre style=\"white-space:pre;overflow-x:auto;line-height:normal;font-family:Menlo,'DejaVu Sans Mono',consolas,'Courier New',monospace\">OpenAIModel finished the question 10249 took 0.5439484119415283\n",
       "</pre>\n"
      ],
      "text/plain": [
       "OpenAIModel finished the question 10249 took 0.5439484119415283\n"
      ]
     },
     "metadata": {},
     "output_type": "display_data"
    },
    {
     "data": {
      "text/html": [
       "<pre style=\"white-space:pre;overflow-x:auto;line-height:normal;font-family:Menlo,'DejaVu Sans Mono',consolas,'Courier New',monospace\">OpenAIModel finished the question 101662 took 0.728945255279541\n",
       "</pre>\n"
      ],
      "text/plain": [
       "OpenAIModel finished the question 101662 took 0.728945255279541\n"
      ]
     },
     "metadata": {},
     "output_type": "display_data"
    },
    {
     "data": {
      "text/html": [
       "<pre style=\"white-space:pre;overflow-x:auto;line-height:normal;font-family:Menlo,'DejaVu Sans Mono',consolas,'Courier New',monospace\">OpenAIModel finished the question 10918 took 0.5154879093170166\n",
       "</pre>\n"
      ],
      "text/plain": [
       "OpenAIModel finished the question 10918 took 0.5154879093170166\n"
      ]
     },
     "metadata": {},
     "output_type": "display_data"
    },
    {
     "data": {
      "text/html": [
       "<pre style=\"white-space:pre;overflow-x:auto;line-height:normal;font-family:Menlo,'DejaVu Sans Mono',consolas,'Courier New',monospace\">OpenAIModel is processing the question 102234\n",
       "</pre>\n"
      ],
      "text/plain": [
       "OpenAIModel is processing the question 102234\n"
      ]
     },
     "metadata": {},
     "output_type": "display_data"
    },
    {
     "data": {
      "text/html": [
       "<pre style=\"white-space:pre;overflow-x:auto;line-height:normal;font-family:Menlo,'DejaVu Sans Mono',consolas,'Courier New',monospace\">OpenAIModel is processing the question 102493\n",
       "</pre>\n"
      ],
      "text/plain": [
       "OpenAIModel is processing the question 102493\n"
      ]
     },
     "metadata": {},
     "output_type": "display_data"
    },
    {
     "data": {
      "text/html": [
       "<pre style=\"white-space:pre;overflow-x:auto;line-height:normal;font-family:Menlo,'DejaVu Sans Mono',consolas,'Courier New',monospace\">OpenAIModel is processing the question 10779\n",
       "</pre>\n"
      ],
      "text/plain": [
       "OpenAIModel is processing the question 10779\n"
      ]
     },
     "metadata": {},
     "output_type": "display_data"
    },
    {
     "data": {
      "text/html": [
       "<pre style=\"white-space:pre;overflow-x:auto;line-height:normal;font-family:Menlo,'DejaVu Sans Mono',consolas,'Courier New',monospace\">OpenAIModel is processing the question 101142\n",
       "</pre>\n"
      ],
      "text/plain": [
       "OpenAIModel is processing the question 101142\n"
      ]
     },
     "metadata": {},
     "output_type": "display_data"
    },
    {
     "data": {
      "text/html": [
       "<pre style=\"white-space:pre;overflow-x:auto;line-height:normal;font-family:Menlo,'DejaVu Sans Mono',consolas,'Courier New',monospace\">OpenAIModel is processing the question 10904\n",
       "</pre>\n"
      ],
      "text/plain": [
       "OpenAIModel is processing the question 10904\n"
      ]
     },
     "metadata": {},
     "output_type": "display_data"
    },
    {
     "data": {
      "text/html": [
       "<pre style=\"white-space:pre;overflow-x:auto;line-height:normal;font-family:Menlo,'DejaVu Sans Mono',consolas,'Courier New',monospace\">OpenAIModel finished the question 101692 took 2.707294464111328\n",
       "</pre>\n"
      ],
      "text/plain": [
       "OpenAIModel finished the question 101692 took 2.707294464111328\n"
      ]
     },
     "metadata": {},
     "output_type": "display_data"
    },
    {
     "data": {
      "text/html": [
       "<pre style=\"white-space:pre;overflow-x:auto;line-height:normal;font-family:Menlo,'DejaVu Sans Mono',consolas,'Courier New',monospace\">OpenAIModel finished the question 10965 took 0.8461925983428955\n",
       "</pre>\n"
      ],
      "text/plain": [
       "OpenAIModel finished the question 10965 took 0.8461925983428955\n"
      ]
     },
     "metadata": {},
     "output_type": "display_data"
    },
    {
     "data": {
      "text/html": [
       "<pre style=\"white-space:pre;overflow-x:auto;line-height:normal;font-family:Menlo,'DejaVu Sans Mono',consolas,'Courier New',monospace\">OpenAIModel is processing the question 102423\n",
       "</pre>\n"
      ],
      "text/plain": [
       "OpenAIModel is processing the question 102423\n"
      ]
     },
     "metadata": {},
     "output_type": "display_data"
    },
    {
     "data": {
      "text/html": [
       "<pre style=\"white-space:pre;overflow-x:auto;line-height:normal;font-family:Menlo,'DejaVu Sans Mono',consolas,'Courier New',monospace\">OpenAIModel is processing the question 102619\n",
       "</pre>\n"
      ],
      "text/plain": [
       "OpenAIModel is processing the question 102619\n"
      ]
     },
     "metadata": {},
     "output_type": "display_data"
    },
    {
     "data": {
      "text/html": [
       "<pre style=\"white-space:pre;overflow-x:auto;line-height:normal;font-family:Menlo,'DejaVu Sans Mono',consolas,'Courier New',monospace\">OpenAIModel finished the question 10682 took 3.019780158996582\n",
       "</pre>\n"
      ],
      "text/plain": [
       "OpenAIModel finished the question 10682 took 3.019780158996582\n"
      ]
     },
     "metadata": {},
     "output_type": "display_data"
    },
    {
     "data": {
      "text/html": [
       "<pre style=\"white-space:pre;overflow-x:auto;line-height:normal;font-family:Menlo,'DejaVu Sans Mono',consolas,'Courier New',monospace\">OpenAIModel finished the question 102493 took 0.7117667198181152\n",
       "</pre>\n"
      ],
      "text/plain": [
       "OpenAIModel finished the question 102493 took 0.7117667198181152\n"
      ]
     },
     "metadata": {},
     "output_type": "display_data"
    },
    {
     "data": {
      "text/html": [
       "<pre style=\"white-space:pre;overflow-x:auto;line-height:normal;font-family:Menlo,'DejaVu Sans Mono',consolas,'Courier New',monospace\">OpenAIModel finished the question 10779 took 0.6742291450500488\n",
       "</pre>\n"
      ],
      "text/plain": [
       "OpenAIModel finished the question 10779 took 0.6742291450500488\n"
      ]
     },
     "metadata": {},
     "output_type": "display_data"
    },
    {
     "data": {
      "text/html": [
       "<pre style=\"white-space:pre;overflow-x:auto;line-height:normal;font-family:Menlo,'DejaVu Sans Mono',consolas,'Courier New',monospace\">OpenAIModel is processing the question 101791\n",
       "</pre>\n"
      ],
      "text/plain": [
       "OpenAIModel is processing the question 101791\n"
      ]
     },
     "metadata": {},
     "output_type": "display_data"
    },
    {
     "data": {
      "text/html": [
       "<pre style=\"white-space:pre;overflow-x:auto;line-height:normal;font-family:Menlo,'DejaVu Sans Mono',consolas,'Courier New',monospace\">OpenAIModel finished the question 10488 took 4.163064241409302\n",
       "</pre>\n"
      ],
      "text/plain": [
       "OpenAIModel finished the question 10488 took 4.163064241409302\n"
      ]
     },
     "metadata": {},
     "output_type": "display_data"
    },
    {
     "data": {
      "text/html": [
       "<pre style=\"white-space:pre;overflow-x:auto;line-height:normal;font-family:Menlo,'DejaVu Sans Mono',consolas,'Courier New',monospace\">OpenAIModel is processing the question 101713\n",
       "</pre>\n"
      ],
      "text/plain": [
       "OpenAIModel is processing the question 101713\n"
      ]
     },
     "metadata": {},
     "output_type": "display_data"
    },
    {
     "data": {
      "text/html": [
       "<pre style=\"white-space:pre;overflow-x:auto;line-height:normal;font-family:Menlo,'DejaVu Sans Mono',consolas,'Courier New',monospace\">OpenAIModel finished the question 102619 took 0.49402856826782227\n",
       "</pre>\n"
      ],
      "text/plain": [
       "OpenAIModel finished the question 102619 took 0.49402856826782227\n"
      ]
     },
     "metadata": {},
     "output_type": "display_data"
    },
    {
     "data": {
      "text/html": [
       "<pre style=\"white-space:pre;overflow-x:auto;line-height:normal;font-family:Menlo,'DejaVu Sans Mono',consolas,'Courier New',monospace\">OpenAIModel is processing the question 102804\n",
       "</pre>\n"
      ],
      "text/plain": [
       "OpenAIModel is processing the question 102804\n"
      ]
     },
     "metadata": {},
     "output_type": "display_data"
    },
    {
     "data": {
      "text/html": [
       "<pre style=\"white-space:pre;overflow-x:auto;line-height:normal;font-family:Menlo,'DejaVu Sans Mono',consolas,'Courier New',monospace\">OpenAIModel is processing the question 102623\n",
       "</pre>\n"
      ],
      "text/plain": [
       "OpenAIModel is processing the question 102623\n"
      ]
     },
     "metadata": {},
     "output_type": "display_data"
    },
    {
     "data": {
      "text/html": [
       "<pre style=\"white-space:pre;overflow-x:auto;line-height:normal;font-family:Menlo,'DejaVu Sans Mono',consolas,'Courier New',monospace\">OpenAIModel is processing the question 102624\n",
       "</pre>\n"
      ],
      "text/plain": [
       "OpenAIModel is processing the question 102624\n"
      ]
     },
     "metadata": {},
     "output_type": "display_data"
    },
    {
     "data": {
      "text/html": [
       "<pre style=\"white-space:pre;overflow-x:auto;line-height:normal;font-family:Menlo,'DejaVu Sans Mono',consolas,'Courier New',monospace\">OpenAIModel finished the question 101713 took 0.5104107856750488\n",
       "</pre>\n"
      ],
      "text/plain": [
       "OpenAIModel finished the question 101713 took 0.5104107856750488\n"
      ]
     },
     "metadata": {},
     "output_type": "display_data"
    },
    {
     "data": {
      "text/html": [
       "<pre style=\"white-space:pre;overflow-x:auto;line-height:normal;font-family:Menlo,'DejaVu Sans Mono',consolas,'Courier New',monospace\">OpenAIModel finished the question 101791 took 0.7743806838989258\n",
       "</pre>\n"
      ],
      "text/plain": [
       "OpenAIModel finished the question 101791 took 0.7743806838989258\n"
      ]
     },
     "metadata": {},
     "output_type": "display_data"
    },
    {
     "data": {
      "text/html": [
       "<pre style=\"white-space:pre;overflow-x:auto;line-height:normal;font-family:Menlo,'DejaVu Sans Mono',consolas,'Courier New',monospace\">OpenAIModel is processing the question 102224\n",
       "</pre>\n"
      ],
      "text/plain": [
       "OpenAIModel is processing the question 102224\n"
      ]
     },
     "metadata": {},
     "output_type": "display_data"
    },
    {
     "data": {
      "text/html": [
       "<pre style=\"white-space:pre;overflow-x:auto;line-height:normal;font-family:Menlo,'DejaVu Sans Mono',consolas,'Courier New',monospace\">OpenAIModel is processing the question 102640\n",
       "</pre>\n"
      ],
      "text/plain": [
       "OpenAIModel is processing the question 102640\n"
      ]
     },
     "metadata": {},
     "output_type": "display_data"
    },
    {
     "data": {
      "text/html": [
       "<pre style=\"white-space:pre;overflow-x:auto;line-height:normal;font-family:Menlo,'DejaVu Sans Mono',consolas,'Courier New',monospace\">OpenAIModel finished the question 102624 took 0.6932520866394043\n",
       "</pre>\n"
      ],
      "text/plain": [
       "OpenAIModel finished the question 102624 took 0.6932520866394043\n"
      ]
     },
     "metadata": {},
     "output_type": "display_data"
    },
    {
     "data": {
      "text/html": [
       "<pre style=\"white-space:pre;overflow-x:auto;line-height:normal;font-family:Menlo,'DejaVu Sans Mono',consolas,'Courier New',monospace\">OpenAIModel finished the question 102423 took 1.6688578128814697\n",
       "</pre>\n"
      ],
      "text/plain": [
       "OpenAIModel finished the question 102423 took 1.6688578128814697\n"
      ]
     },
     "metadata": {},
     "output_type": "display_data"
    },
    {
     "data": {
      "text/html": [
       "<pre style=\"white-space:pre;overflow-x:auto;line-height:normal;font-family:Menlo,'DejaVu Sans Mono',consolas,'Courier New',monospace\">OpenAIModel is processing the question 102410\n",
       "</pre>\n"
      ],
      "text/plain": [
       "OpenAIModel is processing the question 102410\n"
      ]
     },
     "metadata": {},
     "output_type": "display_data"
    },
    {
     "data": {
      "text/html": [
       "<pre style=\"white-space:pre;overflow-x:auto;line-height:normal;font-family:Menlo,'DejaVu Sans Mono',consolas,'Courier New',monospace\">OpenAIModel is processing the question 102788\n",
       "</pre>\n"
      ],
      "text/plain": [
       "OpenAIModel is processing the question 102788\n"
      ]
     },
     "metadata": {},
     "output_type": "display_data"
    },
    {
     "data": {
      "text/html": [
       "<pre style=\"white-space:pre;overflow-x:auto;line-height:normal;font-family:Menlo,'DejaVu Sans Mono',consolas,'Courier New',monospace\">OpenAIModel finished the question 10904 took 2.3465960025787354\n",
       "</pre>\n"
      ],
      "text/plain": [
       "OpenAIModel finished the question 10904 took 2.3465960025787354\n"
      ]
     },
     "metadata": {},
     "output_type": "display_data"
    },
    {
     "data": {
      "text/html": [
       "<pre style=\"white-space:pre;overflow-x:auto;line-height:normal;font-family:Menlo,'DejaVu Sans Mono',consolas,'Courier New',monospace\">OpenAIModel finished the question 102623 took 1.271827220916748\n",
       "</pre>\n"
      ],
      "text/plain": [
       "OpenAIModel finished the question 102623 took 1.271827220916748\n"
      ]
     },
     "metadata": {},
     "output_type": "display_data"
    },
    {
     "data": {
      "text/html": [
       "<pre style=\"white-space:pre;overflow-x:auto;line-height:normal;font-family:Menlo,'DejaVu Sans Mono',consolas,'Courier New',monospace\">OpenAIModel is processing the question 102999\n",
       "</pre>\n"
      ],
      "text/plain": [
       "OpenAIModel is processing the question 102999\n"
      ]
     },
     "metadata": {},
     "output_type": "display_data"
    },
    {
     "data": {
      "text/html": [
       "<pre style=\"white-space:pre;overflow-x:auto;line-height:normal;font-family:Menlo,'DejaVu Sans Mono',consolas,'Courier New',monospace\">OpenAIModel is processing the question 102858\n",
       "</pre>\n"
      ],
      "text/plain": [
       "OpenAIModel is processing the question 102858\n"
      ]
     },
     "metadata": {},
     "output_type": "display_data"
    },
    {
     "data": {
      "text/html": [
       "<pre style=\"white-space:pre;overflow-x:auto;line-height:normal;font-family:Menlo,'DejaVu Sans Mono',consolas,'Courier New',monospace\">OpenAIModel finished the question 102201 took 3.300424575805664\n",
       "</pre>\n"
      ],
      "text/plain": [
       "OpenAIModel finished the question 102201 took 3.300424575805664\n"
      ]
     },
     "metadata": {},
     "output_type": "display_data"
    },
    {
     "data": {
      "text/html": [
       "<pre style=\"white-space:pre;overflow-x:auto;line-height:normal;font-family:Menlo,'DejaVu Sans Mono',consolas,'Courier New',monospace\">OpenAIModel finished the question 102640 took 0.9966640472412109\n",
       "</pre>\n"
      ],
      "text/plain": [
       "OpenAIModel finished the question 102640 took 0.9966640472412109\n"
      ]
     },
     "metadata": {},
     "output_type": "display_data"
    },
    {
     "data": {
      "text/html": [
       "<pre style=\"white-space:pre;overflow-x:auto;line-height:normal;font-family:Menlo,'DejaVu Sans Mono',consolas,'Courier New',monospace\">OpenAIModel finished the question 102788 took 0.6037766933441162\n",
       "</pre>\n"
      ],
      "text/plain": [
       "OpenAIModel finished the question 102788 took 0.6037766933441162\n"
      ]
     },
     "metadata": {},
     "output_type": "display_data"
    },
    {
     "data": {
      "text/html": [
       "<pre style=\"white-space:pre;overflow-x:auto;line-height:normal;font-family:Menlo,'DejaVu Sans Mono',consolas,'Courier New',monospace\">OpenAIModel is processing the question 102838\n",
       "</pre>\n"
      ],
      "text/plain": [
       "OpenAIModel is processing the question 102838\n"
      ]
     },
     "metadata": {},
     "output_type": "display_data"
    },
    {
     "data": {
      "text/html": [
       "<pre style=\"white-space:pre;overflow-x:auto;line-height:normal;font-family:Menlo,'DejaVu Sans Mono',consolas,'Courier New',monospace\">OpenAIModel finished the question 102234 took 3.263070821762085\n",
       "</pre>\n"
      ],
      "text/plain": [
       "OpenAIModel finished the question 102234 took 3.263070821762085\n"
      ]
     },
     "metadata": {},
     "output_type": "display_data"
    },
    {
     "data": {
      "text/html": [
       "<pre style=\"white-space:pre;overflow-x:auto;line-height:normal;font-family:Menlo,'DejaVu Sans Mono',consolas,'Courier New',monospace\">OpenAIModel is processing the question 102220\n",
       "</pre>\n"
      ],
      "text/plain": [
       "OpenAIModel is processing the question 102220\n"
      ]
     },
     "metadata": {},
     "output_type": "display_data"
    },
    {
     "data": {
      "text/html": [
       "<pre style=\"white-space:pre;overflow-x:auto;line-height:normal;font-family:Menlo,'DejaVu Sans Mono',consolas,'Courier New',monospace\">OpenAIModel finished the question 102224 took 1.406904697418213\n",
       "</pre>\n"
      ],
      "text/plain": [
       "OpenAIModel finished the question 102224 took 1.406904697418213\n"
      ]
     },
     "metadata": {},
     "output_type": "display_data"
    },
    {
     "data": {
      "text/html": [
       "<pre style=\"white-space:pre;overflow-x:auto;line-height:normal;font-family:Menlo,'DejaVu Sans Mono',consolas,'Courier New',monospace\">OpenAIModel finished the question 102999 took 0.584113359451294\n",
       "</pre>\n"
      ],
      "text/plain": [
       "OpenAIModel finished the question 102999 took 0.584113359451294\n"
      ]
     },
     "metadata": {},
     "output_type": "display_data"
    },
    {
     "data": {
      "text/html": [
       "<pre style=\"white-space:pre;overflow-x:auto;line-height:normal;font-family:Menlo,'DejaVu Sans Mono',consolas,'Courier New',monospace\">OpenAIModel is processing the question 102779\n",
       "</pre>\n"
      ],
      "text/plain": [
       "OpenAIModel is processing the question 102779\n"
      ]
     },
     "metadata": {},
     "output_type": "display_data"
    },
    {
     "data": {
      "text/html": [
       "<pre style=\"white-space:pre;overflow-x:auto;line-height:normal;font-family:Menlo,'DejaVu Sans Mono',consolas,'Courier New',monospace\">OpenAIModel is processing the question 103019\n",
       "</pre>\n"
      ],
      "text/plain": [
       "OpenAIModel is processing the question 103019\n"
      ]
     },
     "metadata": {},
     "output_type": "display_data"
    },
    {
     "data": {
      "text/html": [
       "<pre style=\"white-space:pre;overflow-x:auto;line-height:normal;font-family:Menlo,'DejaVu Sans Mono',consolas,'Courier New',monospace\">OpenAIModel finished the question 101716 took 4.4994518756866455\n",
       "</pre>\n"
      ],
      "text/plain": [
       "OpenAIModel finished the question 101716 took 4.4994518756866455\n"
      ]
     },
     "metadata": {},
     "output_type": "display_data"
    },
    {
     "data": {
      "text/html": [
       "<pre style=\"white-space:pre;overflow-x:auto;line-height:normal;font-family:Menlo,'DejaVu Sans Mono',consolas,'Courier New',monospace\">OpenAIModel finished the question 102858 took 0.7145943641662598\n",
       "</pre>\n"
      ],
      "text/plain": [
       "OpenAIModel finished the question 102858 took 0.7145943641662598\n"
      ]
     },
     "metadata": {},
     "output_type": "display_data"
    },
    {
     "data": {
      "text/html": [
       "<pre style=\"white-space:pre;overflow-x:auto;line-height:normal;font-family:Menlo,'DejaVu Sans Mono',consolas,'Courier New',monospace\">OpenAIModel is processing the question 102604\n",
       "</pre>\n"
      ],
      "text/plain": [
       "OpenAIModel is processing the question 102604\n"
      ]
     },
     "metadata": {},
     "output_type": "display_data"
    },
    {
     "data": {
      "text/html": [
       "<pre style=\"white-space:pre;overflow-x:auto;line-height:normal;font-family:Menlo,'DejaVu Sans Mono',consolas,'Courier New',monospace\">OpenAIModel is processing the question 102243\n",
       "</pre>\n"
      ],
      "text/plain": [
       "OpenAIModel is processing the question 102243\n"
      ]
     },
     "metadata": {},
     "output_type": "display_data"
    },
    {
     "data": {
      "text/html": [
       "<pre style=\"white-space:pre;overflow-x:auto;line-height:normal;font-family:Menlo,'DejaVu Sans Mono',consolas,'Courier New',monospace\">OpenAIModel finished the question 102838 took 0.6361145973205566\n",
       "</pre>\n"
      ],
      "text/plain": [
       "OpenAIModel finished the question 102838 took 0.6361145973205566\n"
      ]
     },
     "metadata": {},
     "output_type": "display_data"
    },
    {
     "data": {
      "text/html": [
       "<pre style=\"white-space:pre;overflow-x:auto;line-height:normal;font-family:Menlo,'DejaVu Sans Mono',consolas,'Courier New',monospace\">OpenAIModel is processing the question 103030\n",
       "</pre>\n"
      ],
      "text/plain": [
       "OpenAIModel is processing the question 103030\n"
      ]
     },
     "metadata": {},
     "output_type": "display_data"
    },
    {
     "data": {
      "text/html": [
       "<pre style=\"white-space:pre;overflow-x:auto;line-height:normal;font-family:Menlo,'DejaVu Sans Mono',consolas,'Courier New',monospace\">OpenAIModel finished the question 102779 took 0.45511436462402344\n",
       "</pre>\n"
      ],
      "text/plain": [
       "OpenAIModel finished the question 102779 took 0.45511436462402344\n"
      ]
     },
     "metadata": {},
     "output_type": "display_data"
    },
    {
     "data": {
      "text/html": [
       "<pre style=\"white-space:pre;overflow-x:auto;line-height:normal;font-family:Menlo,'DejaVu Sans Mono',consolas,'Courier New',monospace\">OpenAIModel is processing the question 102036\n",
       "</pre>\n"
      ],
      "text/plain": [
       "OpenAIModel is processing the question 102036\n"
      ]
     },
     "metadata": {},
     "output_type": "display_data"
    },
    {
     "data": {
      "text/html": [
       "<pre style=\"white-space:pre;overflow-x:auto;line-height:normal;font-family:Menlo,'DejaVu Sans Mono',consolas,'Courier New',monospace\">OpenAIModel finished the question 101753 took 4.607566833496094\n",
       "</pre>\n"
      ],
      "text/plain": [
       "OpenAIModel finished the question 101753 took 4.607566833496094\n"
      ]
     },
     "metadata": {},
     "output_type": "display_data"
    },
    {
     "data": {
      "text/html": [
       "<pre style=\"white-space:pre;overflow-x:auto;line-height:normal;font-family:Menlo,'DejaVu Sans Mono',consolas,'Courier New',monospace\">OpenAIModel is processing the question 102920\n",
       "</pre>\n"
      ],
      "text/plain": [
       "OpenAIModel is processing the question 102920\n"
      ]
     },
     "metadata": {},
     "output_type": "display_data"
    },
    {
     "data": {
      "text/html": [
       "<pre style=\"white-space:pre;overflow-x:auto;line-height:normal;font-family:Menlo,'DejaVu Sans Mono',consolas,'Courier New',monospace\">OpenAIModel finished the question 102604 took 0.5711205005645752\n",
       "</pre>\n"
      ],
      "text/plain": [
       "OpenAIModel finished the question 102604 took 0.5711205005645752\n"
      ]
     },
     "metadata": {},
     "output_type": "display_data"
    },
    {
     "data": {
      "text/html": [
       "<pre style=\"white-space:pre;overflow-x:auto;line-height:normal;font-family:Menlo,'DejaVu Sans Mono',consolas,'Courier New',monospace\">OpenAIModel is processing the question 103337\n",
       "</pre>\n"
      ],
      "text/plain": [
       "OpenAIModel is processing the question 103337\n"
      ]
     },
     "metadata": {},
     "output_type": "display_data"
    },
    {
     "data": {
      "text/html": [
       "<pre style=\"white-space:pre;overflow-x:auto;line-height:normal;font-family:Menlo,'DejaVu Sans Mono',consolas,'Courier New',monospace\">OpenAIModel is processing the question 101811\n",
       "</pre>\n"
      ],
      "text/plain": [
       "OpenAIModel is processing the question 101811\n"
      ]
     },
     "metadata": {},
     "output_type": "display_data"
    },
    {
     "data": {
      "text/html": [
       "<pre style=\"white-space:pre;overflow-x:auto;line-height:normal;font-family:Menlo,'DejaVu Sans Mono',consolas,'Courier New',monospace\">OpenAIModel finished the question 102243 took 0.6530001163482666\n",
       "</pre>\n"
      ],
      "text/plain": [
       "OpenAIModel finished the question 102243 took 0.6530001163482666\n"
      ]
     },
     "metadata": {},
     "output_type": "display_data"
    },
    {
     "data": {
      "text/html": [
       "<pre style=\"white-space:pre;overflow-x:auto;line-height:normal;font-family:Menlo,'DejaVu Sans Mono',consolas,'Courier New',monospace\">OpenAIModel finished the question 103030 took 0.5789997577667236\n",
       "</pre>\n"
      ],
      "text/plain": [
       "OpenAIModel finished the question 103030 took 0.5789997577667236\n"
      ]
     },
     "metadata": {},
     "output_type": "display_data"
    },
    {
     "data": {
      "text/html": [
       "<pre style=\"white-space:pre;overflow-x:auto;line-height:normal;font-family:Menlo,'DejaVu Sans Mono',consolas,'Courier New',monospace\">OpenAIModel is processing the question 103344\n",
       "</pre>\n"
      ],
      "text/plain": [
       "OpenAIModel is processing the question 103344\n"
      ]
     },
     "metadata": {},
     "output_type": "display_data"
    },
    {
     "data": {
      "text/html": [
       "<pre style=\"white-space:pre;overflow-x:auto;line-height:normal;font-family:Menlo,'DejaVu Sans Mono',consolas,'Courier New',monospace\">OpenAIModel finished the question 102036 took 0.7519998550415039\n",
       "</pre>\n"
      ],
      "text/plain": [
       "OpenAIModel finished the question 102036 took 0.7519998550415039\n"
      ]
     },
     "metadata": {},
     "output_type": "display_data"
    },
    {
     "data": {
      "text/html": [
       "<pre style=\"white-space:pre;overflow-x:auto;line-height:normal;font-family:Menlo,'DejaVu Sans Mono',consolas,'Courier New',monospace\">OpenAIModel is processing the question 103348\n",
       "</pre>\n"
      ],
      "text/plain": [
       "OpenAIModel is processing the question 103348\n"
      ]
     },
     "metadata": {},
     "output_type": "display_data"
    },
    {
     "data": {
      "text/html": [
       "<pre style=\"white-space:pre;overflow-x:auto;line-height:normal;font-family:Menlo,'DejaVu Sans Mono',consolas,'Courier New',monospace\">OpenAIModel finished the question 101811 took 0.45400047302246094\n",
       "</pre>\n"
      ],
      "text/plain": [
       "OpenAIModel finished the question 101811 took 0.45400047302246094\n"
      ]
     },
     "metadata": {},
     "output_type": "display_data"
    },
    {
     "data": {
      "text/html": [
       "<pre style=\"white-space:pre;overflow-x:auto;line-height:normal;font-family:Menlo,'DejaVu Sans Mono',consolas,'Courier New',monospace\">OpenAIModel finished the question 103019 took 1.3521125316619873\n",
       "</pre>\n"
      ],
      "text/plain": [
       "OpenAIModel finished the question 103019 took 1.3521125316619873\n"
      ]
     },
     "metadata": {},
     "output_type": "display_data"
    },
    {
     "data": {
      "text/html": [
       "<pre style=\"white-space:pre;overflow-x:auto;line-height:normal;font-family:Menlo,'DejaVu Sans Mono',consolas,'Courier New',monospace\">OpenAIModel is processing the question 103401\n",
       "</pre>\n"
      ],
      "text/plain": [
       "OpenAIModel is processing the question 103401\n"
      ]
     },
     "metadata": {},
     "output_type": "display_data"
    },
    {
     "data": {
      "text/html": [
       "<pre style=\"white-space:pre;overflow-x:auto;line-height:normal;font-family:Menlo,'DejaVu Sans Mono',consolas,'Courier New',monospace\">OpenAIModel finished the question 103337 took 0.7310018539428711\n",
       "</pre>\n"
      ],
      "text/plain": [
       "OpenAIModel finished the question 103337 took 0.7310018539428711\n"
      ]
     },
     "metadata": {},
     "output_type": "display_data"
    },
    {
     "data": {
      "text/html": [
       "<pre style=\"white-space:pre;overflow-x:auto;line-height:normal;font-family:Menlo,'DejaVu Sans Mono',consolas,'Courier New',monospace\">OpenAIModel finished the question 103344 took 0.5720236301422119\n",
       "</pre>\n"
      ],
      "text/plain": [
       "OpenAIModel finished the question 103344 took 0.5720236301422119\n"
      ]
     },
     "metadata": {},
     "output_type": "display_data"
    },
    {
     "data": {
      "text/html": [
       "<pre style=\"white-space:pre;overflow-x:auto;line-height:normal;font-family:Menlo,'DejaVu Sans Mono',consolas,'Courier New',monospace\">OpenAIModel is processing the question 101826\n",
       "</pre>\n"
      ],
      "text/plain": [
       "OpenAIModel is processing the question 101826\n"
      ]
     },
     "metadata": {},
     "output_type": "display_data"
    },
    {
     "data": {
      "text/html": [
       "<pre style=\"white-space:pre;overflow-x:auto;line-height:normal;font-family:Menlo,'DejaVu Sans Mono',consolas,'Courier New',monospace\">OpenAIModel finished the question 102410 took 2.791430950164795\n",
       "</pre>\n"
      ],
      "text/plain": [
       "OpenAIModel finished the question 102410 took 2.791430950164795\n"
      ]
     },
     "metadata": {},
     "output_type": "display_data"
    },
    {
     "data": {
      "text/html": [
       "<pre style=\"white-space:pre;overflow-x:auto;line-height:normal;font-family:Menlo,'DejaVu Sans Mono',consolas,'Courier New',monospace\">OpenAIModel is processing the question 102808\n",
       "</pre>\n"
      ],
      "text/plain": [
       "OpenAIModel is processing the question 102808\n"
      ]
     },
     "metadata": {},
     "output_type": "display_data"
    },
    {
     "data": {
      "text/html": [
       "<pre style=\"white-space:pre;overflow-x:auto;line-height:normal;font-family:Menlo,'DejaVu Sans Mono',consolas,'Courier New',monospace\">OpenAIModel finished the question 103400 took 0.6221475601196289\n",
       "</pre>\n"
      ],
      "text/plain": [
       "OpenAIModel finished the question 103400 took 0.6221475601196289\n"
      ]
     },
     "metadata": {},
     "output_type": "display_data"
    },
    {
     "data": {
      "text/html": [
       "<pre style=\"white-space:pre;overflow-x:auto;line-height:normal;font-family:Menlo,'DejaVu Sans Mono',consolas,'Courier New',monospace\">OpenAIModel is processing the question 103471\n",
       "</pre>\n"
      ],
      "text/plain": [
       "OpenAIModel is processing the question 103471\n"
      ]
     },
     "metadata": {},
     "output_type": "display_data"
    },
    {
     "data": {
      "text/html": [
       "<pre style=\"white-space:pre;overflow-x:auto;line-height:normal;font-family:Menlo,'DejaVu Sans Mono',consolas,'Courier New',monospace\">OpenAIModel is processing the question 101920\n",
       "</pre>\n"
      ],
      "text/plain": [
       "OpenAIModel is processing the question 101920\n"
      ]
     },
     "metadata": {},
     "output_type": "display_data"
    },
    {
     "data": {
      "text/html": [
       "<pre style=\"white-space:pre;overflow-x:auto;line-height:normal;font-family:Menlo,'DejaVu Sans Mono',consolas,'Courier New',monospace\">OpenAIModel finished the question 101728 took 6.519627332687378\n",
       "</pre>\n"
      ],
      "text/plain": [
       "OpenAIModel finished the question 101728 took 6.519627332687378\n"
      ]
     },
     "metadata": {},
     "output_type": "display_data"
    },
    {
     "data": {
      "text/html": [
       "<pre style=\"white-space:pre;overflow-x:auto;line-height:normal;font-family:Menlo,'DejaVu Sans Mono',consolas,'Courier New',monospace\">OpenAIModel finished the question 103348 took 0.7346775531768799\n",
       "</pre>\n"
      ],
      "text/plain": [
       "OpenAIModel finished the question 103348 took 0.7346775531768799\n"
      ]
     },
     "metadata": {},
     "output_type": "display_data"
    },
    {
     "data": {
      "text/html": [
       "<pre style=\"white-space:pre;overflow-x:auto;line-height:normal;font-family:Menlo,'DejaVu Sans Mono',consolas,'Courier New',monospace\">OpenAIModel is processing the question 103253\n",
       "</pre>\n"
      ],
      "text/plain": [
       "OpenAIModel is processing the question 103253\n"
      ]
     },
     "metadata": {},
     "output_type": "display_data"
    },
    {
     "data": {
      "text/html": [
       "<pre style=\"white-space:pre;overflow-x:auto;line-height:normal;font-family:Menlo,'DejaVu Sans Mono',consolas,'Courier New',monospace\">OpenAIModel finished the question 101826 took 0.6295995712280273\n",
       "</pre>\n"
      ],
      "text/plain": [
       "OpenAIModel finished the question 101826 took 0.6295995712280273\n"
      ]
     },
     "metadata": {},
     "output_type": "display_data"
    },
    {
     "data": {
      "text/html": [
       "<pre style=\"white-space:pre;overflow-x:auto;line-height:normal;font-family:Menlo,'DejaVu Sans Mono',consolas,'Courier New',monospace\">OpenAIModel is processing the question 103176\n",
       "</pre>\n"
      ],
      "text/plain": [
       "OpenAIModel is processing the question 103176\n"
      ]
     },
     "metadata": {},
     "output_type": "display_data"
    },
    {
     "data": {
      "text/html": [
       "<pre style=\"white-space:pre;overflow-x:auto;line-height:normal;font-family:Menlo,'DejaVu Sans Mono',consolas,'Courier New',monospace\">OpenAIModel is processing the question 103568\n",
       "</pre>\n"
      ],
      "text/plain": [
       "OpenAIModel is processing the question 103568\n"
      ]
     },
     "metadata": {},
     "output_type": "display_data"
    },
    {
     "data": {
      "text/html": [
       "<pre style=\"white-space:pre;overflow-x:auto;line-height:normal;font-family:Menlo,'DejaVu Sans Mono',consolas,'Courier New',monospace\">OpenAIModel is processing the question 102961\n",
       "</pre>\n"
      ],
      "text/plain": [
       "OpenAIModel is processing the question 102961\n"
      ]
     },
     "metadata": {},
     "output_type": "display_data"
    },
    {
     "data": {
      "text/html": [
       "<pre style=\"white-space:pre;overflow-x:auto;line-height:normal;font-family:Menlo,'DejaVu Sans Mono',consolas,'Courier New',monospace\">OpenAIModel finished the question 103471 took 0.5802664756774902\n",
       "</pre>\n"
      ],
      "text/plain": [
       "OpenAIModel finished the question 103471 took 0.5802664756774902\n"
      ]
     },
     "metadata": {},
     "output_type": "display_data"
    },
    {
     "data": {
      "text/html": [
       "<pre style=\"white-space:pre;overflow-x:auto;line-height:normal;font-family:Menlo,'DejaVu Sans Mono',consolas,'Courier New',monospace\">OpenAIModel is processing the question 103172\n",
       "</pre>\n"
      ],
      "text/plain": [
       "OpenAIModel is processing the question 103172\n"
      ]
     },
     "metadata": {},
     "output_type": "display_data"
    },
    {
     "data": {
      "text/html": [
       "<pre style=\"white-space:pre;overflow-x:auto;line-height:normal;font-family:Menlo,'DejaVu Sans Mono',consolas,'Courier New',monospace\">OpenAIModel finished the question 103253 took 0.560765266418457\n",
       "</pre>\n"
      ],
      "text/plain": [
       "OpenAIModel finished the question 103253 took 0.560765266418457\n"
      ]
     },
     "metadata": {},
     "output_type": "display_data"
    },
    {
     "data": {
      "text/html": [
       "<pre style=\"white-space:pre;overflow-x:auto;line-height:normal;font-family:Menlo,'DejaVu Sans Mono',consolas,'Courier New',monospace\">OpenAIModel finished the question 102808 took 0.8436286449432373\n",
       "</pre>\n"
      ],
      "text/plain": [
       "OpenAIModel finished the question 102808 took 0.8436286449432373\n"
      ]
     },
     "metadata": {},
     "output_type": "display_data"
    },
    {
     "data": {
      "text/html": [
       "<pre style=\"white-space:pre;overflow-x:auto;line-height:normal;font-family:Menlo,'DejaVu Sans Mono',consolas,'Courier New',monospace\">OpenAIModel finished the question 102920 took 2.097166061401367\n",
       "</pre>\n"
      ],
      "text/plain": [
       "OpenAIModel finished the question 102920 took 2.097166061401367\n"
      ]
     },
     "metadata": {},
     "output_type": "display_data"
    },
    {
     "data": {
      "text/html": [
       "<pre style=\"white-space:pre;overflow-x:auto;line-height:normal;font-family:Menlo,'DejaVu Sans Mono',consolas,'Courier New',monospace\">OpenAIModel is processing the question 101824\n",
       "</pre>\n"
      ],
      "text/plain": [
       "OpenAIModel is processing the question 101824\n"
      ]
     },
     "metadata": {},
     "output_type": "display_data"
    },
    {
     "data": {
      "text/html": [
       "<pre style=\"white-space:pre;overflow-x:auto;line-height:normal;font-family:Menlo,'DejaVu Sans Mono',consolas,'Courier New',monospace\">OpenAIModel finished the question 102961 took 0.5644557476043701\n",
       "</pre>\n"
      ],
      "text/plain": [
       "OpenAIModel finished the question 102961 took 0.5644557476043701\n"
      ]
     },
     "metadata": {},
     "output_type": "display_data"
    },
    {
     "data": {
      "text/html": [
       "<pre style=\"white-space:pre;overflow-x:auto;line-height:normal;font-family:Menlo,'DejaVu Sans Mono',consolas,'Courier New',monospace\">OpenAIModel finished the question 103568 took 0.6253981590270996\n",
       "</pre>\n"
      ],
      "text/plain": [
       "OpenAIModel finished the question 103568 took 0.6253981590270996\n"
      ]
     },
     "metadata": {},
     "output_type": "display_data"
    },
    {
     "data": {
      "text/html": [
       "<pre style=\"white-space:pre;overflow-x:auto;line-height:normal;font-family:Menlo,'DejaVu Sans Mono',consolas,'Courier New',monospace\">OpenAIModel is processing the question 103624\n",
       "</pre>\n"
      ],
      "text/plain": [
       "OpenAIModel is processing the question 103624\n"
      ]
     },
     "metadata": {},
     "output_type": "display_data"
    },
    {
     "data": {
      "text/html": [
       "<pre style=\"white-space:pre;overflow-x:auto;line-height:normal;font-family:Menlo,'DejaVu Sans Mono',consolas,'Courier New',monospace\">OpenAIModel is processing the question 103325\n",
       "</pre>\n"
      ],
      "text/plain": [
       "OpenAIModel is processing the question 103325\n"
      ]
     },
     "metadata": {},
     "output_type": "display_data"
    },
    {
     "data": {
      "text/html": [
       "<pre style=\"white-space:pre;overflow-x:auto;line-height:normal;font-family:Menlo,'DejaVu Sans Mono',consolas,'Courier New',monospace\">OpenAIModel finished the question 102220 took 3.5054593086242676\n",
       "</pre>\n"
      ],
      "text/plain": [
       "OpenAIModel finished the question 102220 took 3.5054593086242676\n"
      ]
     },
     "metadata": {},
     "output_type": "display_data"
    },
    {
     "data": {
      "text/html": [
       "<pre style=\"white-space:pre;overflow-x:auto;line-height:normal;font-family:Menlo,'DejaVu Sans Mono',consolas,'Courier New',monospace\">OpenAIModel is processing the question 103283\n",
       "</pre>\n"
      ],
      "text/plain": [
       "OpenAIModel is processing the question 103283\n"
      ]
     },
     "metadata": {},
     "output_type": "display_data"
    },
    {
     "data": {
      "text/html": [
       "<pre style=\"white-space:pre;overflow-x:auto;line-height:normal;font-family:Menlo,'DejaVu Sans Mono',consolas,'Courier New',monospace\">OpenAIModel is processing the question 103213\n",
       "</pre>\n"
      ],
      "text/plain": [
       "OpenAIModel is processing the question 103213\n"
      ]
     },
     "metadata": {},
     "output_type": "display_data"
    },
    {
     "data": {
      "text/html": [
       "<pre style=\"white-space:pre;overflow-x:auto;line-height:normal;font-family:Menlo,'DejaVu Sans Mono',consolas,'Courier New',monospace\">OpenAIModel is processing the question 103194\n",
       "</pre>\n"
      ],
      "text/plain": [
       "OpenAIModel is processing the question 103194\n"
      ]
     },
     "metadata": {},
     "output_type": "display_data"
    },
    {
     "data": {
      "text/html": [
       "<pre style=\"white-space:pre;overflow-x:auto;line-height:normal;font-family:Menlo,'DejaVu Sans Mono',consolas,'Courier New',monospace\">OpenAIModel finished the question 101824 took 0.5860157012939453\n",
       "</pre>\n"
      ],
      "text/plain": [
       "OpenAIModel finished the question 101824 took 0.5860157012939453\n"
      ]
     },
     "metadata": {},
     "output_type": "display_data"
    },
    {
     "data": {
      "text/html": [
       "<pre style=\"white-space:pre;overflow-x:auto;line-height:normal;font-family:Menlo,'DejaVu Sans Mono',consolas,'Courier New',monospace\">OpenAIModel is processing the question 103674\n",
       "</pre>\n"
      ],
      "text/plain": [
       "OpenAIModel is processing the question 103674\n"
      ]
     },
     "metadata": {},
     "output_type": "display_data"
    },
    {
     "data": {
      "text/html": [
       "<pre style=\"white-space:pre;overflow-x:auto;line-height:normal;font-family:Menlo,'DejaVu Sans Mono',consolas,'Courier New',monospace\">OpenAIModel finished the question 101740 took 8.111980199813843\n",
       "</pre>\n"
      ],
      "text/plain": [
       "OpenAIModel finished the question 101740 took 8.111980199813843\n"
      ]
     },
     "metadata": {},
     "output_type": "display_data"
    },
    {
     "data": {
      "text/html": [
       "<pre style=\"white-space:pre;overflow-x:auto;line-height:normal;font-family:Menlo,'DejaVu Sans Mono',consolas,'Courier New',monospace\">OpenAIModel finished the question 103283 took 0.5237534046173096\n",
       "</pre>\n"
      ],
      "text/plain": [
       "OpenAIModel finished the question 103283 took 0.5237534046173096\n"
      ]
     },
     "metadata": {},
     "output_type": "display_data"
    },
    {
     "data": {
      "text/html": [
       "<pre style=\"white-space:pre;overflow-x:auto;line-height:normal;font-family:Menlo,'DejaVu Sans Mono',consolas,'Courier New',monospace\">OpenAIModel is processing the question 103592\n",
       "</pre>\n"
      ],
      "text/plain": [
       "OpenAIModel is processing the question 103592\n"
      ]
     },
     "metadata": {},
     "output_type": "display_data"
    },
    {
     "data": {
      "text/html": [
       "<pre style=\"white-space:pre;overflow-x:auto;line-height:normal;font-family:Menlo,'DejaVu Sans Mono',consolas,'Courier New',monospace\">OpenAIModel finished the question 103624 took 0.6762688159942627\n",
       "</pre>\n"
      ],
      "text/plain": [
       "OpenAIModel finished the question 103624 took 0.6762688159942627\n"
      ]
     },
     "metadata": {},
     "output_type": "display_data"
    },
    {
     "data": {
      "text/html": [
       "<pre style=\"white-space:pre;overflow-x:auto;line-height:normal;font-family:Menlo,'DejaVu Sans Mono',consolas,'Courier New',monospace\">OpenAIModel finished the question 103194 took 0.47011733055114746\n",
       "</pre>\n"
      ],
      "text/plain": [
       "OpenAIModel finished the question 103194 took 0.47011733055114746\n"
      ]
     },
     "metadata": {},
     "output_type": "display_data"
    },
    {
     "data": {
      "text/html": [
       "<pre style=\"white-space:pre;overflow-x:auto;line-height:normal;font-family:Menlo,'DejaVu Sans Mono',consolas,'Courier New',monospace\">OpenAIModel is processing the question 103281\n",
       "</pre>\n"
      ],
      "text/plain": [
       "OpenAIModel is processing the question 103281\n"
      ]
     },
     "metadata": {},
     "output_type": "display_data"
    },
    {
     "data": {
      "text/html": [
       "<pre style=\"white-space:pre;overflow-x:auto;line-height:normal;font-family:Menlo,'DejaVu Sans Mono',consolas,'Courier New',monospace\">OpenAIModel is processing the question 103605\n",
       "</pre>\n"
      ],
      "text/plain": [
       "OpenAIModel is processing the question 103605\n"
      ]
     },
     "metadata": {},
     "output_type": "display_data"
    },
    {
     "data": {
      "text/html": [
       "<pre style=\"white-space:pre;overflow-x:auto;line-height:normal;font-family:Menlo,'DejaVu Sans Mono',consolas,'Courier New',monospace\">OpenAIModel finished the question 103213 took 0.7211976051330566\n",
       "</pre>\n"
      ],
      "text/plain": [
       "OpenAIModel finished the question 103213 took 0.7211976051330566\n"
      ]
     },
     "metadata": {},
     "output_type": "display_data"
    },
    {
     "data": {
      "text/html": [
       "<pre style=\"white-space:pre;overflow-x:auto;line-height:normal;font-family:Menlo,'DejaVu Sans Mono',consolas,'Courier New',monospace\">OpenAIModel is processing the question 104159\n",
       "</pre>\n"
      ],
      "text/plain": [
       "OpenAIModel is processing the question 104159\n"
      ]
     },
     "metadata": {},
     "output_type": "display_data"
    },
    {
     "data": {
      "text/html": [
       "<pre style=\"white-space:pre;overflow-x:auto;line-height:normal;font-family:Menlo,'DejaVu Sans Mono',consolas,'Courier New',monospace\">OpenAIModel finished the question 103592 took 0.4325118064880371\n",
       "</pre>\n"
      ],
      "text/plain": [
       "OpenAIModel finished the question 103592 took 0.4325118064880371\n"
      ]
     },
     "metadata": {},
     "output_type": "display_data"
    },
    {
     "data": {
      "text/html": [
       "<pre style=\"white-space:pre;overflow-x:auto;line-height:normal;font-family:Menlo,'DejaVu Sans Mono',consolas,'Courier New',monospace\">OpenAIModel is processing the question 104066\n",
       "</pre>\n"
      ],
      "text/plain": [
       "OpenAIModel is processing the question 104066\n"
      ]
     },
     "metadata": {},
     "output_type": "display_data"
    },
    {
     "data": {
      "text/html": [
       "<pre style=\"white-space:pre;overflow-x:auto;line-height:normal;font-family:Menlo,'DejaVu Sans Mono',consolas,'Courier New',monospace\">OpenAIModel is processing the question 104060\n",
       "</pre>\n"
      ],
      "text/plain": [
       "OpenAIModel is processing the question 104060\n"
      ]
     },
     "metadata": {},
     "output_type": "display_data"
    },
    {
     "data": {
      "text/html": [
       "<pre style=\"white-space:pre;overflow-x:auto;line-height:normal;font-family:Menlo,'DejaVu Sans Mono',consolas,'Courier New',monospace\">OpenAIModel is processing the question 103300\n",
       "</pre>\n"
      ],
      "text/plain": [
       "OpenAIModel is processing the question 103300\n"
      ]
     },
     "metadata": {},
     "output_type": "display_data"
    },
    {
     "data": {
      "text/html": [
       "<pre style=\"white-space:pre;overflow-x:auto;line-height:normal;font-family:Menlo,'DejaVu Sans Mono',consolas,'Courier New',monospace\">OpenAIModel finished the question 103401 took 3.1554200649261475\n",
       "</pre>\n"
      ],
      "text/plain": [
       "OpenAIModel finished the question 103401 took 3.1554200649261475\n"
      ]
     },
     "metadata": {},
     "output_type": "display_data"
    },
    {
     "data": {
      "text/html": [
       "<pre style=\"white-space:pre;overflow-x:auto;line-height:normal;font-family:Menlo,'DejaVu Sans Mono',consolas,'Courier New',monospace\">OpenAIModel finished the question 103281 took 0.6774327754974365\n",
       "</pre>\n"
      ],
      "text/plain": [
       "OpenAIModel finished the question 103281 took 0.6774327754974365\n"
      ]
     },
     "metadata": {},
     "output_type": "display_data"
    },
    {
     "data": {
      "text/html": [
       "<pre style=\"white-space:pre;overflow-x:auto;line-height:normal;font-family:Menlo,'DejaVu Sans Mono',consolas,'Courier New',monospace\">OpenAIModel finished the question 102228 took 8.660736799240112\n",
       "</pre>\n"
      ],
      "text/plain": [
       "OpenAIModel finished the question 102228 took 8.660736799240112\n"
      ]
     },
     "metadata": {},
     "output_type": "display_data"
    },
    {
     "data": {
      "text/html": [
       "<pre style=\"white-space:pre;overflow-x:auto;line-height:normal;font-family:Menlo,'DejaVu Sans Mono',consolas,'Courier New',monospace\">OpenAIModel is processing the question 104021\n",
       "</pre>\n"
      ],
      "text/plain": [
       "OpenAIModel is processing the question 104021\n"
      ]
     },
     "metadata": {},
     "output_type": "display_data"
    },
    {
     "data": {
      "text/html": [
       "<pre style=\"white-space:pre;overflow-x:auto;line-height:normal;font-family:Menlo,'DejaVu Sans Mono',consolas,'Courier New',monospace\">OpenAIModel finished the question 103300 took 0.5041408538818359\n",
       "</pre>\n"
      ],
      "text/plain": [
       "OpenAIModel finished the question 103300 took 0.5041408538818359\n"
      ]
     },
     "metadata": {},
     "output_type": "display_data"
    },
    {
     "data": {
      "text/html": [
       "<pre style=\"white-space:pre;overflow-x:auto;line-height:normal;font-family:Menlo,'DejaVu Sans Mono',consolas,'Courier New',monospace\">OpenAIModel finished the question 103325 took 1.922769546508789\n",
       "</pre>\n"
      ],
      "text/plain": [
       "OpenAIModel finished the question 103325 took 1.922769546508789\n"
      ]
     },
     "metadata": {},
     "output_type": "display_data"
    },
    {
     "data": {
      "text/html": [
       "<pre style=\"white-space:pre;overflow-x:auto;line-height:normal;font-family:Menlo,'DejaVu Sans Mono',consolas,'Courier New',monospace\">OpenAIModel is processing the question 103690\n",
       "</pre>\n"
      ],
      "text/plain": [
       "OpenAIModel is processing the question 103690\n"
      ]
     },
     "metadata": {},
     "output_type": "display_data"
    },
    {
     "data": {
      "text/html": [
       "<pre style=\"white-space:pre;overflow-x:auto;line-height:normal;font-family:Menlo,'DejaVu Sans Mono',consolas,'Courier New',monospace\">OpenAIModel finished the question 104066 took 0.7759284973144531\n",
       "</pre>\n"
      ],
      "text/plain": [
       "OpenAIModel finished the question 104066 took 0.7759284973144531\n"
      ]
     },
     "metadata": {},
     "output_type": "display_data"
    },
    {
     "data": {
      "text/html": [
       "<pre style=\"white-space:pre;overflow-x:auto;line-height:normal;font-family:Menlo,'DejaVu Sans Mono',consolas,'Courier New',monospace\">OpenAIModel finished the question 103605 took 1.0868399143218994\n",
       "</pre>\n"
      ],
      "text/plain": [
       "OpenAIModel finished the question 103605 took 1.0868399143218994\n"
      ]
     },
     "metadata": {},
     "output_type": "display_data"
    },
    {
     "data": {
      "text/html": [
       "<pre style=\"white-space:pre;overflow-x:auto;line-height:normal;font-family:Menlo,'DejaVu Sans Mono',consolas,'Courier New',monospace\">OpenAIModel finished the question 104060 took 0.76706862449646\n",
       "</pre>\n"
      ],
      "text/plain": [
       "OpenAIModel finished the question 104060 took 0.76706862449646\n"
      ]
     },
     "metadata": {},
     "output_type": "display_data"
    },
    {
     "data": {
      "text/html": [
       "<pre style=\"white-space:pre;overflow-x:auto;line-height:normal;font-family:Menlo,'DejaVu Sans Mono',consolas,'Courier New',monospace\">OpenAIModel is processing the question 104227\n",
       "</pre>\n"
      ],
      "text/plain": [
       "OpenAIModel is processing the question 104227\n"
      ]
     },
     "metadata": {},
     "output_type": "display_data"
    },
    {
     "data": {
      "text/html": [
       "<pre style=\"white-space:pre;overflow-x:auto;line-height:normal;font-family:Menlo,'DejaVu Sans Mono',consolas,'Courier New',monospace\">OpenAIModel finished the question 104159 took 1.1400938034057617\n",
       "</pre>\n"
      ],
      "text/plain": [
       "OpenAIModel finished the question 104159 took 1.1400938034057617\n"
      ]
     },
     "metadata": {},
     "output_type": "display_data"
    },
    {
     "data": {
      "text/html": [
       "<pre style=\"white-space:pre;overflow-x:auto;line-height:normal;font-family:Menlo,'DejaVu Sans Mono',consolas,'Courier New',monospace\">OpenAIModel finished the question 102804 took 7.616365194320679\n",
       "</pre>\n"
      ],
      "text/plain": [
       "OpenAIModel finished the question 102804 took 7.616365194320679\n"
      ]
     },
     "metadata": {},
     "output_type": "display_data"
    },
    {
     "data": {
      "text/html": [
       "<pre style=\"white-space:pre;overflow-x:auto;line-height:normal;font-family:Menlo,'DejaVu Sans Mono',consolas,'Courier New',monospace\">OpenAIModel is processing the question 104043\n",
       "</pre>\n"
      ],
      "text/plain": [
       "OpenAIModel is processing the question 104043\n"
      ]
     },
     "metadata": {},
     "output_type": "display_data"
    },
    {
     "data": {
      "text/html": [
       "<pre style=\"white-space:pre;overflow-x:auto;line-height:normal;font-family:Menlo,'DejaVu Sans Mono',consolas,'Courier New',monospace\">OpenAIModel finished the question 103176 took 3.205237627029419\n",
       "</pre>\n"
      ],
      "text/plain": [
       "OpenAIModel finished the question 103176 took 3.205237627029419\n"
      ]
     },
     "metadata": {},
     "output_type": "display_data"
    },
    {
     "data": {
      "text/html": [
       "<pre style=\"white-space:pre;overflow-x:auto;line-height:normal;font-family:Menlo,'DejaVu Sans Mono',consolas,'Courier New',monospace\">OpenAIModel is processing the question 103520\n",
       "</pre>\n"
      ],
      "text/plain": [
       "OpenAIModel is processing the question 103520\n"
      ]
     },
     "metadata": {},
     "output_type": "display_data"
    },
    {
     "data": {
      "text/html": [
       "<pre style=\"white-space:pre;overflow-x:auto;line-height:normal;font-family:Menlo,'DejaVu Sans Mono',consolas,'Courier New',monospace\">OpenAIModel finished the question 101142 took 8.866373062133789\n",
       "</pre>\n"
      ],
      "text/plain": [
       "OpenAIModel finished the question 101142 took 8.866373062133789\n"
      ]
     },
     "metadata": {},
     "output_type": "display_data"
    },
    {
     "data": {
      "text/html": [
       "<pre style=\"white-space:pre;overflow-x:auto;line-height:normal;font-family:Menlo,'DejaVu Sans Mono',consolas,'Courier New',monospace\">OpenAIModel is processing the question 104244\n",
       "</pre>\n"
      ],
      "text/plain": [
       "OpenAIModel is processing the question 104244\n"
      ]
     },
     "metadata": {},
     "output_type": "display_data"
    },
    {
     "data": {
      "text/html": [
       "<pre style=\"white-space:pre;overflow-x:auto;line-height:normal;font-family:Menlo,'DejaVu Sans Mono',consolas,'Courier New',monospace\">OpenAIModel finished the question 103172 took 3.102813243865967\n",
       "</pre>\n"
      ],
      "text/plain": [
       "OpenAIModel finished the question 103172 took 3.102813243865967\n"
      ]
     },
     "metadata": {},
     "output_type": "display_data"
    },
    {
     "data": {
      "text/html": [
       "<pre style=\"white-space:pre;overflow-x:auto;line-height:normal;font-family:Menlo,'DejaVu Sans Mono',consolas,'Courier New',monospace\">OpenAIModel finished the question 103690 took 0.6394891738891602\n",
       "</pre>\n"
      ],
      "text/plain": [
       "OpenAIModel finished the question 103690 took 0.6394891738891602\n"
      ]
     },
     "metadata": {},
     "output_type": "display_data"
    },
    {
     "data": {
      "text/html": [
       "<pre style=\"white-space:pre;overflow-x:auto;line-height:normal;font-family:Menlo,'DejaVu Sans Mono',consolas,'Courier New',monospace\">OpenAIModel finished the question 104227 took 0.46683597564697266\n",
       "</pre>\n"
      ],
      "text/plain": [
       "OpenAIModel finished the question 104227 took 0.46683597564697266\n"
      ]
     },
     "metadata": {},
     "output_type": "display_data"
    },
    {
     "data": {
      "text/html": [
       "<pre style=\"white-space:pre;overflow-x:auto;line-height:normal;font-family:Menlo,'DejaVu Sans Mono',consolas,'Courier New',monospace\">OpenAIModel finished the question 104021 took 0.8808820247650146\n",
       "</pre>\n"
      ],
      "text/plain": [
       "OpenAIModel finished the question 104021 took 0.8808820247650146\n"
      ]
     },
     "metadata": {},
     "output_type": "display_data"
    },
    {
     "data": {
      "text/html": [
       "<pre style=\"white-space:pre;overflow-x:auto;line-height:normal;font-family:Menlo,'DejaVu Sans Mono',consolas,'Courier New',monospace\">OpenAIModel is processing the question 103688\n",
       "</pre>\n"
      ],
      "text/plain": [
       "OpenAIModel is processing the question 103688\n"
      ]
     },
     "metadata": {},
     "output_type": "display_data"
    },
    {
     "data": {
      "text/html": [
       "<pre style=\"white-space:pre;overflow-x:auto;line-height:normal;font-family:Menlo,'DejaVu Sans Mono',consolas,'Courier New',monospace\">OpenAIModel is processing the question 103218\n",
       "</pre>\n"
      ],
      "text/plain": [
       "OpenAIModel is processing the question 103218\n"
      ]
     },
     "metadata": {},
     "output_type": "display_data"
    },
    {
     "data": {
      "text/html": [
       "<pre style=\"white-space:pre;overflow-x:auto;line-height:normal;font-family:Menlo,'DejaVu Sans Mono',consolas,'Courier New',monospace\">OpenAIModel is processing the question 103747\n",
       "</pre>\n"
      ],
      "text/plain": [
       "OpenAIModel is processing the question 103747\n"
      ]
     },
     "metadata": {},
     "output_type": "display_data"
    },
    {
     "data": {
      "text/html": [
       "<pre style=\"white-space:pre;overflow-x:auto;line-height:normal;font-family:Menlo,'DejaVu Sans Mono',consolas,'Courier New',monospace\">OpenAIModel finished the question 103674 took 2.4636662006378174\n",
       "</pre>\n"
      ],
      "text/plain": [
       "OpenAIModel finished the question 103674 took 2.4636662006378174\n"
      ]
     },
     "metadata": {},
     "output_type": "display_data"
    },
    {
     "data": {
      "text/html": [
       "<pre style=\"white-space:pre;overflow-x:auto;line-height:normal;font-family:Menlo,'DejaVu Sans Mono',consolas,'Courier New',monospace\">OpenAIModel is processing the question 104254\n",
       "</pre>\n"
      ],
      "text/plain": [
       "OpenAIModel is processing the question 104254\n"
      ]
     },
     "metadata": {},
     "output_type": "display_data"
    },
    {
     "data": {
      "text/html": [
       "<pre style=\"white-space:pre;overflow-x:auto;line-height:normal;font-family:Menlo,'DejaVu Sans Mono',consolas,'Courier New',monospace\">OpenAIModel finished the question 104244 took 0.5346112251281738\n",
       "</pre>\n"
      ],
      "text/plain": [
       "OpenAIModel finished the question 104244 took 0.5346112251281738\n"
      ]
     },
     "metadata": {},
     "output_type": "display_data"
    },
    {
     "data": {
      "text/html": [
       "<pre style=\"white-space:pre;overflow-x:auto;line-height:normal;font-family:Menlo,'DejaVu Sans Mono',consolas,'Courier New',monospace\">OpenAIModel finished the question 103520 took 0.656191349029541\n",
       "</pre>\n"
      ],
      "text/plain": [
       "OpenAIModel finished the question 103520 took 0.656191349029541\n"
      ]
     },
     "metadata": {},
     "output_type": "display_data"
    },
    {
     "data": {
      "text/html": [
       "<pre style=\"white-space:pre;overflow-x:auto;line-height:normal;font-family:Menlo,'DejaVu Sans Mono',consolas,'Courier New',monospace\">OpenAIModel finished the question 101920 took 4.295170307159424\n",
       "</pre>\n"
      ],
      "text/plain": [
       "OpenAIModel finished the question 101920 took 4.295170307159424\n"
      ]
     },
     "metadata": {},
     "output_type": "display_data"
    },
    {
     "data": {
      "text/html": [
       "<pre style=\"white-space:pre;overflow-x:auto;line-height:normal;font-family:Menlo,'DejaVu Sans Mono',consolas,'Courier New',monospace\">OpenAIModel is processing the question 103502\n",
       "</pre>\n"
      ],
      "text/plain": [
       "OpenAIModel is processing the question 103502\n"
      ]
     },
     "metadata": {},
     "output_type": "display_data"
    },
    {
     "data": {
      "text/html": [
       "<pre style=\"white-space:pre;overflow-x:auto;line-height:normal;font-family:Menlo,'DejaVu Sans Mono',consolas,'Courier New',monospace\">OpenAIModel is processing the question 103909\n",
       "</pre>\n"
      ],
      "text/plain": [
       "OpenAIModel is processing the question 103909\n"
      ]
     },
     "metadata": {},
     "output_type": "display_data"
    },
    {
     "data": {
      "text/html": [
       "<pre style=\"white-space:pre;overflow-x:auto;line-height:normal;font-family:Menlo,'DejaVu Sans Mono',consolas,'Courier New',monospace\">OpenAIModel finished the question 103218 took 0.4646129608154297\n",
       "</pre>\n"
      ],
      "text/plain": [
       "OpenAIModel finished the question 103218 took 0.4646129608154297\n"
      ]
     },
     "metadata": {},
     "output_type": "display_data"
    },
    {
     "data": {
      "text/html": [
       "<pre style=\"white-space:pre;overflow-x:auto;line-height:normal;font-family:Menlo,'DejaVu Sans Mono',consolas,'Courier New',monospace\">OpenAIModel is processing the question 104226\n",
       "</pre>\n"
      ],
      "text/plain": [
       "OpenAIModel is processing the question 104226\n"
      ]
     },
     "metadata": {},
     "output_type": "display_data"
    },
    {
     "data": {
      "text/html": [
       "<pre style=\"white-space:pre;overflow-x:auto;line-height:normal;font-family:Menlo,'DejaVu Sans Mono',consolas,'Courier New',monospace\">OpenAIModel is processing the question 104101\n",
       "</pre>\n"
      ],
      "text/plain": [
       "OpenAIModel is processing the question 104101\n"
      ]
     },
     "metadata": {},
     "output_type": "display_data"
    },
    {
     "data": {
      "text/html": [
       "<pre style=\"white-space:pre;overflow-x:auto;line-height:normal;font-family:Menlo,'DejaVu Sans Mono',consolas,'Courier New',monospace\">OpenAIModel is processing the question 104690\n",
       "</pre>\n"
      ],
      "text/plain": [
       "OpenAIModel is processing the question 104690\n"
      ]
     },
     "metadata": {},
     "output_type": "display_data"
    },
    {
     "data": {
      "text/html": [
       "<pre style=\"white-space:pre;overflow-x:auto;line-height:normal;font-family:Menlo,'DejaVu Sans Mono',consolas,'Courier New',monospace\">OpenAIModel finished the question 104254 took 0.45212531089782715\n",
       "</pre>\n"
      ],
      "text/plain": [
       "OpenAIModel finished the question 104254 took 0.45212531089782715\n"
      ]
     },
     "metadata": {},
     "output_type": "display_data"
    },
    {
     "data": {
      "text/html": [
       "<pre style=\"white-space:pre;overflow-x:auto;line-height:normal;font-family:Menlo,'DejaVu Sans Mono',consolas,'Courier New',monospace\">OpenAIModel is processing the question 104659\n",
       "</pre>\n"
      ],
      "text/plain": [
       "OpenAIModel is processing the question 104659\n"
      ]
     },
     "metadata": {},
     "output_type": "display_data"
    },
    {
     "data": {
      "text/html": [
       "<pre style=\"white-space:pre;overflow-x:auto;line-height:normal;font-family:Menlo,'DejaVu Sans Mono',consolas,'Courier New',monospace\">OpenAIModel is processing the question 104233\n",
       "</pre>\n"
      ],
      "text/plain": [
       "OpenAIModel is processing the question 104233\n"
      ]
     },
     "metadata": {},
     "output_type": "display_data"
    },
    {
     "data": {
      "text/html": [
       "<pre style=\"white-space:pre;overflow-x:auto;line-height:normal;font-family:Menlo,'DejaVu Sans Mono',consolas,'Courier New',monospace\">OpenAIModel is processing the question 104758\n",
       "</pre>\n"
      ],
      "text/plain": [
       "OpenAIModel is processing the question 104758\n"
      ]
     },
     "metadata": {},
     "output_type": "display_data"
    },
    {
     "data": {
      "text/html": [
       "<pre style=\"white-space:pre;overflow-x:auto;line-height:normal;font-family:Menlo,'DejaVu Sans Mono',consolas,'Courier New',monospace\">OpenAIModel is processing the question 104723\n",
       "</pre>\n"
      ],
      "text/plain": [
       "OpenAIModel is processing the question 104723\n"
      ]
     },
     "metadata": {},
     "output_type": "display_data"
    },
    {
     "data": {
      "text/html": [
       "<pre style=\"white-space:pre;overflow-x:auto;line-height:normal;font-family:Menlo,'DejaVu Sans Mono',consolas,'Courier New',monospace\">OpenAIModel is processing the question 104724\n",
       "</pre>\n"
      ],
      "text/plain": [
       "OpenAIModel is processing the question 104724\n"
      ]
     },
     "metadata": {},
     "output_type": "display_data"
    },
    {
     "data": {
      "text/html": [
       "<pre style=\"white-space:pre;overflow-x:auto;line-height:normal;font-family:Menlo,'DejaVu Sans Mono',consolas,'Courier New',monospace\">OpenAIModel finished the question 103502 took 0.6936936378479004\n",
       "</pre>\n"
      ],
      "text/plain": [
       "OpenAIModel finished the question 103502 took 0.6936936378479004\n"
      ]
     },
     "metadata": {},
     "output_type": "display_data"
    },
    {
     "data": {
      "text/html": [
       "<pre style=\"white-space:pre;overflow-x:auto;line-height:normal;font-family:Menlo,'DejaVu Sans Mono',consolas,'Courier New',monospace\">OpenAIModel is processing the question 103915\n",
       "</pre>\n"
      ],
      "text/plain": [
       "OpenAIModel is processing the question 103915\n"
      ]
     },
     "metadata": {},
     "output_type": "display_data"
    },
    {
     "data": {
      "text/html": [
       "<pre style=\"white-space:pre;overflow-x:auto;line-height:normal;font-family:Menlo,'DejaVu Sans Mono',consolas,'Courier New',monospace\">OpenAIModel is processing the question 104619\n",
       "</pre>\n"
      ],
      "text/plain": [
       "OpenAIModel is processing the question 104619\n"
      ]
     },
     "metadata": {},
     "output_type": "display_data"
    },
    {
     "data": {
      "text/html": [
       "<pre style=\"white-space:pre;overflow-x:auto;line-height:normal;font-family:Menlo,'DejaVu Sans Mono',consolas,'Courier New',monospace\">OpenAIModel finished the question 104043 took 1.6644442081451416\n",
       "</pre>\n"
      ],
      "text/plain": [
       "OpenAIModel finished the question 104043 took 1.6644442081451416\n"
      ]
     },
     "metadata": {},
     "output_type": "display_data"
    },
    {
     "data": {
      "text/html": [
       "<pre style=\"white-space:pre;overflow-x:auto;line-height:normal;font-family:Menlo,'DejaVu Sans Mono',consolas,'Courier New',monospace\">OpenAIModel finished the question 103747 took 1.1466946601867676\n",
       "</pre>\n"
      ],
      "text/plain": [
       "OpenAIModel finished the question 103747 took 1.1466946601867676\n"
      ]
     },
     "metadata": {},
     "output_type": "display_data"
    },
    {
     "data": {
      "text/html": [
       "<pre style=\"white-space:pre;overflow-x:auto;line-height:normal;font-family:Menlo,'DejaVu Sans Mono',consolas,'Courier New',monospace\">OpenAIModel finished the question 104690 took 0.6655693054199219\n",
       "</pre>\n"
      ],
      "text/plain": [
       "OpenAIModel finished the question 104690 took 0.6655693054199219\n"
      ]
     },
     "metadata": {},
     "output_type": "display_data"
    },
    {
     "data": {
      "text/html": [
       "<pre style=\"white-space:pre;overflow-x:auto;line-height:normal;font-family:Menlo,'DejaVu Sans Mono',consolas,'Courier New',monospace\">OpenAIModel finished the question 104233 took 0.44356822967529297\n",
       "</pre>\n"
      ],
      "text/plain": [
       "OpenAIModel finished the question 104233 took 0.44356822967529297\n"
      ]
     },
     "metadata": {},
     "output_type": "display_data"
    },
    {
     "data": {
      "text/html": [
       "<pre style=\"white-space:pre;overflow-x:auto;line-height:normal;font-family:Menlo,'DejaVu Sans Mono',consolas,'Courier New',monospace\">OpenAIModel finished the question 103688 took 1.3566925525665283\n",
       "</pre>\n"
      ],
      "text/plain": [
       "OpenAIModel finished the question 103688 took 1.3566925525665283\n"
      ]
     },
     "metadata": {},
     "output_type": "display_data"
    },
    {
     "data": {
      "text/html": [
       "<pre style=\"white-space:pre;overflow-x:auto;line-height:normal;font-family:Menlo,'DejaVu Sans Mono',consolas,'Courier New',monospace\">OpenAIModel finished the question 104101 took 0.74456787109375\n",
       "</pre>\n"
      ],
      "text/plain": [
       "OpenAIModel finished the question 104101 took 0.74456787109375\n"
      ]
     },
     "metadata": {},
     "output_type": "display_data"
    },
    {
     "data": {
      "text/html": [
       "<pre style=\"white-space:pre;overflow-x:auto;line-height:normal;font-family:Menlo,'DejaVu Sans Mono',consolas,'Courier New',monospace\">OpenAIModel is processing the question 104299\n",
       "</pre>\n"
      ],
      "text/plain": [
       "OpenAIModel is processing the question 104299\n"
      ]
     },
     "metadata": {},
     "output_type": "display_data"
    },
    {
     "data": {
      "text/html": [
       "<pre style=\"white-space:pre;overflow-x:auto;line-height:normal;font-family:Menlo,'DejaVu Sans Mono',consolas,'Courier New',monospace\">OpenAIModel finished the question 104723 took 0.5255701541900635\n",
       "</pre>\n"
      ],
      "text/plain": [
       "OpenAIModel finished the question 104723 took 0.5255701541900635\n"
      ]
     },
     "metadata": {},
     "output_type": "display_data"
    },
    {
     "data": {
      "text/html": [
       "<pre style=\"white-space:pre;overflow-x:auto;line-height:normal;font-family:Menlo,'DejaVu Sans Mono',consolas,'Courier New',monospace\">OpenAIModel finished the question 103915 took 0.5321354866027832\n",
       "</pre>\n"
      ],
      "text/plain": [
       "OpenAIModel finished the question 103915 took 0.5321354866027832\n"
      ]
     },
     "metadata": {},
     "output_type": "display_data"
    },
    {
     "data": {
      "text/html": [
       "<pre style=\"white-space:pre;overflow-x:auto;line-height:normal;font-family:Menlo,'DejaVu Sans Mono',consolas,'Courier New',monospace\">OpenAIModel finished the question 104758 took 0.8241374492645264\n",
       "</pre>\n"
      ],
      "text/plain": [
       "OpenAIModel finished the question 104758 took 0.8241374492645264\n"
      ]
     },
     "metadata": {},
     "output_type": "display_data"
    },
    {
     "data": {
      "text/html": [
       "<pre style=\"white-space:pre;overflow-x:auto;line-height:normal;font-family:Menlo,'DejaVu Sans Mono',consolas,'Courier New',monospace\">OpenAIModel finished the question 104724 took 0.75213623046875\n",
       "</pre>\n"
      ],
      "text/plain": [
       "OpenAIModel finished the question 104724 took 0.75213623046875\n"
      ]
     },
     "metadata": {},
     "output_type": "display_data"
    },
    {
     "data": {
      "text/html": [
       "<pre style=\"white-space:pre;overflow-x:auto;line-height:normal;font-family:Menlo,'DejaVu Sans Mono',consolas,'Courier New',monospace\">OpenAIModel is processing the question 104660\n",
       "</pre>\n"
      ],
      "text/plain": [
       "OpenAIModel is processing the question 104660\n"
      ]
     },
     "metadata": {},
     "output_type": "display_data"
    },
    {
     "data": {
      "text/html": [
       "<pre style=\"white-space:pre;overflow-x:auto;line-height:normal;font-family:Menlo,'DejaVu Sans Mono',consolas,'Courier New',monospace\">OpenAIModel finished the question 104619 took 0.7331373691558838\n",
       "</pre>\n"
      ],
      "text/plain": [
       "OpenAIModel finished the question 104619 took 0.7331373691558838\n"
      ]
     },
     "metadata": {},
     "output_type": "display_data"
    },
    {
     "data": {
      "text/html": [
       "<pre style=\"white-space:pre;overflow-x:auto;line-height:normal;font-family:Menlo,'DejaVu Sans Mono',consolas,'Courier New',monospace\">OpenAIModel finished the question 104659 took 1.269702434539795\n",
       "</pre>\n"
      ],
      "text/plain": [
       "OpenAIModel finished the question 104659 took 1.269702434539795\n"
      ]
     },
     "metadata": {},
     "output_type": "display_data"
    },
    {
     "data": {
      "text/html": [
       "<pre style=\"white-space:pre;overflow-x:auto;line-height:normal;font-family:Menlo,'DejaVu Sans Mono',consolas,'Courier New',monospace\">OpenAIModel is processing the question 104528\n",
       "</pre>\n"
      ],
      "text/plain": [
       "OpenAIModel is processing the question 104528\n"
      ]
     },
     "metadata": {},
     "output_type": "display_data"
    },
    {
     "data": {
      "text/html": [
       "<pre style=\"white-space:pre;overflow-x:auto;line-height:normal;font-family:Menlo,'DejaVu Sans Mono',consolas,'Courier New',monospace\">OpenAIModel finished the question 103909 took 1.5108590126037598\n",
       "</pre>\n"
      ],
      "text/plain": [
       "OpenAIModel finished the question 103909 took 1.5108590126037598\n"
      ]
     },
     "metadata": {},
     "output_type": "display_data"
    },
    {
     "data": {
      "text/html": [
       "<pre style=\"white-space:pre;overflow-x:auto;line-height:normal;font-family:Menlo,'DejaVu Sans Mono',consolas,'Courier New',monospace\">OpenAIModel is processing the question 104195\n",
       "</pre>\n"
      ],
      "text/plain": [
       "OpenAIModel is processing the question 104195\n"
      ]
     },
     "metadata": {},
     "output_type": "display_data"
    },
    {
     "data": {
      "text/html": [
       "<pre style=\"white-space:pre;overflow-x:auto;line-height:normal;font-family:Menlo,'DejaVu Sans Mono',consolas,'Courier New',monospace\">OpenAIModel is processing the question 104729\n",
       "</pre>\n"
      ],
      "text/plain": [
       "OpenAIModel is processing the question 104729\n"
      ]
     },
     "metadata": {},
     "output_type": "display_data"
    },
    {
     "data": {
      "text/html": [
       "<pre style=\"white-space:pre;overflow-x:auto;line-height:normal;font-family:Menlo,'DejaVu Sans Mono',consolas,'Courier New',monospace\">OpenAIModel finished the question 104226 took 1.498795986175537\n",
       "</pre>\n"
      ],
      "text/plain": [
       "OpenAIModel finished the question 104226 took 1.498795986175537\n"
      ]
     },
     "metadata": {},
     "output_type": "display_data"
    },
    {
     "data": {
      "text/html": [
       "<pre style=\"white-space:pre;overflow-x:auto;line-height:normal;font-family:Menlo,'DejaVu Sans Mono',consolas,'Courier New',monospace\">OpenAIModel finished the question 104299 took 0.6182689666748047\n",
       "</pre>\n"
      ],
      "text/plain": [
       "OpenAIModel finished the question 104299 took 0.6182689666748047\n"
      ]
     },
     "metadata": {},
     "output_type": "display_data"
    },
    {
     "data": {
      "text/html": [
       "<pre style=\"white-space:pre;overflow-x:auto;line-height:normal;font-family:Menlo,'DejaVu Sans Mono',consolas,'Courier New',monospace\">OpenAIModel is processing the question 104562\n",
       "</pre>\n"
      ],
      "text/plain": [
       "OpenAIModel is processing the question 104562\n"
      ]
     },
     "metadata": {},
     "output_type": "display_data"
    },
    {
     "data": {
      "text/html": [
       "<pre style=\"white-space:pre;overflow-x:auto;line-height:normal;font-family:Menlo,'DejaVu Sans Mono',consolas,'Courier New',monospace\">OpenAIModel is processing the question 104779\n",
       "</pre>\n"
      ],
      "text/plain": [
       "OpenAIModel is processing the question 104779\n"
      ]
     },
     "metadata": {},
     "output_type": "display_data"
    },
    {
     "data": {
      "text/html": [
       "<pre style=\"white-space:pre;overflow-x:auto;line-height:normal;font-family:Menlo,'DejaVu Sans Mono',consolas,'Courier New',monospace\">OpenAIModel is processing the question 104800\n",
       "</pre>\n"
      ],
      "text/plain": [
       "OpenAIModel is processing the question 104800\n"
      ]
     },
     "metadata": {},
     "output_type": "display_data"
    },
    {
     "data": {
      "text/html": [
       "<pre style=\"white-space:pre;overflow-x:auto;line-height:normal;font-family:Menlo,'DejaVu Sans Mono',consolas,'Courier New',monospace\">OpenAIModel finished the question 104660 took 0.5332884788513184\n",
       "</pre>\n"
      ],
      "text/plain": [
       "OpenAIModel finished the question 104660 took 0.5332884788513184\n"
      ]
     },
     "metadata": {},
     "output_type": "display_data"
    },
    {
     "data": {
      "text/html": [
       "<pre style=\"white-space:pre;overflow-x:auto;line-height:normal;font-family:Menlo,'DejaVu Sans Mono',consolas,'Courier New',monospace\">OpenAIModel is processing the question 104402\n",
       "</pre>\n"
      ],
      "text/plain": [
       "OpenAIModel is processing the question 104402\n"
      ]
     },
     "metadata": {},
     "output_type": "display_data"
    },
    {
     "data": {
      "text/html": [
       "<pre style=\"white-space:pre;overflow-x:auto;line-height:normal;font-family:Menlo,'DejaVu Sans Mono',consolas,'Courier New',monospace\">OpenAIModel finished the question 104195 took 0.5107450485229492\n",
       "</pre>\n"
      ],
      "text/plain": [
       "OpenAIModel finished the question 104195 took 0.5107450485229492\n"
      ]
     },
     "metadata": {},
     "output_type": "display_data"
    },
    {
     "data": {
      "text/html": [
       "<pre style=\"white-space:pre;overflow-x:auto;line-height:normal;font-family:Menlo,'DejaVu Sans Mono',consolas,'Courier New',monospace\">OpenAIModel finished the question 104528 took 0.5897741317749023\n",
       "</pre>\n"
      ],
      "text/plain": [
       "OpenAIModel finished the question 104528 took 0.5897741317749023\n"
      ]
     },
     "metadata": {},
     "output_type": "display_data"
    },
    {
     "data": {
      "text/html": [
       "<pre style=\"white-space:pre;overflow-x:auto;line-height:normal;font-family:Menlo,'DejaVu Sans Mono',consolas,'Courier New',monospace\">OpenAIModel is processing the question 105107\n",
       "</pre>\n"
      ],
      "text/plain": [
       "OpenAIModel is processing the question 105107\n"
      ]
     },
     "metadata": {},
     "output_type": "display_data"
    },
    {
     "data": {
      "text/html": [
       "<pre style=\"white-space:pre;overflow-x:auto;line-height:normal;font-family:Menlo,'DejaVu Sans Mono',consolas,'Courier New',monospace\">OpenAIModel is processing the question 104825\n",
       "</pre>\n"
      ],
      "text/plain": [
       "OpenAIModel is processing the question 104825\n"
      ]
     },
     "metadata": {},
     "output_type": "display_data"
    },
    {
     "data": {
      "text/html": [
       "<pre style=\"white-space:pre;overflow-x:auto;line-height:normal;font-family:Menlo,'DejaVu Sans Mono',consolas,'Courier New',monospace\">OpenAIModel is processing the question 103830\n",
       "</pre>\n"
      ],
      "text/plain": [
       "OpenAIModel is processing the question 103830\n"
      ]
     },
     "metadata": {},
     "output_type": "display_data"
    },
    {
     "data": {
      "text/html": [
       "<pre style=\"white-space:pre;overflow-x:auto;line-height:normal;font-family:Menlo,'DejaVu Sans Mono',consolas,'Courier New',monospace\">OpenAIModel is processing the question 104548\n",
       "</pre>\n"
      ],
      "text/plain": [
       "OpenAIModel is processing the question 104548\n"
      ]
     },
     "metadata": {},
     "output_type": "display_data"
    },
    {
     "data": {
      "text/html": [
       "<pre style=\"white-space:pre;overflow-x:auto;line-height:normal;font-family:Menlo,'DejaVu Sans Mono',consolas,'Courier New',monospace\">OpenAIModel finished the question 104729 took 0.7472348213195801\n",
       "</pre>\n"
      ],
      "text/plain": [
       "OpenAIModel finished the question 104729 took 0.7472348213195801\n"
      ]
     },
     "metadata": {},
     "output_type": "display_data"
    },
    {
     "data": {
      "text/html": [
       "<pre style=\"white-space:pre;overflow-x:auto;line-height:normal;font-family:Menlo,'DejaVu Sans Mono',consolas,'Courier New',monospace\">OpenAIModel is processing the question 105123\n",
       "</pre>\n"
      ],
      "text/plain": [
       "OpenAIModel is processing the question 105123\n"
      ]
     },
     "metadata": {},
     "output_type": "display_data"
    },
    {
     "data": {
      "text/html": [
       "<pre style=\"white-space:pre;overflow-x:auto;line-height:normal;font-family:Menlo,'DejaVu Sans Mono',consolas,'Courier New',monospace\">OpenAIModel is processing the question 105141\n",
       "</pre>\n"
      ],
      "text/plain": [
       "OpenAIModel is processing the question 105141\n"
      ]
     },
     "metadata": {},
     "output_type": "display_data"
    },
    {
     "data": {
      "text/html": [
       "<pre style=\"white-space:pre;overflow-x:auto;line-height:normal;font-family:Menlo,'DejaVu Sans Mono',consolas,'Courier New',monospace\">OpenAIModel is processing the question 105037\n",
       "</pre>\n"
      ],
      "text/plain": [
       "OpenAIModel is processing the question 105037\n"
      ]
     },
     "metadata": {},
     "output_type": "display_data"
    },
    {
     "data": {
      "text/html": [
       "<pre style=\"white-space:pre;overflow-x:auto;line-height:normal;font-family:Menlo,'DejaVu Sans Mono',consolas,'Courier New',monospace\">OpenAIModel finished the question 104548 took 0.4979991912841797\n",
       "</pre>\n"
      ],
      "text/plain": [
       "OpenAIModel finished the question 104548 took 0.4979991912841797\n"
      ]
     },
     "metadata": {},
     "output_type": "display_data"
    },
    {
     "data": {
      "text/html": [
       "<pre style=\"white-space:pre;overflow-x:auto;line-height:normal;font-family:Menlo,'DejaVu Sans Mono',consolas,'Courier New',monospace\">OpenAIModel is processing the question 105412\n",
       "</pre>\n"
      ],
      "text/plain": [
       "OpenAIModel is processing the question 105412\n"
      ]
     },
     "metadata": {},
     "output_type": "display_data"
    },
    {
     "data": {
      "text/html": [
       "<pre style=\"white-space:pre;overflow-x:auto;line-height:normal;font-family:Menlo,'DejaVu Sans Mono',consolas,'Courier New',monospace\">OpenAIModel finished the question 103830 took 0.63100266456604\n",
       "</pre>\n"
      ],
      "text/plain": [
       "OpenAIModel finished the question 103830 took 0.63100266456604\n"
      ]
     },
     "metadata": {},
     "output_type": "display_data"
    },
    {
     "data": {
      "text/html": [
       "<pre style=\"white-space:pre;overflow-x:auto;line-height:normal;font-family:Menlo,'DejaVu Sans Mono',consolas,'Courier New',monospace\">OpenAIModel finished the question 104402 took 0.9600157737731934\n",
       "</pre>\n"
      ],
      "text/plain": [
       "OpenAIModel finished the question 104402 took 0.9600157737731934\n"
      ]
     },
     "metadata": {},
     "output_type": "display_data"
    },
    {
     "data": {
      "text/html": [
       "<pre style=\"white-space:pre;overflow-x:auto;line-height:normal;font-family:Menlo,'DejaVu Sans Mono',consolas,'Courier New',monospace\">OpenAIModel finished the question 104825 took 0.9610142707824707\n",
       "</pre>\n"
      ],
      "text/plain": [
       "OpenAIModel finished the question 104825 took 0.9610142707824707\n"
      ]
     },
     "metadata": {},
     "output_type": "display_data"
    },
    {
     "data": {
      "text/html": [
       "<pre style=\"white-space:pre;overflow-x:auto;line-height:normal;font-family:Menlo,'DejaVu Sans Mono',consolas,'Courier New',monospace\">OpenAIModel finished the question 105123 took 0.8140149116516113\n",
       "</pre>\n"
      ],
      "text/plain": [
       "OpenAIModel finished the question 105123 took 0.8140149116516113\n"
      ]
     },
     "metadata": {},
     "output_type": "display_data"
    },
    {
     "data": {
      "text/html": [
       "<pre style=\"white-space:pre;overflow-x:auto;line-height:normal;font-family:Menlo,'DejaVu Sans Mono',consolas,'Courier New',monospace\">OpenAIModel finished the question 105303 took 0.5130138397216797\n",
       "</pre>\n"
      ],
      "text/plain": [
       "OpenAIModel finished the question 105303 took 0.5130138397216797\n"
      ]
     },
     "metadata": {},
     "output_type": "display_data"
    },
    {
     "data": {
      "text/html": [
       "<pre style=\"white-space:pre;overflow-x:auto;line-height:normal;font-family:Menlo,'DejaVu Sans Mono',consolas,'Courier New',monospace\">OpenAIModel finished the question 105129 took 0.5780150890350342\n",
       "</pre>\n"
      ],
      "text/plain": [
       "OpenAIModel finished the question 105129 took 0.5780150890350342\n"
      ]
     },
     "metadata": {},
     "output_type": "display_data"
    },
    {
     "data": {
      "text/html": [
       "<pre style=\"white-space:pre;overflow-x:auto;line-height:normal;font-family:Menlo,'DejaVu Sans Mono',consolas,'Courier New',monospace\">OpenAIModel finished the question 105046 took 0.6310164928436279\n",
       "</pre>\n"
      ],
      "text/plain": [
       "OpenAIModel finished the question 105046 took 0.6310164928436279\n"
      ]
     },
     "metadata": {},
     "output_type": "display_data"
    },
    {
     "data": {
      "text/html": [
       "<pre style=\"white-space:pre;overflow-x:auto;line-height:normal;font-family:Menlo,'DejaVu Sans Mono',consolas,'Courier New',monospace\">OpenAIModel is processing the question 105176\n",
       "</pre>\n"
      ],
      "text/plain": [
       "OpenAIModel is processing the question 105176\n"
      ]
     },
     "metadata": {},
     "output_type": "display_data"
    },
    {
     "data": {
      "text/html": [
       "<pre style=\"white-space:pre;overflow-x:auto;line-height:normal;font-family:Menlo,'DejaVu Sans Mono',consolas,'Courier New',monospace\">OpenAIModel is processing the question 105069\n",
       "</pre>\n"
      ],
      "text/plain": [
       "OpenAIModel is processing the question 105069\n"
      ]
     },
     "metadata": {},
     "output_type": "display_data"
    },
    {
     "data": {
      "text/html": [
       "<pre style=\"white-space:pre;overflow-x:auto;line-height:normal;font-family:Menlo,'DejaVu Sans Mono',consolas,'Courier New',monospace\">OpenAIModel is processing the question 105297\n",
       "</pre>\n"
      ],
      "text/plain": [
       "OpenAIModel is processing the question 105297\n"
      ]
     },
     "metadata": {},
     "output_type": "display_data"
    },
    {
     "data": {
      "text/html": [
       "<pre style=\"white-space:pre;overflow-x:auto;line-height:normal;font-family:Menlo,'DejaVu Sans Mono',consolas,'Courier New',monospace\">OpenAIModel is processing the question 104310\n",
       "</pre>\n"
      ],
      "text/plain": [
       "OpenAIModel is processing the question 104310\n"
      ]
     },
     "metadata": {},
     "output_type": "display_data"
    },
    {
     "data": {
      "text/html": [
       "<pre style=\"white-space:pre;overflow-x:auto;line-height:normal;font-family:Menlo,'DejaVu Sans Mono',consolas,'Courier New',monospace\">OpenAIModel finished the question 105412 took 0.5780158042907715\n",
       "</pre>\n"
      ],
      "text/plain": [
       "OpenAIModel finished the question 105412 took 0.5780158042907715\n"
      ]
     },
     "metadata": {},
     "output_type": "display_data"
    },
    {
     "data": {
      "text/html": [
       "<pre style=\"white-space:pre;overflow-x:auto;line-height:normal;font-family:Menlo,'DejaVu Sans Mono',consolas,'Courier New',monospace\">OpenAIModel is processing the question 104805\n",
       "</pre>\n"
      ],
      "text/plain": [
       "OpenAIModel is processing the question 104805\n"
      ]
     },
     "metadata": {},
     "output_type": "display_data"
    },
    {
     "data": {
      "text/html": [
       "<pre style=\"white-space:pre;overflow-x:auto;line-height:normal;font-family:Menlo,'DejaVu Sans Mono',consolas,'Courier New',monospace\">OpenAIModel finished the question 105141 took 1.2290160655975342\n",
       "</pre>\n"
      ],
      "text/plain": [
       "OpenAIModel finished the question 105141 took 1.2290160655975342\n"
      ]
     },
     "metadata": {},
     "output_type": "display_data"
    },
    {
     "data": {
      "text/html": [
       "<pre style=\"white-space:pre;overflow-x:auto;line-height:normal;font-family:Menlo,'DejaVu Sans Mono',consolas,'Courier New',monospace\">OpenAIModel finished the question 105037 took 0.919015645980835\n",
       "</pre>\n"
      ],
      "text/plain": [
       "OpenAIModel finished the question 105037 took 0.919015645980835\n"
      ]
     },
     "metadata": {},
     "output_type": "display_data"
    },
    {
     "data": {
      "text/html": [
       "<pre style=\"white-space:pre;overflow-x:auto;line-height:normal;font-family:Menlo,'DejaVu Sans Mono',consolas,'Courier New',monospace\">OpenAIModel is processing the question 104844\n",
       "</pre>\n"
      ],
      "text/plain": [
       "OpenAIModel is processing the question 104844\n"
      ]
     },
     "metadata": {},
     "output_type": "display_data"
    },
    {
     "data": {
      "text/html": [
       "<pre style=\"white-space:pre;overflow-x:auto;line-height:normal;font-family:Menlo,'DejaVu Sans Mono',consolas,'Courier New',monospace\">OpenAIModel is processing the question 105114\n",
       "</pre>\n"
      ],
      "text/plain": [
       "OpenAIModel is processing the question 105114\n"
      ]
     },
     "metadata": {},
     "output_type": "display_data"
    },
    {
     "data": {
      "text/html": [
       "<pre style=\"white-space:pre;overflow-x:auto;line-height:normal;font-family:Menlo,'DejaVu Sans Mono',consolas,'Courier New',monospace\">OpenAIModel is processing the question 105739\n",
       "</pre>\n"
      ],
      "text/plain": [
       "OpenAIModel is processing the question 105739\n"
      ]
     },
     "metadata": {},
     "output_type": "display_data"
    },
    {
     "data": {
      "text/html": [
       "<pre style=\"white-space:pre;overflow-x:auto;line-height:normal;font-family:Menlo,'DejaVu Sans Mono',consolas,'Courier New',monospace\">OpenAIModel finished the question 105297 took 0.5100002288818359\n",
       "</pre>\n"
      ],
      "text/plain": [
       "OpenAIModel finished the question 105297 took 0.5100002288818359\n"
      ]
     },
     "metadata": {},
     "output_type": "display_data"
    },
    {
     "data": {
      "text/html": [
       "<pre style=\"white-space:pre;overflow-x:auto;line-height:normal;font-family:Menlo,'DejaVu Sans Mono',consolas,'Courier New',monospace\">OpenAIModel is processing the question 105179\n",
       "</pre>\n"
      ],
      "text/plain": [
       "OpenAIModel is processing the question 105179\n"
      ]
     },
     "metadata": {},
     "output_type": "display_data"
    },
    {
     "data": {
      "text/html": [
       "<pre style=\"white-space:pre;overflow-x:auto;line-height:normal;font-family:Menlo,'DejaVu Sans Mono',consolas,'Courier New',monospace\">OpenAIModel is processing the question 105062\n",
       "</pre>\n"
      ],
      "text/plain": [
       "OpenAIModel is processing the question 105062\n"
      ]
     },
     "metadata": {},
     "output_type": "display_data"
    },
    {
     "data": {
      "text/html": [
       "<pre style=\"white-space:pre;overflow-x:auto;line-height:normal;font-family:Menlo,'DejaVu Sans Mono',consolas,'Courier New',monospace\">OpenAIModel finished the question 105176 took 0.6290018558502197\n",
       "</pre>\n"
      ],
      "text/plain": [
       "OpenAIModel finished the question 105176 took 0.6290018558502197\n"
      ]
     },
     "metadata": {},
     "output_type": "display_data"
    },
    {
     "data": {
      "text/html": [
       "<pre style=\"white-space:pre;overflow-x:auto;line-height:normal;font-family:Menlo,'DejaVu Sans Mono',consolas,'Courier New',monospace\">OpenAIModel is processing the question 105777\n",
       "</pre>\n"
      ],
      "text/plain": [
       "OpenAIModel is processing the question 105777\n"
      ]
     },
     "metadata": {},
     "output_type": "display_data"
    },
    {
     "data": {
      "text/html": [
       "<pre style=\"white-space:pre;overflow-x:auto;line-height:normal;font-family:Menlo,'DejaVu Sans Mono',consolas,'Courier New',monospace\">OpenAIModel is processing the question 104564\n",
       "</pre>\n"
      ],
      "text/plain": [
       "OpenAIModel is processing the question 104564\n"
      ]
     },
     "metadata": {},
     "output_type": "display_data"
    },
    {
     "data": {
      "text/html": [
       "<pre style=\"white-space:pre;overflow-x:auto;line-height:normal;font-family:Menlo,'DejaVu Sans Mono',consolas,'Courier New',monospace\">OpenAIModel is processing the question 105636\n",
       "</pre>\n"
      ],
      "text/plain": [
       "OpenAIModel is processing the question 105636\n"
      ]
     },
     "metadata": {},
     "output_type": "display_data"
    },
    {
     "data": {
      "text/html": [
       "<pre style=\"white-space:pre;overflow-x:auto;line-height:normal;font-family:Menlo,'DejaVu Sans Mono',consolas,'Courier New',monospace\">OpenAIModel finished the question 104805 took 0.6449995040893555\n",
       "</pre>\n"
      ],
      "text/plain": [
       "OpenAIModel finished the question 104805 took 0.6449995040893555\n"
      ]
     },
     "metadata": {},
     "output_type": "display_data"
    },
    {
     "data": {
      "text/html": [
       "<pre style=\"white-space:pre;overflow-x:auto;line-height:normal;font-family:Menlo,'DejaVu Sans Mono',consolas,'Courier New',monospace\">OpenAIModel finished the question 105069 took 0.8249979019165039\n",
       "</pre>\n"
      ],
      "text/plain": [
       "OpenAIModel finished the question 105069 took 0.8249979019165039\n"
      ]
     },
     "metadata": {},
     "output_type": "display_data"
    },
    {
     "data": {
      "text/html": [
       "<pre style=\"white-space:pre;overflow-x:auto;line-height:normal;font-family:Menlo,'DejaVu Sans Mono',consolas,'Courier New',monospace\">OpenAIModel is processing the question 105302\n",
       "</pre>\n"
      ],
      "text/plain": [
       "OpenAIModel is processing the question 105302\n"
      ]
     },
     "metadata": {},
     "output_type": "display_data"
    },
    {
     "data": {
      "text/html": [
       "<pre style=\"white-space:pre;overflow-x:auto;line-height:normal;font-family:Menlo,'DejaVu Sans Mono',consolas,'Courier New',monospace\">OpenAIModel is processing the question 105749\n",
       "</pre>\n"
      ],
      "text/plain": [
       "OpenAIModel is processing the question 105749\n"
      ]
     },
     "metadata": {},
     "output_type": "display_data"
    },
    {
     "data": {
      "text/html": [
       "<pre style=\"white-space:pre;overflow-x:auto;line-height:normal;font-family:Menlo,'DejaVu Sans Mono',consolas,'Courier New',monospace\">OpenAIModel finished the question 104310 took 0.8789989948272705\n",
       "</pre>\n"
      ],
      "text/plain": [
       "OpenAIModel finished the question 104310 took 0.8789989948272705\n"
      ]
     },
     "metadata": {},
     "output_type": "display_data"
    },
    {
     "data": {
      "text/html": [
       "<pre style=\"white-space:pre;overflow-x:auto;line-height:normal;font-family:Menlo,'DejaVu Sans Mono',consolas,'Courier New',monospace\">OpenAIModel finished the question 105114 took 0.6619980335235596\n",
       "</pre>\n"
      ],
      "text/plain": [
       "OpenAIModel finished the question 105114 took 0.6619980335235596\n"
      ]
     },
     "metadata": {},
     "output_type": "display_data"
    },
    {
     "data": {
      "text/html": [
       "<pre style=\"white-space:pre;overflow-x:auto;line-height:normal;font-family:Menlo,'DejaVu Sans Mono',consolas,'Courier New',monospace\">OpenAIModel finished the question 104844 took 0.7650010585784912\n",
       "</pre>\n"
      ],
      "text/plain": [
       "OpenAIModel finished the question 104844 took 0.7650010585784912\n"
      ]
     },
     "metadata": {},
     "output_type": "display_data"
    },
    {
     "data": {
      "text/html": [
       "<pre style=\"white-space:pre;overflow-x:auto;line-height:normal;font-family:Menlo,'DejaVu Sans Mono',consolas,'Courier New',monospace\">OpenAIModel finished the question 105777 took 0.44300103187561035\n",
       "</pre>\n"
      ],
      "text/plain": [
       "OpenAIModel finished the question 105777 took 0.44300103187561035\n"
      ]
     },
     "metadata": {},
     "output_type": "display_data"
    },
    {
     "data": {
      "text/html": [
       "<pre style=\"white-space:pre;overflow-x:auto;line-height:normal;font-family:Menlo,'DejaVu Sans Mono',consolas,'Courier New',monospace\">OpenAIModel is processing the question 105656\n",
       "</pre>\n"
      ],
      "text/plain": [
       "OpenAIModel is processing the question 105656\n"
      ]
     },
     "metadata": {},
     "output_type": "display_data"
    },
    {
     "data": {
      "text/html": [
       "<pre style=\"white-space:pre;overflow-x:auto;line-height:normal;font-family:Menlo,'DejaVu Sans Mono',consolas,'Courier New',monospace\">OpenAIModel is processing the question 105553\n",
       "</pre>\n"
      ],
      "text/plain": [
       "OpenAIModel is processing the question 105553\n"
      ]
     },
     "metadata": {},
     "output_type": "display_data"
    },
    {
     "data": {
      "text/html": [
       "<pre style=\"white-space:pre;overflow-x:auto;line-height:normal;font-family:Menlo,'DejaVu Sans Mono',consolas,'Courier New',monospace\">OpenAIModel finished the question 105179 took 0.711491584777832\n",
       "</pre>\n"
      ],
      "text/plain": [
       "OpenAIModel finished the question 105179 took 0.711491584777832\n"
      ]
     },
     "metadata": {},
     "output_type": "display_data"
    },
    {
     "data": {
      "text/html": [
       "<pre style=\"white-space:pre;overflow-x:auto;line-height:normal;font-family:Menlo,'DejaVu Sans Mono',consolas,'Courier New',monospace\">OpenAIModel finished the question 105636 took 0.5533754825592041\n",
       "</pre>\n"
      ],
      "text/plain": [
       "OpenAIModel finished the question 105636 took 0.5533754825592041\n"
      ]
     },
     "metadata": {},
     "output_type": "display_data"
    },
    {
     "data": {
      "text/html": [
       "<pre style=\"white-space:pre;overflow-x:auto;line-height:normal;font-family:Menlo,'DejaVu Sans Mono',consolas,'Courier New',monospace\">OpenAIModel finished the question 105739 took 0.8103761672973633\n",
       "</pre>\n"
      ],
      "text/plain": [
       "OpenAIModel finished the question 105739 took 0.8103761672973633\n"
      ]
     },
     "metadata": {},
     "output_type": "display_data"
    },
    {
     "data": {
      "text/html": [
       "<pre style=\"white-space:pre;overflow-x:auto;line-height:normal;font-family:Menlo,'DejaVu Sans Mono',consolas,'Courier New',monospace\">OpenAIModel finished the question 104564 took 0.6303751468658447\n",
       "</pre>\n"
      ],
      "text/plain": [
       "OpenAIModel finished the question 104564 took 0.6303751468658447\n"
      ]
     },
     "metadata": {},
     "output_type": "display_data"
    },
    {
     "data": {
      "text/html": [
       "<pre style=\"white-space:pre;overflow-x:auto;line-height:normal;font-family:Menlo,'DejaVu Sans Mono',consolas,'Courier New',monospace\">OpenAIModel finished the question 105302 took 0.5543403625488281\n",
       "</pre>\n"
      ],
      "text/plain": [
       "OpenAIModel finished the question 105302 took 0.5543403625488281\n"
      ]
     },
     "metadata": {},
     "output_type": "display_data"
    },
    {
     "data": {
      "text/html": [
       "<pre style=\"white-space:pre;overflow-x:auto;line-height:normal;font-family:Menlo,'DejaVu Sans Mono',consolas,'Courier New',monospace\">OpenAIModel finished the question 105749 took 0.5453412532806396\n",
       "</pre>\n"
      ],
      "text/plain": [
       "OpenAIModel finished the question 105749 took 0.5453412532806396\n"
      ]
     },
     "metadata": {},
     "output_type": "display_data"
    },
    {
     "data": {
      "text/html": [
       "<pre style=\"white-space:pre;overflow-x:auto;line-height:normal;font-family:Menlo,'DejaVu Sans Mono',consolas,'Courier New',monospace\">OpenAIModel is processing the question 105737\n",
       "</pre>\n"
      ],
      "text/plain": [
       "OpenAIModel is processing the question 105737\n"
      ]
     },
     "metadata": {},
     "output_type": "display_data"
    },
    {
     "data": {
      "text/html": [
       "<pre style=\"white-space:pre;overflow-x:auto;line-height:normal;font-family:Menlo,'DejaVu Sans Mono',consolas,'Courier New',monospace\">OpenAIModel finished the question 105062 took 0.8888583183288574\n",
       "</pre>\n"
      ],
      "text/plain": [
       "OpenAIModel finished the question 105062 took 0.8888583183288574\n"
      ]
     },
     "metadata": {},
     "output_type": "display_data"
    },
    {
     "data": {
      "text/html": [
       "<pre style=\"white-space:pre;overflow-x:auto;line-height:normal;font-family:Menlo,'DejaVu Sans Mono',consolas,'Courier New',monospace\">OpenAIModel is processing the question 105031\n",
       "</pre>\n"
      ],
      "text/plain": [
       "OpenAIModel is processing the question 105031\n"
      ]
     },
     "metadata": {},
     "output_type": "display_data"
    },
    {
     "data": {
      "text/html": [
       "<pre style=\"white-space:pre;overflow-x:auto;line-height:normal;font-family:Menlo,'DejaVu Sans Mono',consolas,'Courier New',monospace\">OpenAIModel is processing the question 105558\n",
       "</pre>\n"
      ],
      "text/plain": [
       "OpenAIModel is processing the question 105558\n"
      ]
     },
     "metadata": {},
     "output_type": "display_data"
    },
    {
     "data": {
      "text/html": [
       "<pre style=\"white-space:pre;overflow-x:auto;line-height:normal;font-family:Menlo,'DejaVu Sans Mono',consolas,'Courier New',monospace\">OpenAIModel finished the question 105553 took 0.469710111618042\n",
       "</pre>\n"
      ],
      "text/plain": [
       "OpenAIModel finished the question 105553 took 0.469710111618042\n"
      ]
     },
     "metadata": {},
     "output_type": "display_data"
    },
    {
     "data": {
      "text/html": [
       "<pre style=\"white-space:pre;overflow-x:auto;line-height:normal;font-family:Menlo,'DejaVu Sans Mono',consolas,'Courier New',monospace\">OpenAIModel is processing the question 105376\n",
       "</pre>\n"
      ],
      "text/plain": [
       "OpenAIModel is processing the question 105376\n"
      ]
     },
     "metadata": {},
     "output_type": "display_data"
    },
    {
     "data": {
      "text/html": [
       "<pre style=\"white-space:pre;overflow-x:auto;line-height:normal;font-family:Menlo,'DejaVu Sans Mono',consolas,'Courier New',monospace\">OpenAIModel is processing the question 105135\n",
       "</pre>\n"
      ],
      "text/plain": [
       "OpenAIModel is processing the question 105135\n"
      ]
     },
     "metadata": {},
     "output_type": "display_data"
    },
    {
     "data": {
      "text/html": [
       "<pre style=\"white-space:pre;overflow-x:auto;line-height:normal;font-family:Menlo,'DejaVu Sans Mono',consolas,'Courier New',monospace\">OpenAIModel finished the question 105737 took 0.41867852210998535\n",
       "</pre>\n"
      ],
      "text/plain": [
       "OpenAIModel finished the question 105737 took 0.41867852210998535\n"
      ]
     },
     "metadata": {},
     "output_type": "display_data"
    },
    {
     "data": {
      "text/html": [
       "<pre style=\"white-space:pre;overflow-x:auto;line-height:normal;font-family:Menlo,'DejaVu Sans Mono',consolas,'Courier New',monospace\">OpenAIModel is processing the question 105901\n",
       "</pre>\n"
      ],
      "text/plain": [
       "OpenAIModel is processing the question 105901\n"
      ]
     },
     "metadata": {},
     "output_type": "display_data"
    },
    {
     "data": {
      "text/html": [
       "<pre style=\"white-space:pre;overflow-x:auto;line-height:normal;font-family:Menlo,'DejaVu Sans Mono',consolas,'Courier New',monospace\">OpenAIModel finished the question 105656 took 0.8185498714447021\n",
       "</pre>\n"
      ],
      "text/plain": [
       "OpenAIModel finished the question 105656 took 0.8185498714447021\n"
      ]
     },
     "metadata": {},
     "output_type": "display_data"
    },
    {
     "data": {
      "text/html": [
       "<pre style=\"white-space:pre;overflow-x:auto;line-height:normal;font-family:Menlo,'DejaVu Sans Mono',consolas,'Courier New',monospace\">OpenAIModel is processing the question 105668\n",
       "</pre>\n"
      ],
      "text/plain": [
       "OpenAIModel is processing the question 105668\n"
      ]
     },
     "metadata": {},
     "output_type": "display_data"
    },
    {
     "data": {
      "text/html": [
       "<pre style=\"white-space:pre;overflow-x:auto;line-height:normal;font-family:Menlo,'DejaVu Sans Mono',consolas,'Courier New',monospace\">OpenAIModel is processing the question 105893\n",
       "</pre>\n"
      ],
      "text/plain": [
       "OpenAIModel is processing the question 105893\n"
      ]
     },
     "metadata": {},
     "output_type": "display_data"
    },
    {
     "data": {
      "text/html": [
       "<pre style=\"white-space:pre;overflow-x:auto;line-height:normal;font-family:Menlo,'DejaVu Sans Mono',consolas,'Courier New',monospace\">OpenAIModel is processing the question 105137\n",
       "</pre>\n"
      ],
      "text/plain": [
       "OpenAIModel is processing the question 105137\n"
      ]
     },
     "metadata": {},
     "output_type": "display_data"
    },
    {
     "data": {
      "text/html": [
       "<pre style=\"white-space:pre;overflow-x:auto;line-height:normal;font-family:Menlo,'DejaVu Sans Mono',consolas,'Courier New',monospace\">OpenAIModel is processing the question 105911\n",
       "</pre>\n"
      ],
      "text/plain": [
       "OpenAIModel is processing the question 105911\n"
      ]
     },
     "metadata": {},
     "output_type": "display_data"
    },
    {
     "data": {
      "text/html": [
       "<pre style=\"white-space:pre;overflow-x:auto;line-height:normal;font-family:Menlo,'DejaVu Sans Mono',consolas,'Courier New',monospace\">OpenAIModel is processing the question 105495\n",
       "</pre>\n"
      ],
      "text/plain": [
       "OpenAIModel is processing the question 105495\n"
      ]
     },
     "metadata": {},
     "output_type": "display_data"
    },
    {
     "data": {
      "text/html": [
       "<pre style=\"white-space:pre;overflow-x:auto;line-height:normal;font-family:Menlo,'DejaVu Sans Mono',consolas,'Courier New',monospace\">OpenAIModel finished the question 105031 took 0.6509699821472168\n",
       "</pre>\n"
      ],
      "text/plain": [
       "OpenAIModel finished the question 105031 took 0.6509699821472168\n"
      ]
     },
     "metadata": {},
     "output_type": "display_data"
    },
    {
     "data": {
      "text/html": [
       "<pre style=\"white-space:pre;overflow-x:auto;line-height:normal;font-family:Menlo,'DejaVu Sans Mono',consolas,'Courier New',monospace\">OpenAIModel is processing the question 105879\n",
       "</pre>\n"
      ],
      "text/plain": [
       "OpenAIModel is processing the question 105879\n"
      ]
     },
     "metadata": {},
     "output_type": "display_data"
    },
    {
     "data": {
      "text/html": [
       "<pre style=\"white-space:pre;overflow-x:auto;line-height:normal;font-family:Menlo,'DejaVu Sans Mono',consolas,'Courier New',monospace\">OpenAIModel is processing the question 105860\n",
       "</pre>\n"
      ],
      "text/plain": [
       "OpenAIModel is processing the question 105860\n"
      ]
     },
     "metadata": {},
     "output_type": "display_data"
    },
    {
     "data": {
      "text/html": [
       "<pre style=\"white-space:pre;overflow-x:auto;line-height:normal;font-family:Menlo,'DejaVu Sans Mono',consolas,'Courier New',monospace\">OpenAIModel finished the question 105558 took 0.7579474449157715\n",
       "</pre>\n"
      ],
      "text/plain": [
       "OpenAIModel finished the question 105558 took 0.7579474449157715\n"
      ]
     },
     "metadata": {},
     "output_type": "display_data"
    },
    {
     "data": {
      "text/html": [
       "<pre style=\"white-space:pre;overflow-x:auto;line-height:normal;font-family:Menlo,'DejaVu Sans Mono',consolas,'Courier New',monospace\">OpenAIModel finished the question 105376 took 0.6424319744110107\n",
       "</pre>\n"
      ],
      "text/plain": [
       "OpenAIModel finished the question 105376 took 0.6424319744110107\n"
      ]
     },
     "metadata": {},
     "output_type": "display_data"
    },
    {
     "data": {
      "text/html": [
       "<pre style=\"white-space:pre;overflow-x:auto;line-height:normal;font-family:Menlo,'DejaVu Sans Mono',consolas,'Courier New',monospace\">OpenAIModel finished the question 105135 took 0.7834899425506592\n",
       "</pre>\n"
      ],
      "text/plain": [
       "OpenAIModel finished the question 105135 took 0.7834899425506592\n"
      ]
     },
     "metadata": {},
     "output_type": "display_data"
    },
    {
     "data": {
      "text/html": [
       "<pre style=\"white-space:pre;overflow-x:auto;line-height:normal;font-family:Menlo,'DejaVu Sans Mono',consolas,'Courier New',monospace\">OpenAIModel finished the question 105901 took 0.7184967994689941\n",
       "</pre>\n"
      ],
      "text/plain": [
       "OpenAIModel finished the question 105901 took 0.7184967994689941\n"
      ]
     },
     "metadata": {},
     "output_type": "display_data"
    },
    {
     "data": {
      "text/html": [
       "<pre style=\"white-space:pre;overflow-x:auto;line-height:normal;font-family:Menlo,'DejaVu Sans Mono',consolas,'Courier New',monospace\">OpenAIModel finished the question 105893 took 0.5027303695678711\n",
       "</pre>\n"
      ],
      "text/plain": [
       "OpenAIModel finished the question 105893 took 0.5027303695678711\n"
      ]
     },
     "metadata": {},
     "output_type": "display_data"
    },
    {
     "data": {
      "text/html": [
       "<pre style=\"white-space:pre;overflow-x:auto;line-height:normal;font-family:Menlo,'DejaVu Sans Mono',consolas,'Courier New',monospace\"></pre>\n"
      ],
      "text/plain": []
     },
     "metadata": {},
     "output_type": "display_data"
    },
    {
     "data": {
      "text/html": [
       "<pre style=\"white-space:pre;overflow-x:auto;line-height:normal;font-family:Menlo,'DejaVu Sans Mono',consolas,'Courier New',monospace\">\n",
       "</pre>\n"
      ],
      "text/plain": [
       "\n"
      ]
     },
     "metadata": {},
     "output_type": "display_data"
    },
    {
     "name": "stdout",
     "output_type": "stream",
     "text": [
      "OpenAIModel finished the question 105137 took 0.6413960456848145\n",
      "OpenAIModel finished the question 105495 took 0.6628928184509277\n"
     ]
    },
    {
     "ename": "KeyboardInterrupt",
     "evalue": "",
     "output_type": "error",
     "traceback": [
      "\u001b[1;31m---------------------------------------------------------------------------\u001b[0m",
      "\u001b[1;31mKeyboardInterrupt\u001b[0m                         Traceback (most recent call last)",
      "Cell \u001b[1;32mIn[11], line 4\u001b[0m\n\u001b[0;32m      1\u001b[0m \u001b[38;5;66;03m# prompt_file_path = \"./src/data/LaMP_22_dev_prompts_with_keyword.json\"\u001b[39;00m\n\u001b[0;32m      2\u001b[0m \u001b[38;5;66;03m# prompt_file_path = \"./src/data/LaMP_2_train_prompts_with_keywords_12.json\"\u001b[39;00m\n\u001b[0;32m      3\u001b[0m prompt_file_path \u001b[38;5;241m=\u001b[39m \u001b[38;5;124m\"\u001b[39m\u001b[38;5;124m./src/data/LaMP_2_train_prompts_without_keyword_12.json\u001b[39m\u001b[38;5;124m\"\u001b[39m\n\u001b[1;32m----> 4\u001b[0m task_1_train_with_keyword(prompt_file_path)\n",
      "File \u001b[1;32md:\\Study\\Umass\\06 Master Sophomore\\2023 Fall\\COMPSCI 646\\Assignment\\final\\LaMP-Retreival\\src\\task.py:288\u001b[0m, in \u001b[0;36mLaMPTask.__call__\u001b[1;34m(self, prompt_path)\u001b[0m\n\u001b[0;32m    286\u001b[0m     \u001b[39mwith\u001b[39;00m \u001b[39mopen\u001b[39m(prompt_path, \u001b[39m\"\u001b[39m\u001b[39mr\u001b[39m\u001b[39m\"\u001b[39m, encoding\u001b[39m=\u001b[39m\u001b[39m\"\u001b[39m\u001b[39mutf-8\u001b[39m\u001b[39m\"\u001b[39m) \u001b[39mas\u001b[39;00m prompt_file:\n\u001b[0;32m    287\u001b[0m         \u001b[39mself\u001b[39m\u001b[39m.\u001b[39mparsed_prompts \u001b[39m=\u001b[39m json\u001b[39m.\u001b[39mload(prompt_file)\n\u001b[1;32m--> 288\u001b[0m     \u001b[39mself\u001b[39m\u001b[39m.\u001b[39msubscribe()\n\u001b[0;32m    289\u001b[0m \u001b[39melse\u001b[39;00m:\n\u001b[0;32m    290\u001b[0m     \u001b[39mself\u001b[39m\u001b[39m.\u001b[39mrun()\n",
      "File \u001b[1;32md:\\Study\\Umass\\06 Master Sophomore\\2023 Fall\\COMPSCI 646\\Assignment\\final\\LaMP-Retreival\\src\\task.py:217\u001b[0m, in \u001b[0;36mLaMPTask.subscribe\u001b[1;34m(self)\u001b[0m\n\u001b[0;32m    214\u001b[0m \u001b[39mfor\u001b[39;00m i \u001b[39min\u001b[39;00m \u001b[39mrange\u001b[39m(\u001b[39mself\u001b[39m\u001b[39m.\u001b[39mworker_count):\n\u001b[0;32m    215\u001b[0m     worker_pipeline\u001b[39m.\u001b[39mput(\u001b[39m\"\u001b[39m\u001b[39mfinished\u001b[39m\u001b[39m\"\u001b[39m)\n\u001b[1;32m--> 217\u001b[0m [worker\u001b[39m.\u001b[39mjoin() \u001b[39mfor\u001b[39;00m worker \u001b[39min\u001b[39;00m proc_worker]\n\u001b[0;32m    219\u001b[0m \u001b[39m# feed prompt into subscriber\u001b[39;00m\n\u001b[0;32m    220\u001b[0m \u001b[39mfor\u001b[39;00m subscriber_name, subscriber_func \u001b[39min\u001b[39;00m \u001b[39mself\u001b[39m\u001b[39m.\u001b[39msubscribers\u001b[39m.\u001b[39mitems():\n\u001b[0;32m    221\u001b[0m     \u001b[39m# curr_preds = labels(task=self.task_name, golds=list())\u001b[39;00m\n\u001b[0;32m    222\u001b[0m     \u001b[39m# subscriber_func(self.parsed_prompts, curr_preds)\u001b[39;00m\n\u001b[0;32m    223\u001b[0m     \u001b[39m# self.preds[subscriber_name] = curr_preds\u001b[39;00m\n",
      "File \u001b[1;32md:\\Study\\Umass\\06 Master Sophomore\\2023 Fall\\COMPSCI 646\\Assignment\\final\\LaMP-Retreival\\src\\task.py:217\u001b[0m, in \u001b[0;36m<listcomp>\u001b[1;34m(.0)\u001b[0m\n\u001b[0;32m    214\u001b[0m \u001b[39mfor\u001b[39;00m i \u001b[39min\u001b[39;00m \u001b[39mrange\u001b[39m(\u001b[39mself\u001b[39m\u001b[39m.\u001b[39mworker_count):\n\u001b[0;32m    215\u001b[0m     worker_pipeline\u001b[39m.\u001b[39mput(\u001b[39m\"\u001b[39m\u001b[39mfinished\u001b[39m\u001b[39m\"\u001b[39m)\n\u001b[1;32m--> 217\u001b[0m [worker\u001b[39m.\u001b[39mjoin() \u001b[39mfor\u001b[39;00m worker \u001b[39min\u001b[39;00m proc_worker]\n\u001b[0;32m    219\u001b[0m \u001b[39m# feed prompt into subscriber\u001b[39;00m\n\u001b[0;32m    220\u001b[0m \u001b[39mfor\u001b[39;00m subscriber_name, subscriber_func \u001b[39min\u001b[39;00m \u001b[39mself\u001b[39m\u001b[39m.\u001b[39msubscribers\u001b[39m.\u001b[39mitems():\n\u001b[0;32m    221\u001b[0m     \u001b[39m# curr_preds = labels(task=self.task_name, golds=list())\u001b[39;00m\n\u001b[0;32m    222\u001b[0m     \u001b[39m# subscriber_func(self.parsed_prompts, curr_preds)\u001b[39;00m\n\u001b[0;32m    223\u001b[0m     \u001b[39m# self.preds[subscriber_name] = curr_preds\u001b[39;00m\n",
      "File \u001b[1;32mc:\\ProgramData\\Miniconda3\\envs\\LaMP-RM\\Lib\\threading.py:1112\u001b[0m, in \u001b[0;36mThread.join\u001b[1;34m(self, timeout)\u001b[0m\n\u001b[0;32m   1109\u001b[0m     \u001b[39mraise\u001b[39;00m \u001b[39mRuntimeError\u001b[39;00m(\u001b[39m\"\u001b[39m\u001b[39mcannot join current thread\u001b[39m\u001b[39m\"\u001b[39m)\n\u001b[0;32m   1111\u001b[0m \u001b[39mif\u001b[39;00m timeout \u001b[39mis\u001b[39;00m \u001b[39mNone\u001b[39;00m:\n\u001b[1;32m-> 1112\u001b[0m     \u001b[39mself\u001b[39m\u001b[39m.\u001b[39m_wait_for_tstate_lock()\n\u001b[0;32m   1113\u001b[0m \u001b[39melse\u001b[39;00m:\n\u001b[0;32m   1114\u001b[0m     \u001b[39m# the behavior of a negative timeout isn't documented, but\u001b[39;00m\n\u001b[0;32m   1115\u001b[0m     \u001b[39m# historically .join(timeout=x) for x<0 has acted as if timeout=0\u001b[39;00m\n\u001b[0;32m   1116\u001b[0m     \u001b[39mself\u001b[39m\u001b[39m.\u001b[39m_wait_for_tstate_lock(timeout\u001b[39m=\u001b[39m\u001b[39mmax\u001b[39m(timeout, \u001b[39m0\u001b[39m))\n",
      "File \u001b[1;32mc:\\ProgramData\\Miniconda3\\envs\\LaMP-RM\\Lib\\threading.py:1132\u001b[0m, in \u001b[0;36mThread._wait_for_tstate_lock\u001b[1;34m(self, block, timeout)\u001b[0m\n\u001b[0;32m   1129\u001b[0m     \u001b[39mreturn\u001b[39;00m\n\u001b[0;32m   1131\u001b[0m \u001b[39mtry\u001b[39;00m:\n\u001b[1;32m-> 1132\u001b[0m     \u001b[39mif\u001b[39;00m lock\u001b[39m.\u001b[39macquire(block, timeout):\n\u001b[0;32m   1133\u001b[0m         lock\u001b[39m.\u001b[39mrelease()\n\u001b[0;32m   1134\u001b[0m         \u001b[39mself\u001b[39m\u001b[39m.\u001b[39m_stop()\n",
      "\u001b[1;31mKeyboardInterrupt\u001b[0m: "
     ]
    },
    {
     "name": "stdout",
     "output_type": "stream",
     "text": [
      "OpenAIModel finished the question 105911 took 0.694401741027832\n"
     ]
    }
   ],
   "source": [
    "# prompt_file_path = \"./src/data/LaMP_22_dev_prompts_with_keyword.json\"\n",
    "# prompt_file_path = \"./src/data/LaMP_2_train_prompts_with_keywords_12.json\"\n",
    "prompt_file_path = \"./src/data/LaMP_2_train_prompts_without_keyword_12.json\"\n",
    "task_1_train_with_keyword(prompt_file_path)"
   ]
  },
  {
   "cell_type": "code",
   "execution_count": 8,
   "id": "72386013b8a1020",
   "metadata": {
    "ExecuteTime": {
     "end_time": "2023-11-30T18:10:52.809518Z",
     "start_time": "2023-11-30T18:10:41.653041Z"
    },
    "collapsed": false
   },
   "outputs": [],
   "source": [
    "# task_1_train_without_keyword = LaMPTask(\n",
    "#     \"./src/data/LaMP_11_train_questions.json\",\n",
    "#     # \"./src/data/LaMP_1_dev_questions.json\",\n",
    "#     # \"./src/data/LaMP_1_dev_outputs.json\",\n",
    "#     \"./src/data/LaMP_11_train_outputs.json\",\n",
    "#     subscribers={\n",
    "#         \"BERTSERINI\": BERTSERINI_Subscriber,\n",
    "#         \"DistilBERT\": DistilBERT_Subscriber,\n",
    "#         # \"OpenAI\": OpenAI_Subscriber,\n",
    "#     },\n",
    "#     # subscribers={},\n",
    "#     prompt_save_path=default_data_path,\n",
    "#     keyword_extraction=False\n",
    "# )\n",
    "# task_1_train_without_keyword()"
   ]
  },
  {
   "cell_type": "code",
   "execution_count": 13,
   "id": "5d0bcc35",
   "metadata": {},
   "outputs": [
    {
     "name": "stdout",
     "output_type": "stream",
     "text": [
      "{'OpenAI': {'accuracy': 0.6609195402298851, 'f1': 0.6677832530190732}}\n"
     ]
    }
   ],
   "source": [
    "# prompt_file_path = \"\"\n",
    "# task_1_train_with_keyword(prompt_file_path)\n",
    "task_1_train_with_keyword.evaluate(\n",
    "    [\n",
    "        \"./src/data/LaMP_2_train_preds_OpenAI_with_keyword.json\",\n",
    "        # \"./src/data/LaMP_22_train_preds_BERTSERINI_with_keyword.json\",\n",
    "        # \"./src/data/LaMP_22_train_preds_DistilBERT_with_keyword.json\",\n",
    "    ]\n",
    ")\n",
    "print(task_1_train_with_keyword.score)"
   ]
  },
  {
   "cell_type": "code",
   "execution_count": null,
   "id": "3573f9c5823caffa",
   "metadata": {
    "ExecuteTime": {
     "end_time": "2023-11-29T18:32:23.857379Z",
     "start_time": "2023-11-29T18:32:23.831359Z"
    }
   },
   "outputs": [],
   "source": [
    "# print(LaMP_1_val_X_prompted[0])\n",
    "\n",
    "# \"Algorithms for routing around a rectangle\" with keywords: [algorithm, routing, three, time, developed], \"A linear-time algorithm for four-partitioning four-connected planar graphs\" with keywords: [graph, algorithm, vertex, n_i, find], \"A Linear-Time Algorithm to Find Four Independent Spanning Trees in Four-Connected Planar Graphs\" with keywords: [tree, vertex, find, graph, rooted], \"Convex grid drawings of plane graphs with rectangular contours\" with keywords: [drawing, grid, convex, leaf, triconnected], \"Rectangular drawings of planar graphs\" with keywords: [drawn, drawing, graph, rectangular, plane], 2 is \"Auctions with heterogeneous items and budget limits\", 1 is \"Reliable broadcasting in product networks with Byzantine faults\"."
   ]
  }
 ],
 "metadata": {
  "kernelspec": {
   "display_name": "Python 3 (ipykernel)",
   "language": "python",
   "name": "python3"
  },
  "language_info": {
   "codemirror_mode": {
    "name": "ipython",
    "version": 3
   },
   "file_extension": ".py",
   "mimetype": "text/x-python",
   "name": "python",
   "nbconvert_exporter": "python",
   "pygments_lexer": "ipython3",
   "version": "3.11.5"
  },
  "vscode": {
   "interpreter": {
    "hash": "e0dc0b78bb79ceedacc4b28a7c7a95f5c8ff7649848bf08868c2ee4cc7d3ac45"
   }
  }
 },
 "nbformat": 4,
 "nbformat_minor": 5
}
