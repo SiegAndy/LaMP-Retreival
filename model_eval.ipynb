{
 "cells": [
  {
   "cell_type": "code",
   "execution_count": 5,
   "id": "initial_id",
   "metadata": {
    "collapsed": true,
    "ExecuteTime": {
     "end_time": "2023-11-28T14:44:14.940671Z",
     "start_time": "2023-11-28T14:44:14.927811Z"
    }
   },
   "outputs": [],
   "source": [
    "from transformers import T5Tokenizer, T5ForConditionalGeneration, AutoConfig\n",
    "import torch\n",
    "device = torch.device(\"cpu\")\n",
    "MODEL_PATH = \"./model/T5_model/flan-t5-xxl/config.json\"\n",
    "TOKENIZER_PATH = \"./model/T5_model/flan-t5-xxl/\"\n",
    "file = open(\"./model/T5_model/question.txt\", \"r\")\n",
    "input_text = file.read()"
   ]
  },
  {
   "cell_type": "code",
   "execution_count": null,
   "outputs": [
    {
     "name": "stdout",
     "output_type": "stream",
     "text": [
      "start loading model\n"
     ]
    }
   ],
   "source": [
    "from src.model.T5_model.T5 import *\n",
    "print(\"start loading model\")\n",
    "\n",
    "model = getT5Model_with_device(MODEL_PATH, device)\n",
    "\n",
    "print(\"finished loading model\")\n",
    "print(\"start loading tokenizer\")\n",
    "tokenizer = getT5Tokenizer(TOKENIZER_PATH)\n",
    "print(\"finished loading tokenizer\")\n",
    "print(\"start generating result\")\n",
    "result = generate_result_by_device(model, tokenizer, input_text, device)\n",
    "print(result)\n"
   ],
   "metadata": {
    "collapsed": false,
    "is_executing": true,
    "ExecuteTime": {
     "start_time": "2023-11-28T14:44:15.776063Z"
    }
   },
   "id": "1770d2f7cc42914c"
  },
  {
   "cell_type": "code",
   "execution_count": null,
   "outputs": [],
   "source": [],
   "metadata": {
    "collapsed": false
   },
   "id": "e6c7767e15e6b923"
  }
 ],
 "metadata": {
  "kernelspec": {
   "display_name": "Python 3",
   "language": "python",
   "name": "python3"
  },
  "language_info": {
   "codemirror_mode": {
    "name": "ipython",
    "version": 2
   },
   "file_extension": ".py",
   "mimetype": "text/x-python",
   "name": "python",
   "nbconvert_exporter": "python",
   "pygments_lexer": "ipython2",
   "version": "2.7.6"
  }
 },
 "nbformat": 4,
 "nbformat_minor": 5
}
