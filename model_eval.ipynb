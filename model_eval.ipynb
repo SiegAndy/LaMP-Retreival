{
 "cells": [
  {
   "cell_type": "code",
   "execution_count": null,
   "id": "3864b447a2f210f0",
   "metadata": {
    "ExecuteTime": {
     "end_time": "2023-11-30T18:10:35.774248Z",
     "start_time": "2023-11-30T18:10:30.831190Z"
    }
   },
   "outputs": [],
   "source": [
    "import sys\n",
    "import os\n",
    "from src.utils import default_data_path, config_to_env\n",
    "from src.task import LaMPTask\n",
    "from src.models import (\n",
    "    feed_prompt_to_lm,\n",
    "    feed_prompts_to_lm,\n",
    "    OpenAIModel,\n",
    "    task_1_parse_response,\n",
    "    task_2_parse_response,\n",
    "    DistilBERTModel,\n",
    "    BERTSERINIModel,\n",
    ")"
   ]
  },
  {
   "cell_type": "code",
   "execution_count": null,
   "id": "e4dec76a",
   "metadata": {
    "ExecuteTime": {
     "end_time": "2023-11-30T18:10:35.803973Z",
     "start_time": "2023-11-30T18:10:35.778767Z"
    }
   },
   "outputs": [],
   "source": [
    "config_to_env(\"OPENAI_API_KEY\")"
   ]
  },
  {
   "cell_type": "code",
   "execution_count": null,
   "id": "0d2838d5",
   "metadata": {
    "ExecuteTime": {
     "end_time": "2023-11-30T18:10:35.804478Z",
     "start_time": "2023-11-30T18:10:35.783113Z"
    }
   },
   "outputs": [],
   "source": [
    "OpenAI_Subscriber = lambda prompts, ret: feed_prompts_to_lm(\n",
    "    model=OpenAIModel(), prompts=prompts, ret=ret, callback=task_2_parse_response\n",
    ")\n",
    "DistilBERT_Subscriber = lambda prompts, ret: feed_prompts_to_lm(\n",
    "    model=DistilBERTModel(), prompts=prompts, ret=ret, callback=task_2_parse_response\n",
    ")\n",
    "\n",
    "BERTSERINI_Subscriber = lambda prompts, ret: feed_prompts_to_lm(\n",
    "    model=BERTSERINIModel(), prompts=prompts, ret=ret, callback=task_2_parse_response\n",
    ")"
   ]
  },
  {
   "cell_type": "code",
   "execution_count": null,
   "id": "8a8ce4f6",
   "metadata": {},
   "outputs": [],
   "source": [
    "OpenAI_Subscriber_2 = lambda id, prompt: feed_prompt_to_lm(\n",
    "    model=OpenAIModel(), id=id, prompt=prompt, callback=task_2_parse_response\n",
    ")\n",
    "DistilBERT_Subscriber_2 = lambda id, prompt: feed_prompt_to_lm(\n",
    "    model=DistilBERTModel(), id=id, prompt=prompt, callback=task_2_parse_response\n",
    ")\n",
    "BERTSERINI_Subscriber_2 = lambda id, prompt: feed_prompt_to_lm(\n",
    "    model=BERTSERINIModel(), id=id, prompt=prompt, callback=task_2_parse_response\n",
    ")"
   ]
  },
  {
   "cell_type": "code",
   "execution_count": null,
   "id": "e1fa06ed",
   "metadata": {
    "ExecuteTime": {
     "end_time": "2023-11-30T18:10:37.680350Z",
     "start_time": "2023-11-30T18:10:35.787695Z"
    }
   },
   "outputs": [],
   "source": [
    "task_1_train_with_keyword = LaMPTask(\n",
    "    \"./src/data/LaMP_22_train_questions.json\",\n",
    "    # \"./src/data/LaMP_1_dev_questions.json\",\n",
    "    # \"./src/data/LaMP_1_dev_outputs.json\",\n",
    "    \"./src/data/LaMP_22_train_outputs.json\",\n",
    "    subscribers={\n",
    "        # \"BERTSERINI\": BERTSERINI_Subscriber_2,\n",
    "        # \"DistilBERT\": DistilBERT_Subscriber_2,\n",
    "        \"OpenAI\": OpenAI_Subscriber_2,\n",
    "    },\n",
    "    worker_count=16,\n",
    "    # subscribers={},\n",
    "    prompt_save_path=default_data_path,\n",
    ")\n",
    "# prompt_file_path = \"./src/data/LaMP_22_dev_prompts_with_keyword.json\"\n",
    "prompt_file_path = \"./src/data/LaMP_2_train_prompts_with_keywords_12.json\"\n",
    "task_1_train_with_keyword(prompt_file_path)"
   ]
  },
  {
   "cell_type": "code",
   "execution_count": null,
   "id": "72386013b8a1020",
   "metadata": {
    "ExecuteTime": {
     "end_time": "2023-11-30T18:10:52.809518Z",
     "start_time": "2023-11-30T18:10:41.653041Z"
    },
    "collapsed": false
   },
   "outputs": [],
   "source": [
    "# task_1_train_without_keyword = LaMPTask(\n",
    "#     \"./src/data/LaMP_11_train_questions.json\",\n",
    "#     # \"./src/data/LaMP_1_dev_questions.json\",\n",
    "#     # \"./src/data/LaMP_1_dev_outputs.json\",\n",
    "#     \"./src/data/LaMP_11_train_outputs.json\",\n",
    "#     subscribers={\n",
    "#         \"BERTSERINI\": BERTSERINI_Subscriber,\n",
    "#         \"DistilBERT\": DistilBERT_Subscriber,\n",
    "#         # \"OpenAI\": OpenAI_Subscriber,\n",
    "#     },\n",
    "#     # subscribers={},\n",
    "#     prompt_save_path=default_data_path,\n",
    "#     keyword_extraction=False\n",
    "# )\n",
    "# task_1_train_without_keyword()"
   ]
  },
  {
   "cell_type": "code",
   "execution_count": null,
   "id": "5d0bcc35",
   "metadata": {},
   "outputs": [],
   "source": [
    "# prompt_file_path = \"\"\n",
    "# task_1_train_with_keyword(prompt_file_path)\n",
    "task_1_train_with_keyword.evaluate(\n",
    "    [\n",
    "        # \"./src/data/LaMP_22_train_preds_OpenAI_with_keyword.json\",\n",
    "        \"./src/data/LaMP_22_train_preds_BERTSERINI_with_keyword.json\",\n",
    "        # \"./src/data/LaMP_22_train_preds_DistilBERT_with_keyword.json\",\n",
    "    ]\n",
    ")\n",
    "print(task_1_train_with_keyword.score)"
   ]
  },
  {
   "cell_type": "code",
   "execution_count": null,
   "id": "3573f9c5823caffa",
   "metadata": {
    "ExecuteTime": {
     "end_time": "2023-11-29T18:32:23.857379Z",
     "start_time": "2023-11-29T18:32:23.831359Z"
    }
   },
   "outputs": [],
   "source": [
    "# print(LaMP_1_val_X_prompted[0])\n",
    "\n",
    "# \"Algorithms for routing around a rectangle\" with keywords: [algorithm, routing, three, time, developed], \"A linear-time algorithm for four-partitioning four-connected planar graphs\" with keywords: [graph, algorithm, vertex, n_i, find], \"A Linear-Time Algorithm to Find Four Independent Spanning Trees in Four-Connected Planar Graphs\" with keywords: [tree, vertex, find, graph, rooted], \"Convex grid drawings of plane graphs with rectangular contours\" with keywords: [drawing, grid, convex, leaf, triconnected], \"Rectangular drawings of planar graphs\" with keywords: [drawn, drawing, graph, rectangular, plane], 2 is \"Auctions with heterogeneous items and budget limits\", 1 is \"Reliable broadcasting in product networks with Byzantine faults\"."
   ]
  }
 ],
 "metadata": {
  "kernelspec": {
   "display_name": "Python 3 (ipykernel)",
   "language": "python",
   "name": "python3"
  },
  "language_info": {
   "codemirror_mode": {
    "name": "ipython",
    "version": 3
   },
   "file_extension": ".py",
   "mimetype": "text/x-python",
   "name": "python",
   "nbconvert_exporter": "python",
   "pygments_lexer": "ipython3",
   "version": "3.11.5"
  },
  "vscode": {
   "interpreter": {
    "hash": "e0dc0b78bb79ceedacc4b28a7c7a95f5c8ff7649848bf08868c2ee4cc7d3ac45"
   }
  }
 },
 "nbformat": 4,
 "nbformat_minor": 5
}
