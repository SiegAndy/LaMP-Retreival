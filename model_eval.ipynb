{
 "cells": [
  {
   "cell_type": "code",
   "execution_count": 1,
   "id": "3864b447a2f210f0",
   "metadata": {
    "ExecuteTime": {
     "end_time": "2023-11-29T18:31:12.150121Z",
     "start_time": "2023-11-29T18:31:08.733614Z"
    },
    "collapsed": false
   },
   "outputs": [
    {
     "name": "stderr",
     "output_type": "stream",
     "text": [
      "c:\\ProgramData\\Miniconda3\\envs\\LaMP-RM\\Lib\\site-packages\\tqdm\\auto.py:21: TqdmWarning: IProgress not found. Please update jupyter and ipywidgets. See https://ipywidgets.readthedocs.io/en/stable/user_install.html\n",
      "  from .autonotebook import tqdm as notebook_tqdm\n"
     ]
    }
   ],
   "source": [
    "import sys\n",
    "import os\n",
    "from src.utils import default_data_path, config_to_env\n",
    "from src.task import LaMPTask\n",
    "from src.models import feed_prompt_to_lm, OpenAIModel, task_1_parse_response"
   ]
  },
  {
   "cell_type": "code",
   "execution_count": 2,
   "id": "e4dec76a",
   "metadata": {},
   "outputs": [],
   "source": [
    "config_to_env(\"OPENAI_API_KEY\")"
   ]
  },
  {
   "cell_type": "code",
   "execution_count": 3,
   "id": "0d2838d5",
   "metadata": {},
   "outputs": [],
   "source": [
    "OpenAI_model = OpenAIModel()\n",
    "OpenAI_Subscriber = lambda prompts, ret: feed_prompt_to_lm(\n",
    "    model=OpenAI_model, prompts=prompts, ret=ret, callback=task_1_parse_response\n",
    ")"
   ]
  },
  {
   "cell_type": "code",
   "execution_count": 4,
   "id": "e1fa06ed",
   "metadata": {},
   "outputs": [
    {
     "name": "stdout",
     "output_type": "stream",
     "text": [
      "{'OpenAI': {'accuracy': 0.6666666666666666, 'f1': 0.4}}\n"
     ]
    }
   ],
   "source": [
    "task_1_train = LaMPTask(\n",
    "    \"./src/data/LaMP_11_train_questions.json\",\n",
    "    \"./src/data/LaMP_11_train_outputs.json\",\n",
    "    subscribers={\"OpenAI\": OpenAI_Subscriber},\n",
    "    prompt_save_path=default_data_path,\n",
    ")\n",
    "task_1_train()\n",
    "task_1_train.evaluate()\n",
    "print(task_1_train.score)"
   ]
  },
  {
   "cell_type": "code",
   "execution_count": 5,
   "id": "bcd4813b9a2f155a",
   "metadata": {
    "ExecuteTime": {
     "end_time": "2023-11-29T18:31:14.053753Z",
     "start_time": "2023-11-29T18:31:14.001100Z"
    },
    "collapsed": false
   },
   "outputs": [],
   "source": [
    "# LaMP_1_val_X_prompted, LaMP_1_val_y_prompted = generate_np_X_y(\"dev\", \"LaMP_1\")"
   ]
  },
  {
   "cell_type": "code",
   "execution_count": 6,
   "id": "3573f9c5823caffa",
   "metadata": {
    "ExecuteTime": {
     "end_time": "2023-11-29T18:32:23.857379Z",
     "start_time": "2023-11-29T18:32:23.831359Z"
    },
    "collapsed": false
   },
   "outputs": [],
   "source": [
    "# print(LaMP_1_val_X_prompted[0])"
   ]
  }
 ],
 "metadata": {
  "kernelspec": {
   "display_name": "Python 3.11.5 ('LaMP-RM')",
   "language": "python",
   "name": "python3"
  },
  "language_info": {
   "codemirror_mode": {
    "name": "ipython",
    "version": 3
   },
   "file_extension": ".py",
   "mimetype": "text/x-python",
   "name": "python",
   "nbconvert_exporter": "python",
   "pygments_lexer": "ipython3",
   "version": "3.11.5"
  },
  "vscode": {
   "interpreter": {
    "hash": "e0dc0b78bb79ceedacc4b28a7c7a95f5c8ff7649848bf08868c2ee4cc7d3ac45"
   }
  }
 },
 "nbformat": 4,
 "nbformat_minor": 5
}
