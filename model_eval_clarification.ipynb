{
 "cells": [
  {
   "cell_type": "code",
   "execution_count": 18,
   "metadata": {},
   "outputs": [],
   "source": [
    "import os\n",
    "from typing import List\n",
    "import json\n",
    "from typing import Callable\n",
    "from collections import Counter\n",
    "from collections import defaultdict\n",
    "from typing import Dict\n",
    "\n",
    "from src.utils import task_2_categories\n",
    "\n",
    "store_dir = os.path.join(\"src\", \"data\", \"{task_header}\")\n",
    "file_path = os.path.join(\n",
    "    store_dir,\n",
    "    \"{task_header}_train_preds_{model_name}_{keyword_flag}_{file_ending}.json\",\n",
    ")"
   ]
  },
  {
   "cell_type": "code",
   "execution_count": 19,
   "metadata": {},
   "outputs": [],
   "source": [
    "keyword_flag: Callable[[bool], str] = (\n",
    "    lambda x: \"with_keyword\" if x else \"without_keyword\"\n",
    ")"
   ]
  },
  {
   "cell_type": "code",
   "execution_count": 20,
   "metadata": {},
   "outputs": [],
   "source": [
    "def show_labels(model_names: List[str]) -> Dict:\n",
    "    result_dict = dict()\n",
    "    for model_name in model_names:\n",
    "        model_result_dict = defaultdict(dict)\n",
    "        for task_name, task_entry_per_category, task_params in [\n",
    "            (\"LaMP_1\", 120, [(2, False), (4, False), (5, 5, True), (10, 10, True)]),\n",
    "            (\"LaMP_2\", 16, [(2, False), (4, False), (5, 15, True), (10, 30, True)]),\n",
    "        ]:\n",
    "            for task_param in task_params:\n",
    "                with_keyword_flag = task_param[-1]\n",
    "                curr_param = [task_entry_per_category]\n",
    "                curr_param.extend(task_param[:-1])\n",
    "                file_ending = \"_\".join([str(elem) for elem in curr_param])\n",
    "                model_path = file_path.format(\n",
    "                    task_header=task_name,\n",
    "                    model_name=model_name,\n",
    "                    keyword_flag=keyword_flag(with_keyword_flag),\n",
    "                    file_ending=file_ending,\n",
    "                )\n",
    "                curr_counter = Counter()\n",
    "                with open(model_path, \"r\", encoding=\"utf-8\") as f:\n",
    "                    for label in json.load(f)[\"golds\"]:\n",
    "                        curr_counter.update([label[\"output\"]])\n",
    "                curr_dict_name = \" \".join([str(elem) for elem in curr_param])\n",
    "                model_result_dict[task_name][curr_dict_name] = curr_counter\n",
    "\n",
    "        result_dict[model_name] = model_result_dict\n",
    "    return result_dict"
   ]
  },
  {
   "cell_type": "code",
   "execution_count": 21,
   "metadata": {},
   "outputs": [
    {
     "data": {
      "text/plain": [
       "'\\n\\\\begin{tabular}{ l l c c c c}\\n    \\\\hline\\n    &   & \\\\multicolumn{4}{c}{Conversational: ChatGPT-3.5-Turbo} \\\\\\\\\\n    \\\\cline{3-6}\\n    &   & \\\\multicolumn{2}{c}{Without Keyphrase Extraction} & \\\\multicolumn{2}{c}{With Keyphrase Extraction} \\\\\\\\ \\n    \\\\cline{3-6}\\n    Dataset & Metric & $k_1=2$ & $k_1=4$ & $k_1=5, k_2=5, k_3=13$ & $k_1=10, k_2=10, k_3=50$  \\\\\\\\  \\n    \\\\hline\\n    \\\\vspace{-1.5mm}\\n    LaMP-1: Personalized & Accuracy & {} & {} & {} & {} \\\\\\\\\\n    Citation Identification & F1 & {} & {} & {} & {} \\\\\\\\\\n    \\\\hline\\n    &  & $k_1=2$ & $k_1=4$ &  $k_2=5, k_4=15$ &  $k_2=10, k_3=30$  \\\\\\\\  \\n    \\\\hline\\n    \\\\vspace{-1.5mm}\\n    LaMP-2: Personalized & Accuracy & {} & {} & {} & {}   \\\\\\\\\\n    News Categorization & F1 & {} & {} & {} & {}   \\\\\\\\\\n    \\\\hline\\n\\\\end{tabular}\\n'"
      ]
     },
     "execution_count": 21,
     "metadata": {},
     "output_type": "execute_result"
    }
   ],
   "source": [
    "r\"\"\"\n",
    "\\begin{tabular}{ l l c c c c}\n",
    "    \\hline\n",
    "    &   & \\multicolumn{4}{c}{Conversational: ChatGPT-3.5-Turbo} \\\\\n",
    "    \\cline{3-6}\n",
    "    &   & \\multicolumn{2}{c}{Without Keyphrase Extraction} & \\multicolumn{2}{c}{With Keyphrase Extraction} \\\\ \n",
    "    \\cline{3-6}\n",
    "    Dataset & Metric & $k_1=2$ & $k_1=4$ & $k_1=5, k_2=5, k_3=13$ & $k_1=10, k_2=10, k_3=50$  \\\\  \n",
    "    \\hline\n",
    "    \\vspace{-1.5mm}\n",
    "    LaMP-1: Personalized & Accuracy & {} & {} & {} & {} \\\\\n",
    "    Citation Identification & F1 & {} & {} & {} & {} \\\\\n",
    "    \\hline\n",
    "    &  & $k_1=2$ & $k_1=4$ &  $k_2=5, k_4=15$ &  $k_2=10, k_3=30$  \\\\  \n",
    "    \\hline\n",
    "    \\vspace{-1.5mm}\n",
    "    LaMP-2: Personalized & Accuracy & {} & {} & {} & {}   \\\\\n",
    "    News Categorization & F1 & {} & {} & {} & {}   \\\\\n",
    "    \\hline\n",
    "\\end{tabular}\n",
    "\"\"\""
   ]
  },
  {
   "cell_type": "code",
   "execution_count": 51,
   "metadata": {},
   "outputs": [],
   "source": [
    "def convert_labels_to_table(model_names: List[str], labels_dict: Dict) -> str:\n",
    "    task_1_labels = [\"[1]\", \"[2]\"]\n",
    "    task_2_labels = task_2_categories\n",
    "\n",
    "    result_dict = defaultdict(dict)\n",
    "    for model_name in model_names:\n",
    "        model_result_dict = defaultdict(dict)\n",
    "\n",
    "        task_name, task_valid_labels, task_entry_per_category, task_params = (\n",
    "            \"LaMP_1\",\n",
    "            task_1_labels,\n",
    "            120,\n",
    "            [(2,), (4,), (5, 5), (10, 10)],\n",
    "        )\n",
    "        template_1 = \"\"\"LaMP-1: Personalized & [0] & {} & {} & {} & {} \\\\\\\\ \\n Citation Identification & [3] & {} & {} & {} & {} \\\\\\\\\"\"\"\n",
    "        task_1_fillup = []\n",
    "        for task_param in task_params:\n",
    "            curr_param = [task_entry_per_category]\n",
    "            curr_param.extend(task_param)\n",
    "            curr_dict_name = \" \".join([str(elem) for elem in curr_param])\n",
    "            curr_counter: Counter = labels_dict[model_name][task_name][curr_dict_name]\n",
    "            task_1_fillup.append(\n",
    "                (curr_counter.get(\"[0]\", 0), curr_counter.get(\"[3]\", 0))\n",
    "            )\n",
    "\n",
    "        result_dict[model_name][task_name] = template_1.format(\n",
    "            task_1_fillup[0][0],\n",
    "            task_1_fillup[1][0],\n",
    "            task_1_fillup[2][0],\n",
    "            task_1_fillup[3][0],\n",
    "            task_1_fillup[0][1],\n",
    "            task_1_fillup[1][1],\n",
    "            task_1_fillup[2][1],\n",
    "            task_1_fillup[3][1],\n",
    "        )\n",
    "\n",
    "        task_name, task_valid_labels, task_entry_per_category, task_params = (\n",
    "            \"LaMP_2\",\n",
    "            task_2_labels,\n",
    "            16,\n",
    "            [(2,), (4,), (5, 15), (10, 30)],\n",
    "        )\n",
    "        template_2 = \"\"\"LaMP-2: Personalized & \\multicolumn{{2}}{{c}}{{\"\"}} & {} & {} & {} & {} \\\\\\\\ News Categorization &  &  &  &  &  \\\\\\\\\"\"\"\n",
    "        task_2_fillup = []\n",
    "        for task_param in task_params:\n",
    "            curr_param = [task_entry_per_category]\n",
    "            curr_param.extend(task_param)\n",
    "            curr_dict_name = \" \".join([str(elem) for elem in curr_param])\n",
    "            curr_counter: Counter = labels_dict[model_name][task_name][curr_dict_name]\n",
    "            curr_content = \"\\multicolumn{2}{c}{\" + str(curr_counter.get(\"\", 0)) + \"}\"\n",
    "            task_2_fillup.append(curr_content)\n",
    "\n",
    "        result_dict[model_name][task_name] = template_2.format(\n",
    "            task_2_fillup[0], task_2_fillup[1], task_2_fillup[2], task_2_fillup[3]\n",
    "        )\n",
    "    return result_dict"
   ]
  },
  {
   "cell_type": "code",
   "execution_count": 23,
   "metadata": {},
   "outputs": [],
   "source": [
    "model_names = [\n",
    "    # \"BERTSERINI\",\n",
    "    \"DistilBERT\",\n",
    "    \"MiniLM\",\n",
    "    \"OpenAI\",\n",
    "]"
   ]
  },
  {
   "cell_type": "code",
   "execution_count": 52,
   "metadata": {},
   "outputs": [
    {
     "name": "stdout",
     "output_type": "stream",
     "text": [
      "{\n",
      "    \"DistilBERT\": {\n",
      "        \"LaMP_1\": \"LaMP-1: Personalized & [0] & 33 & 52 & 2 & 14 \\\\\\\\ \\n Citation Identification & [3] & 4 & 8 & 2 & 5 \\\\\\\\\",\n",
      "        \"LaMP_2\": \"LaMP-2: Personalized & \\\\multicolumn{2}{c}{\\\"\\\"} & \\\\multicolumn{2}{c}{1} & \\\\multicolumn{2}{c}{1} & \\\\multicolumn{2}{c}{9} & \\\\multicolumn{2}{c}{7} \\\\\\\\ News Categorization &  &  &  &  &  \\\\\\\\\"\n",
      "    },\n",
      "    \"MiniLM\": {\n",
      "        \"LaMP_1\": \"LaMP-1: Personalized & [0] & 0 & 3 & 0 & 0 \\\\\\\\ \\n Citation Identification & [3] & 1 & 0 & 1 & 0 \\\\\\\\\",\n",
      "        \"LaMP_2\": \"LaMP-2: Personalized & \\\\multicolumn{2}{c}{\\\"\\\"} & \\\\multicolumn{2}{c}{0} & \\\\multicolumn{2}{c}{0} & \\\\multicolumn{2}{c}{0} & \\\\multicolumn{2}{c}{0} \\\\\\\\ News Categorization &  &  &  &  &  \\\\\\\\\"\n",
      "    },\n",
      "    \"OpenAI\": {\n",
      "        \"LaMP_1\": \"LaMP-1: Personalized & [0] & 23 & 103 & 1 & 6 \\\\\\\\ \\n Citation Identification & [3] & 98 & 65 & 5 & 10 \\\\\\\\\",\n",
      "        \"LaMP_2\": \"LaMP-2: Personalized & \\\\multicolumn{2}{c}{\\\"\\\"} & \\\\multicolumn{2}{c}{16} & \\\\multicolumn{2}{c}{14} & \\\\multicolumn{2}{c}{6} & \\\\multicolumn{2}{c}{12} \\\\\\\\ News Categorization &  &  &  &  &  \\\\\\\\\"\n",
      "    }\n",
      "}\n"
     ]
    }
   ],
   "source": [
    "result = show_labels(model_names)\n",
    "# print(json.dumps(result, indent=4,))\n",
    "result = convert_labels_to_table(model_names, result)\n",
    "print(\n",
    "    json.dumps(\n",
    "        result,\n",
    "        indent=4,\n",
    "    )\n",
    ")"
   ]
  }
 ],
 "metadata": {
  "kernelspec": {
   "display_name": "Python 3.11.5 ('LaMP-RM')",
   "language": "python",
   "name": "python3"
  },
  "language_info": {
   "codemirror_mode": {
    "name": "ipython",
    "version": 3
   },
   "file_extension": ".py",
   "mimetype": "text/x-python",
   "name": "python",
   "nbconvert_exporter": "python",
   "pygments_lexer": "ipython3",
   "version": "3.11.5"
  },
  "orig_nbformat": 4,
  "vscode": {
   "interpreter": {
    "hash": "e0dc0b78bb79ceedacc4b28a7c7a95f5c8ff7649848bf08868c2ee4cc7d3ac45"
   }
  }
 },
 "nbformat": 4,
 "nbformat_minor": 2
}
