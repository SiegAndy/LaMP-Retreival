{
 "cells": [
  {
   "cell_type": "code",
   "execution_count": 1,
   "id": "3864b447a2f210f0",
   "metadata": {
    "ExecuteTime": {
     "end_time": "2023-11-30T18:10:35.774248Z",
     "start_time": "2023-11-30T18:10:30.831190Z"
    }
   },
   "outputs": [],
   "source": [
    "import sys\n",
    "import os\n",
    "from typing import Dict, Tuple\n",
    "from typing import List\n",
    "from src.utils import default_data_path, config_to_env, check_config\n",
    "from src.task import LaMPTask\n",
    "from src.models import (\n",
    "    feed_prompt_to_lm,\n",
    "    feed_prompts_to_lm,\n",
    "    OpenAIModel,\n",
    "    task_2_parse_response,\n",
    "    DistilBERTModel,\n",
    "    BERTSERINIModel,\n",
    "    MiniLM,\n",
    ")"
   ]
  },
  {
   "cell_type": "code",
   "execution_count": 2,
   "id": "e4dec76a",
   "metadata": {
    "ExecuteTime": {
     "end_time": "2023-11-30T18:10:35.803973Z",
     "start_time": "2023-11-30T18:10:35.778767Z"
    }
   },
   "outputs": [],
   "source": [
    "config_to_env(\"OPENAI_API_KEY\")"
   ]
  },
  {
   "cell_type": "code",
   "execution_count": 3,
   "id": "8a8ce4f6",
   "metadata": {},
   "outputs": [],
   "source": [
    "task_header = \"LaMP_2\"\n",
    "store_folder = os.path.join(\"src\", \"data\", task_header)\n",
    "\n",
    "OpenAI_Subscriber = lambda id, prompt, api_key: feed_prompt_to_lm(\n",
    "    model=OpenAIModel(),\n",
    "    id=id,\n",
    "    prompt=prompt,\n",
    "    api_key=api_key,\n",
    "    log_path=os.path.join(store_folder, \"OpenAI.txt\"),\n",
    "    callback=task_2_parse_response,\n",
    ")\n",
    "DistilBERT_Subscriber = lambda id, prompt, api_key: feed_prompt_to_lm(\n",
    "    model=DistilBERTModel(task_name=\"LaMP_2\"),\n",
    "    id=id,\n",
    "    prompt=prompt,\n",
    "    api_key=api_key,\n",
    "    log_path=os.path.join(store_folder, \"DistilBERTModel.txt\"),\n",
    "    callback=task_2_parse_response,\n",
    ")\n",
    "BERTSERINI_Subscriber = lambda id, prompt, api_key: feed_prompt_to_lm(\n",
    "    model=BERTSERINIModel(task_name=\"LaMP_2\"),\n",
    "    id=id,\n",
    "    prompt=prompt,\n",
    "    api_key=api_key,\n",
    "    log_path=os.path.join(store_folder, \"BERTSERINI.txt\"),\n",
    "    callback=task_2_parse_response,\n",
    ")\n",
    "MiniLM_Subscriber = lambda id, prompt, api_key: feed_prompt_to_lm(\n",
    "    model=MiniLM(task_name=\"LaMP_2\"),\n",
    "    id=id,\n",
    "    prompt=prompt,\n",
    "    api_key=api_key,\n",
    "    log_path=os.path.join(store_folder, \"MiniLM.txt\"),\n",
    "    callback=task_2_parse_response,\n",
    ")"
   ]
  },
  {
   "cell_type": "code",
   "execution_count": 4,
   "id": "83d0a3c7",
   "metadata": {},
   "outputs": [],
   "source": [
    "store_dir = os.path.join(\"src\", \"data\", task_header)\n",
    "os.makedirs(store_dir, exist_ok=True)\n",
    "subscribers_full = {\n",
    "    \"BERTSERINI\": BERTSERINI_Subscriber,\n",
    "    \"DistilBERT\": DistilBERT_Subscriber,\n",
    "    \"MiniLM\": MiniLM_Subscriber,\n",
    "    \"OpenAI\": OpenAI_Subscriber,\n",
    "}\n",
    "preds_save_path_full = {\n",
    "    \"BERTSERINI\": os.path.join(\n",
    "        store_dir,\n",
    "        f\"{task_header}_train_preds_BERTSERINI_with_keyword_{{file_ending}}.json\",\n",
    "    ),\n",
    "    \"DistilBERT\": os.path.join(\n",
    "        store_dir,\n",
    "        f\"{task_header}_train_preds_DistilBERT_with_keyword_{{file_ending}}.json\",\n",
    "    ),\n",
    "    \"MiniLM\": os.path.join(\n",
    "        store_dir,\n",
    "        f\"{task_header}_train_preds_MiniLM_with_keyword_{{file_ending}}.json\",\n",
    "    ),\n",
    "    \"OpenAI\": os.path.join(\n",
    "        store_dir, f\"{task_header}_train_preds_OpenAI_with_keyword_{{file_ending}}.json\"\n",
    "    ),\n",
    "}\n",
    "\n",
    "task_header = \"LaMP_2\"\n",
    "entry_per_category = 16\n",
    "dataset_question_path = os.path.join(\"src\", \"data\", \"LaMP_2_train_questions.json\")"
   ]
  },
  {
   "cell_type": "code",
   "execution_count": 5,
   "id": "e1fa06ed",
   "metadata": {
    "ExecuteTime": {
     "end_time": "2023-11-30T18:10:37.680350Z",
     "start_time": "2023-11-30T18:10:35.787695Z"
    }
   },
   "outputs": [],
   "source": [
    "def task_2_with_keywords_query(\n",
    "    with_keyword_params, subscriber_namelist: List[str], debug: bool = False\n",
    "):\n",
    "    worker_count = 8 if not debug else 1\n",
    "    api_keys = (\n",
    "        [\n",
    "            check_config(\"HUGGING_FACE_KEY_1\"),\n",
    "            check_config(\"HUGGING_FACE_KEY_2\"),\n",
    "            check_config(\"HUGGING_FACE_KEY_3\"),\n",
    "            check_config(\"HUGGING_FACE_KEY_4\"),\n",
    "            check_config(\"HUGGING_FACE_KEY_1\"),\n",
    "            check_config(\"HUGGING_FACE_KEY_2\"),\n",
    "            check_config(\"HUGGING_FACE_KEY_3\"),\n",
    "            check_config(\"HUGGING_FACE_KEY_4\"),\n",
    "        ]\n",
    "        if not debug\n",
    "        else None\n",
    "    )\n",
    "\n",
    "    ready_model = dict()\n",
    "\n",
    "    for text_rank_top_k_keywords, category_top_k_keywords in with_keyword_params:\n",
    "        subscribers = dict()\n",
    "        preds_save_path = dict()\n",
    "        file_ending = (\n",
    "            f\"{entry_per_category}_{text_rank_top_k_keywords}_{category_top_k_keywords}\"\n",
    "        )\n",
    "\n",
    "        question_store_path = os.path.join(\n",
    "            store_dir,\n",
    "            f\"{task_header}_train_prompts_questions_with_keyword_{file_ending}.json\",\n",
    "        )\n",
    "        output_store_path = os.path.join(\n",
    "            store_dir,\n",
    "            f\"{task_header}_train_outputs_selected_with_keyword_{file_ending}.json\",\n",
    "        )\n",
    "\n",
    "        for subscriber_name in subscriber_namelist:\n",
    "            subscribers[subscriber_name] = subscribers_full[subscriber_name]\n",
    "            preds_save_path[subscriber_name] = preds_save_path_full[\n",
    "                subscriber_name\n",
    "            ].format(file_ending=file_ending)\n",
    "\n",
    "        curr_task = LaMPTask(\n",
    "            task_question_file=dataset_question_path,\n",
    "            task_output_file=output_store_path,\n",
    "            subscribers=subscribers,\n",
    "            worker_count=worker_count,\n",
    "            prompt_save_path=question_store_path,\n",
    "            preds_save_path=preds_save_path,\n",
    "            keyword_extraction=True,\n",
    "        )\n",
    "\n",
    "        ready_model[(text_rank_top_k_keywords, category_top_k_keywords)] = curr_task\n",
    "        curr_task.load_prompts(question_store_path)\n",
    "        curr_task.subscribe(\n",
    "            skip_eval=True,\n",
    "            api_keys=api_keys,\n",
    "        )\n",
    "\n",
    "\n",
    "def task_2_with_keywords_eval(\n",
    "    with_keyword_params,\n",
    "    subscriber_namelist: List[str],\n",
    "    ready_models: Dict[Tuple[int, int], LaMPTask] = None,\n",
    "):\n",
    "    if ready_models is not None:\n",
    "        for (\n",
    "            text_rank_top_k_keywords,\n",
    "            category_top_k_keywords,\n",
    "        ), curr_task in ready_models.items():\n",
    "            curr_task.evaluate()\n",
    "        return\n",
    "\n",
    "    store_dir = os.path.join(\"src\", \"data\", task_header)\n",
    "\n",
    "    evaluated_result = dict()\n",
    "\n",
    "    for text_rank_top_k_keywords, category_top_k_keywords in with_keyword_params:\n",
    "        subscribers = dict()\n",
    "        preds_save_path = dict()\n",
    "        file_ending = (\n",
    "            f\"{entry_per_category}_{text_rank_top_k_keywords}_{category_top_k_keywords}\"\n",
    "        )\n",
    "\n",
    "        for subscriber_name in subscriber_namelist:\n",
    "            subscribers[subscriber_name] = subscribers_full[subscriber_name]\n",
    "            preds_save_path[subscriber_name] = preds_save_path_full[\n",
    "                subscriber_name\n",
    "            ].format(file_ending=file_ending)\n",
    "\n",
    "        output_store_path = os.path.join(\n",
    "            store_dir,\n",
    "            f\"{task_header}_train_outputs_selected_with_keyword_{file_ending}.json\",\n",
    "        )\n",
    "        curr_task = LaMPTask(\n",
    "            task_question_file=dataset_question_path,\n",
    "            task_output_file=output_store_path,\n",
    "            subscribers=subscribers,\n",
    "        )\n",
    "        curr_task.evaluate(preds_save_name=preds_save_path)\n",
    "        print(curr_task.score)\n",
    "        evaluated_result[\n",
    "            f\"{text_rank_top_k_keywords} {category_top_k_keywords}\"\n",
    "        ] = curr_task.score\n",
    "    return evaluated_result"
   ]
  },
  {
   "cell_type": "code",
   "execution_count": 6,
   "id": "d30df99c",
   "metadata": {},
   "outputs": [],
   "source": [
    "with_keyword_params = [(5, 15), (10, 30)]\n",
    "debug = False"
   ]
  },
  {
   "cell_type": "code",
   "execution_count": 7,
   "id": "16d07781",
   "metadata": {},
   "outputs": [],
   "source": [
    "with_keyword_params = [(5, 15)]\n",
    "# with_keyword_params = [(10, 30)]\n",
    "subscribers = [\n",
    "    \"BERTSERINI\",\n",
    "    # \"DistilBERT\",\n",
    "    # \"MiniLM\",\n",
    "    # \"OpenAI\"\n",
    "]\n",
    "\n",
    "# debug=True"
   ]
  },
  {
   "cell_type": "code",
   "execution_count": 9,
   "id": "2126c49f",
   "metadata": {},
   "outputs": [
    {
     "data": {
      "application/vnd.jupyter.widget-view+json": {
       "model_id": "84a42cf3da3e4faeb6f441e29b0742fd",
       "version_major": 2,
       "version_minor": 0
      },
      "text/plain": [
       "Output()"
      ]
     },
     "metadata": {},
     "output_type": "display_data"
    },
    {
     "data": {
      "text/html": [
       "<pre style=\"white-space:pre;overflow-x:auto;line-height:normal;font-family:Menlo,'DejaVu Sans Mono',consolas,'Courier New',monospace\">['10298', '10299', '1031', '10122', '10131', '10383', '10204', '10206', '10289', '10160', '10243', '10449', \n",
       "'10518', '10646', '10551', '10290', '10469', '10726', '10511', '10193', '10167', '10401', '10736', '10392', \n",
       "'10405', '10406', '10409', '10410', '10417', '10682', '10652', '10259', '101050', '101129', '10327', '101043', \n",
       "'101005', '101333', '101023', '101266', '101009', '101267', '101546', '101191', '101328', '101662', '101698', \n",
       "'101711', '101699', '101512', '101656', '101701', '101709', '101716', '10831', '10908', '101742', '10863', \n",
       "'101743', '10837', '101744', '102121', '101721', '102046', '102185', '101727', '102208', '101728', '10913', \n",
       "'102215', '102240', '10939', '10940', '10946', '10953', '10944', '102409', '102189', '102713', '102193', '102751', \n",
       "'102624', '102237', '102498', '101732', '102642', '102585', '102508', '102736', '102888', '102643', '102804', \n",
       "'102058', '102560', '102923', '101826', '101798', '102902', '101775', '101824', '102922', '102423', '102858', \n",
       "'102838', '102856', '102788', '102966', '102999', '102808', '101920', '103348', '102327', '101973', '103030', \n",
       "'103346', '103342', '103019', '103647', '103642', '103645', '103160', '103169', '103186', '103528', '103629', \n",
       "'103226', '103260', '103211', '103283', '103217', '103201', '103281', '103259', '103502', '104097', '103710', \n",
       "'103287', '104226', '103300', '104101', '104021', '104244', '104249', '104045', '104289', '104159', '104227', \n",
       "'104036', '104263', '104062', '104617', '104616', '104618', '104167', '104633', '104659', '104621', '104619', \n",
       "'104764', '104174', '104779', '104769', '104729', '104735', '104732', '104783', '104825', '104802', '104846', \n",
       "'103915', '104805', '103830', '104923', '105098', '104899', '103847', '105080', '105083', '104943', '105176', \n",
       "'105107', '105129', '104957', '105179', '105123']\n",
       "</pre>\n"
      ],
      "text/plain": [
       "['10298', '10299', '1031', '10122', '10131', '10383', '10204', '10206', '10289', '10160', '10243', '10449', \n",
       "'10518', '10646', '10551', '10290', '10469', '10726', '10511', '10193', '10167', '10401', '10736', '10392', \n",
       "'10405', '10406', '10409', '10410', '10417', '10682', '10652', '10259', '101050', '101129', '10327', '101043', \n",
       "'101005', '101333', '101023', '101266', '101009', '101267', '101546', '101191', '101328', '101662', '101698', \n",
       "'101711', '101699', '101512', '101656', '101701', '101709', '101716', '10831', '10908', '101742', '10863', \n",
       "'101743', '10837', '101744', '102121', '101721', '102046', '102185', '101727', '102208', '101728', '10913', \n",
       "'102215', '102240', '10939', '10940', '10946', '10953', '10944', '102409', '102189', '102713', '102193', '102751', \n",
       "'102624', '102237', '102498', '101732', '102642', '102585', '102508', '102736', '102888', '102643', '102804', \n",
       "'102058', '102560', '102923', '101826', '101798', '102902', '101775', '101824', '102922', '102423', '102858', \n",
       "'102838', '102856', '102788', '102966', '102999', '102808', '101920', '103348', '102327', '101973', '103030', \n",
       "'103346', '103342', '103019', '103647', '103642', '103645', '103160', '103169', '103186', '103528', '103629', \n",
       "'103226', '103260', '103211', '103283', '103217', '103201', '103281', '103259', '103502', '104097', '103710', \n",
       "'103287', '104226', '103300', '104101', '104021', '104244', '104249', '104045', '104289', '104159', '104227', \n",
       "'104036', '104263', '104062', '104617', '104616', '104618', '104167', '104633', '104659', '104621', '104619', \n",
       "'104764', '104174', '104779', '104769', '104729', '104735', '104732', '104783', '104825', '104802', '104846', \n",
       "'103915', '104805', '103830', '104923', '105098', '104899', '103847', '105080', '105083', '104943', '105176', \n",
       "'105107', '105129', '104957', '105179', '105123']\n"
      ]
     },
     "metadata": {},
     "output_type": "display_data"
    },
    {
     "data": {
      "text/html": [
       "<pre style=\"white-space:pre;overflow-x:auto;line-height:normal;font-family:Menlo,'DejaVu Sans Mono',consolas,'Courier New',monospace\">overloaded\n",
       "</pre>\n"
      ],
      "text/plain": [
       "overloaded\n"
      ]
     },
     "metadata": {},
     "output_type": "display_data"
    },
    {
     "data": {
      "text/html": [
       "<pre style=\"white-space:pre;overflow-x:auto;line-height:normal;font-family:Menlo,'DejaVu Sans Mono',consolas,'Courier New',monospace\">overloaded\n",
       "</pre>\n"
      ],
      "text/plain": [
       "overloaded\n"
      ]
     },
     "metadata": {},
     "output_type": "display_data"
    },
    {
     "data": {
      "text/html": [
       "<pre style=\"white-space:pre;overflow-x:auto;line-height:normal;font-family:Menlo,'DejaVu Sans Mono',consolas,'Courier New',monospace\">overloaded\n",
       "</pre>\n"
      ],
      "text/plain": [
       "overloaded\n"
      ]
     },
     "metadata": {},
     "output_type": "display_data"
    },
    {
     "data": {
      "text/html": [
       "<pre style=\"white-space:pre;overflow-x:auto;line-height:normal;font-family:Menlo,'DejaVu Sans Mono',consolas,'Courier New',monospace\">overloaded\n",
       "</pre>\n"
      ],
      "text/plain": [
       "overloaded\n"
      ]
     },
     "metadata": {},
     "output_type": "display_data"
    },
    {
     "data": {
      "text/html": [
       "<pre style=\"white-space:pre;overflow-x:auto;line-height:normal;font-family:Menlo,'DejaVu Sans Mono',consolas,'Courier New',monospace\">overloaded\n",
       "</pre>\n"
      ],
      "text/plain": [
       "overloaded\n"
      ]
     },
     "metadata": {},
     "output_type": "display_data"
    },
    {
     "data": {
      "text/html": [
       "<pre style=\"white-space:pre;overflow-x:auto;line-height:normal;font-family:Menlo,'DejaVu Sans Mono',consolas,'Courier New',monospace\">overloaded\n",
       "</pre>\n"
      ],
      "text/plain": [
       "overloaded\n"
      ]
     },
     "metadata": {},
     "output_type": "display_data"
    },
    {
     "data": {
      "text/html": [
       "<pre style=\"white-space:pre;overflow-x:auto;line-height:normal;font-family:Menlo,'DejaVu Sans Mono',consolas,'Courier New',monospace\">overloaded\n",
       "</pre>\n"
      ],
      "text/plain": [
       "overloaded\n"
      ]
     },
     "metadata": {},
     "output_type": "display_data"
    },
    {
     "data": {
      "text/html": [
       "<pre style=\"white-space:pre;overflow-x:auto;line-height:normal;font-family:Menlo,'DejaVu Sans Mono',consolas,'Courier New',monospace\">overloaded\n",
       "</pre>\n"
      ],
      "text/plain": [
       "overloaded\n"
      ]
     },
     "metadata": {},
     "output_type": "display_data"
    },
    {
     "data": {
      "text/html": [
       "<pre style=\"white-space:pre;overflow-x:auto;line-height:normal;font-family:Menlo,'DejaVu Sans Mono',consolas,'Courier New',monospace\"></pre>\n"
      ],
      "text/plain": []
     },
     "metadata": {},
     "output_type": "display_data"
    },
    {
     "data": {
      "text/html": [
       "<pre style=\"white-space:pre;overflow-x:auto;line-height:normal;font-family:Menlo,'DejaVu Sans Mono',consolas,'Courier New',monospace\">\n",
       "</pre>\n"
      ],
      "text/plain": [
       "\n"
      ]
     },
     "metadata": {},
     "output_type": "display_data"
    }
   ],
   "source": [
    "ready_models = task_2_with_keywords_query(with_keyword_params, subscribers, debug=debug)"
   ]
  },
  {
   "cell_type": "code",
   "execution_count": 13,
   "id": "066da020",
   "metadata": {},
   "outputs": [
    {
     "name": "stdout",
     "output_type": "stream",
     "text": [
      "{'MiniLM': {'accuracy': 0.25862068965517243, 'f1': 0.23614605134499464}}\n"
     ]
    }
   ],
   "source": [
    "evaluate_results = task_2_with_keywords_eval(with_keyword_params, subscribers)"
   ]
  },
  {
   "cell_type": "code",
   "execution_count": 14,
   "id": "6dd44102",
   "metadata": {},
   "outputs": [],
   "source": [
    "def task_2_without_keywords_query(\n",
    "    without_keyword_params, subscriber_namelist: List[str], debug: bool = False\n",
    "):\n",
    "    worker_count = 8 if not debug else 1\n",
    "    api_keys = (\n",
    "        [\n",
    "            check_config(\"HUGGING_FACE_KEY_1\"),\n",
    "            check_config(\"HUGGING_FACE_KEY_2\"),\n",
    "            check_config(\"HUGGING_FACE_KEY_3\"),\n",
    "            check_config(\"HUGGING_FACE_KEY_4\"),\n",
    "            check_config(\"HUGGING_FACE_KEY_1\"),\n",
    "            check_config(\"HUGGING_FACE_KEY_2\"),\n",
    "            check_config(\"HUGGING_FACE_KEY_3\"),\n",
    "            check_config(\"HUGGING_FACE_KEY_4\"),\n",
    "        ]\n",
    "        if not debug\n",
    "        else None\n",
    "    )\n",
    "\n",
    "    ready_model = dict()\n",
    "\n",
    "    for bm25_top_k in without_keyword_params:\n",
    "        subscribers = dict()\n",
    "        preds_save_path = dict()\n",
    "        file_ending = f\"{entry_per_category}_{bm25_top_k}\"\n",
    "\n",
    "        question_store_path = os.path.join(\n",
    "            store_dir,\n",
    "            f\"{task_header}_train_prompts_questions_without_keyword_{file_ending}.json\",\n",
    "        )\n",
    "        output_store_path = os.path.join(\n",
    "            store_dir,\n",
    "            f\"{task_header}_train_outputs_selected_without_keyword_{file_ending}.json\",\n",
    "        )\n",
    "\n",
    "        for subscriber_name in subscriber_namelist:\n",
    "            subscribers[subscriber_name] = subscribers_full[subscriber_name]\n",
    "            preds_save_path[subscriber_name] = preds_save_path_full[\n",
    "                subscriber_name\n",
    "            ].format(file_ending=file_ending)\n",
    "\n",
    "        curr_task = LaMPTask(\n",
    "            task_question_file=dataset_question_path,\n",
    "            task_output_file=output_store_path,\n",
    "            subscribers=subscribers,\n",
    "            worker_count=worker_count,\n",
    "            prompt_save_path=question_store_path,\n",
    "            preds_save_path=preds_save_path,\n",
    "            keyword_extraction=False,\n",
    "        )\n",
    "\n",
    "        ready_model[bm25_top_k] = curr_task\n",
    "        curr_task.load_prompts(question_store_path)\n",
    "        curr_task.subscribe(\n",
    "            skip_eval=True,\n",
    "            api_keys=api_keys,\n",
    "        )\n",
    "\n",
    "\n",
    "def task_2_without_keywords_eval(\n",
    "    without_keyword_params,\n",
    "    subscriber_namelist: List[str],\n",
    "    ready_models: Dict[Tuple[int, int], LaMPTask] = None,\n",
    "):\n",
    "    if ready_models is not None:\n",
    "        for bm25_top_k, curr_task in ready_models.items():\n",
    "            curr_task.evaluate()\n",
    "        return\n",
    "\n",
    "    evaluated_result = dict()\n",
    "\n",
    "    for bm25_top_k in without_keyword_params:\n",
    "        subscribers = dict()\n",
    "        preds_save_path = dict()\n",
    "        file_ending = f\"{entry_per_category}_{bm25_top_k}\"\n",
    "        output_store_path = os.path.join(\n",
    "            store_dir,\n",
    "            f\"{task_header}_train_outputs_selected_without_keyword_{file_ending}.json\",\n",
    "        )\n",
    "\n",
    "        for subscriber_name in subscriber_namelist:\n",
    "            subscribers[subscriber_name] = subscribers_full[subscriber_name]\n",
    "            preds_save_path[subscriber_name] = preds_save_path_full[\n",
    "                subscriber_name\n",
    "            ].format(file_ending=file_ending)\n",
    "\n",
    "        curr_task = LaMPTask(\n",
    "            task_question_file=dataset_question_path,\n",
    "            task_output_file=output_store_path,\n",
    "            subscribers=subscribers,\n",
    "        )\n",
    "        curr_task.evaluate(preds_save_name=preds_save_path)\n",
    "        print(curr_task.score)\n",
    "        evaluated_result[f\"{bm25_top_k}\"] = curr_task.score\n",
    "    return evaluated_result"
   ]
  },
  {
   "cell_type": "code",
   "execution_count": null,
   "id": "5099f711",
   "metadata": {},
   "outputs": [],
   "source": [
    "preds_save_path_full = {\n",
    "    \"BERTSERINI\": os.path.join(\n",
    "        store_dir,\n",
    "        f\"{task_header}_train_preds_BERTSERINI_without_keyword_{{file_ending}}.json\",\n",
    "    ),\n",
    "    \"DistilBERT\": os.path.join(\n",
    "        store_dir,\n",
    "        f\"{task_header}_train_preds_DistilBERT_without_keyword_{{file_ending}}.json\",\n",
    "    ),\n",
    "    \"MiniLM\": os.path.join(\n",
    "        store_dir,\n",
    "        f\"{task_header}_train_preds_MiniLM_without_keyword_{{file_ending}}.json\",\n",
    "    ),\n",
    "    \"OpenAI\": os.path.join(\n",
    "        store_dir,\n",
    "        f\"{task_header}_train_preds_OpenAI_without_keyword_{{file_ending}}.json\",\n",
    "    ),\n",
    "}"
   ]
  },
  {
   "cell_type": "code",
   "execution_count": 15,
   "id": "c65114dc",
   "metadata": {},
   "outputs": [],
   "source": [
    "debug = False\n",
    "without_keyword_params = [2, 4]\n",
    "# without_keyword_params = [4]\n",
    "subscribers = [\n",
    "    # \"BERTSERINI\",\n",
    "    # \"DistilBERT\",\n",
    "    \"MiniLM\",\n",
    "    # \"OpenAI\"\n",
    "]"
   ]
  },
  {
   "cell_type": "code",
   "execution_count": 18,
   "id": "cb7136bd",
   "metadata": {},
   "outputs": [
    {
     "data": {
      "application/vnd.jupyter.widget-view+json": {
       "model_id": "8180f12c5cd64b1c9bede89079bcb11f",
       "version_major": 2,
       "version_minor": 0
      },
      "text/plain": [
       "Output()"
      ]
     },
     "metadata": {},
     "output_type": "display_data"
    },
    {
     "data": {
      "text/html": [
       "<pre style=\"white-space:pre;overflow-x:auto;line-height:normal;font-family:Menlo,'DejaVu Sans Mono',consolas,'Courier New',monospace\">['10160', '1018', '10458', '10411', '10368', '10118', '10136', '10427', '101', '10417', '10435', '10560', '10581', \n",
       "'10561', '102', '1030', '10128', '10155', '10185', '101001', '10596', '10202', '101002', '10567', '10530', \n",
       "'101028', '10798', '101007', '101031', '10831', '10959', '101049', '101172', '10772', '10897', '10850', '10826', \n",
       "'101330', '10747', '101347', '10652', '101331', '10946', '101507', '101191', '10822', '101224', '101296', '10824', \n",
       "'101662', '101151', '101701', '101721', '101724', '101218', '101696', '101438', '101699', '101478', '101490', \n",
       "'101727', '101483', '101208', '101723', '101705', '101651', '102046', '101747', '101733', '102201', '102141', \n",
       "'102053', '102033', '101688', '102172', '102126', '102220', '102130', '102232', '101773', '102483', '102233', \n",
       "'101203', '102239', '10937', '101800', '102023', '102407', '102282', '102589', '102374', '102281', '101834', \n",
       "'102824', '102717', '102496', '102514', '102098', '102647', '102665', '102810', '102888', '102634', '102976', \n",
       "'102809', '102839', '101600', '102567', '102224', '102838', '103052', '102694', '102741', '103423', '102915', \n",
       "'103350', '102858', '102662', '103256', '103392', '103178', '103518', '103242', '103482', '103450', '103293', \n",
       "'103600', '103504', '103616', '103558', '103595', '103586', '103641', '103167', '103621', '103326', '102969', \n",
       "'103557', '103281', '102736', '103300', '104037', '104069', '103592', '103711', '103527', '103511', '104270', \n",
       "'103321', '104281', '104087', '104050', '104275', '104196', '104671', '104629', '104654', '103980', '103741', \n",
       "'104110', '104771', '104743', '104633', '104780', '103686', '104747', '103880', '104637', '103708', '104727', \n",
       "'104367', '104381', '104304', '104479', '103940', '104814', '104457', '104851', '105080', '104873', '104887', \n",
       "'104833', '105099', '105333', '105299', '105136', '105102', '105297', '105326', '105148', '105412', '105031', \n",
       "'104981', '105284', '104909', '104830', '105606', '105245', '105100', '105308', '104863', '105730', '105623', \n",
       "'105743', '105544', '105740', '105429', '105782', '105765', '105754', '105636', '105674', '105523', '105771', \n",
       "'104991', '105533', '105769', '105538', '105763', '105744', '105722', '105899', '105648', '105834', '105814', \n",
       "'105821', '102045']\n",
       "</pre>\n"
      ],
      "text/plain": [
       "['10160', '1018', '10458', '10411', '10368', '10118', '10136', '10427', '101', '10417', '10435', '10560', '10581', \n",
       "'10561', '102', '1030', '10128', '10155', '10185', '101001', '10596', '10202', '101002', '10567', '10530', \n",
       "'101028', '10798', '101007', '101031', '10831', '10959', '101049', '101172', '10772', '10897', '10850', '10826', \n",
       "'101330', '10747', '101347', '10652', '101331', '10946', '101507', '101191', '10822', '101224', '101296', '10824', \n",
       "'101662', '101151', '101701', '101721', '101724', '101218', '101696', '101438', '101699', '101478', '101490', \n",
       "'101727', '101483', '101208', '101723', '101705', '101651', '102046', '101747', '101733', '102201', '102141', \n",
       "'102053', '102033', '101688', '102172', '102126', '102220', '102130', '102232', '101773', '102483', '102233', \n",
       "'101203', '102239', '10937', '101800', '102023', '102407', '102282', '102589', '102374', '102281', '101834', \n",
       "'102824', '102717', '102496', '102514', '102098', '102647', '102665', '102810', '102888', '102634', '102976', \n",
       "'102809', '102839', '101600', '102567', '102224', '102838', '103052', '102694', '102741', '103423', '102915', \n",
       "'103350', '102858', '102662', '103256', '103392', '103178', '103518', '103242', '103482', '103450', '103293', \n",
       "'103600', '103504', '103616', '103558', '103595', '103586', '103641', '103167', '103621', '103326', '102969', \n",
       "'103557', '103281', '102736', '103300', '104037', '104069', '103592', '103711', '103527', '103511', '104270', \n",
       "'103321', '104281', '104087', '104050', '104275', '104196', '104671', '104629', '104654', '103980', '103741', \n",
       "'104110', '104771', '104743', '104633', '104780', '103686', '104747', '103880', '104637', '103708', '104727', \n",
       "'104367', '104381', '104304', '104479', '103940', '104814', '104457', '104851', '105080', '104873', '104887', \n",
       "'104833', '105099', '105333', '105299', '105136', '105102', '105297', '105326', '105148', '105412', '105031', \n",
       "'104981', '105284', '104909', '104830', '105606', '105245', '105100', '105308', '104863', '105730', '105623', \n",
       "'105743', '105544', '105740', '105429', '105782', '105765', '105754', '105636', '105674', '105523', '105771', \n",
       "'104991', '105533', '105769', '105538', '105763', '105744', '105722', '105899', '105648', '105834', '105814', \n",
       "'105821', '102045']\n"
      ]
     },
     "metadata": {},
     "output_type": "display_data"
    },
    {
     "data": {
      "text/html": [
       "<pre style=\"white-space:pre;overflow-x:auto;line-height:normal;font-family:Menlo,'DejaVu Sans Mono',consolas,'Courier New',monospace\"></pre>\n"
      ],
      "text/plain": []
     },
     "metadata": {},
     "output_type": "display_data"
    },
    {
     "data": {
      "text/html": [
       "<pre style=\"white-space:pre;overflow-x:auto;line-height:normal;font-family:Menlo,'DejaVu Sans Mono',consolas,'Courier New',monospace\">\n",
       "</pre>\n"
      ],
      "text/plain": [
       "\n"
      ]
     },
     "metadata": {},
     "output_type": "display_data"
    },
    {
     "data": {
      "application/vnd.jupyter.widget-view+json": {
       "model_id": "e51a4030376f4a52bef92062c7ffb6bb",
       "version_major": 2,
       "version_minor": 0
      },
      "text/plain": [
       "Output()"
      ]
     },
     "metadata": {},
     "output_type": "display_data"
    },
    {
     "data": {
      "text/html": [
       "<pre style=\"white-space:pre;overflow-x:auto;line-height:normal;font-family:Menlo,'DejaVu Sans Mono',consolas,'Courier New',monospace\">['10295', '10139', '10134', '1013', '10166', '10441', '10388', '10364', '10419', '10169', '10406', '10164', '1024',\n",
       "'10638', '1051', '10583', '10153', '10729', '10560', '10571', '10502', '10551', '10549', '10699', '10973', \n",
       "'101014', '1094', '10243', '101004', '101013', '10387', '101039', '101070', '10715', '101019', '10969', '101026', \n",
       "'101046', '101140', '101302', '101275', '101257', '101246', '101320', '101049', '10789', '101287', '10234', \n",
       "'10168', '10946', '10327', '10205', '10297', '10482', '104', '101345', '101164', '101337', '101340', '101698', \n",
       "'10752', '101727', '101720', '101351', '10808', '101701', '101705', '101600', '101355', '101719', '101854', \n",
       "'101735', '101193', '10213', '101750', '101619', '101279', '101653', '101728', '102140', '10824', '102238', \n",
       "'101798', '102130', '102409', '102380', '102096', '102233', '102587', '102064', '102523', '102041', '102821', \n",
       "'102181', '102054', '102368', '102813', '102824', '101983', '102347', '102664', '101760', '102222', '102638', \n",
       "'102848', '102736', '101919', '102796', '103012', '102746', '102822', '103346', '102918', '102922', '103400', \n",
       "'102756', '103205', '103235', '102707', '103165', '102973', '103283', '103626', '103576', '103641', '102958', \n",
       "'103298', '103470', '103558', '103519', '103485', '103512', '103312', '103311', '103352', '103162', '104061', \n",
       "'104052', '104031', '103690', '104276', '103698', '103267', '104050', '103965', '104621', '104650', '104244', \n",
       "'104637', '104623', '104196', '103675', '104292', '104750', '103770', '104775', '104783', '104758', '104048', \n",
       "'104117', '104087', '104751', '104112', '104786', '104771', '103812', '104632', '104939', '103993', '104013', \n",
       "'104385', '103745', '105020', '104850', '104877', '104796', '104992', '104987', '105073', '105070', '104791', \n",
       "'104922', '105105', '104972', '105089', '105083', '105359', '104874', '105085', '105084', '104844', '105133', \n",
       "'105015', '104890', '105107', '105575', '105054', '105562', '105118', '105627', '105623', '105625', '105725', \n",
       "'105417', '105753', '105779', '105768', '105218', '105693', '105275', '105728', '105148', '105782', '105850', \n",
       "'105566', '105761', '105061', '105882', '105399', '105507', '105230', '105906', '105524', '105884', '105879', \n",
       "'105911', '105847', '105908', '105487', '105862', '105872', '105855']\n",
       "</pre>\n"
      ],
      "text/plain": [
       "['10295', '10139', '10134', '1013', '10166', '10441', '10388', '10364', '10419', '10169', '10406', '10164', '1024',\n",
       "'10638', '1051', '10583', '10153', '10729', '10560', '10571', '10502', '10551', '10549', '10699', '10973', \n",
       "'101014', '1094', '10243', '101004', '101013', '10387', '101039', '101070', '10715', '101019', '10969', '101026', \n",
       "'101046', '101140', '101302', '101275', '101257', '101246', '101320', '101049', '10789', '101287', '10234', \n",
       "'10168', '10946', '10327', '10205', '10297', '10482', '104', '101345', '101164', '101337', '101340', '101698', \n",
       "'10752', '101727', '101720', '101351', '10808', '101701', '101705', '101600', '101355', '101719', '101854', \n",
       "'101735', '101193', '10213', '101750', '101619', '101279', '101653', '101728', '102140', '10824', '102238', \n",
       "'101798', '102130', '102409', '102380', '102096', '102233', '102587', '102064', '102523', '102041', '102821', \n",
       "'102181', '102054', '102368', '102813', '102824', '101983', '102347', '102664', '101760', '102222', '102638', \n",
       "'102848', '102736', '101919', '102796', '103012', '102746', '102822', '103346', '102918', '102922', '103400', \n",
       "'102756', '103205', '103235', '102707', '103165', '102973', '103283', '103626', '103576', '103641', '102958', \n",
       "'103298', '103470', '103558', '103519', '103485', '103512', '103312', '103311', '103352', '103162', '104061', \n",
       "'104052', '104031', '103690', '104276', '103698', '103267', '104050', '103965', '104621', '104650', '104244', \n",
       "'104637', '104623', '104196', '103675', '104292', '104750', '103770', '104775', '104783', '104758', '104048', \n",
       "'104117', '104087', '104751', '104112', '104786', '104771', '103812', '104632', '104939', '103993', '104013', \n",
       "'104385', '103745', '105020', '104850', '104877', '104796', '104992', '104987', '105073', '105070', '104791', \n",
       "'104922', '105105', '104972', '105089', '105083', '105359', '104874', '105085', '105084', '104844', '105133', \n",
       "'105015', '104890', '105107', '105575', '105054', '105562', '105118', '105627', '105623', '105625', '105725', \n",
       "'105417', '105753', '105779', '105768', '105218', '105693', '105275', '105728', '105148', '105782', '105850', \n",
       "'105566', '105761', '105061', '105882', '105399', '105507', '105230', '105906', '105524', '105884', '105879', \n",
       "'105911', '105847', '105908', '105487', '105862', '105872', '105855']\n"
      ]
     },
     "metadata": {},
     "output_type": "display_data"
    },
    {
     "data": {
      "text/html": [
       "<pre style=\"white-space:pre;overflow-x:auto;line-height:normal;font-family:Menlo,'DejaVu Sans Mono',consolas,'Courier New',monospace\"></pre>\n"
      ],
      "text/plain": []
     },
     "metadata": {},
     "output_type": "display_data"
    },
    {
     "data": {
      "text/html": [
       "<pre style=\"white-space:pre;overflow-x:auto;line-height:normal;font-family:Menlo,'DejaVu Sans Mono',consolas,'Courier New',monospace\">\n",
       "</pre>\n"
      ],
      "text/plain": [
       "\n"
      ]
     },
     "metadata": {},
     "output_type": "display_data"
    }
   ],
   "source": [
    "ready_models_no_keywords = task_2_without_keywords_query(\n",
    "    without_keyword_params, subscribers, debug=debug\n",
    ")"
   ]
  },
  {
   "cell_type": "code",
   "execution_count": 19,
   "id": "13405aec",
   "metadata": {},
   "outputs": [
    {
     "name": "stdout",
     "output_type": "stream",
     "text": [
      "{'MiniLM': {'accuracy': 0.2511013215859031, 'f1': 0.23674196174196174}}\n",
      "{'MiniLM': {'accuracy': 0.3276595744680851, 'f1': 0.29632111746810086}}\n"
     ]
    }
   ],
   "source": [
    "evaluate_results_no_keywords = task_2_without_keywords_eval(\n",
    "    without_keyword_params, subscribers\n",
    ")"
   ]
  }
 ],
 "metadata": {
  "kernelspec": {
   "display_name": "Python 3 (ipykernel)",
   "language": "python",
   "name": "python3"
  },
  "language_info": {
   "codemirror_mode": {
    "name": "ipython",
    "version": 3
   },
   "file_extension": ".py",
   "mimetype": "text/x-python",
   "name": "python",
   "nbconvert_exporter": "python",
   "pygments_lexer": "ipython3",
   "version": "3.11.5"
  },
  "vscode": {
   "interpreter": {
    "hash": "e0dc0b78bb79ceedacc4b28a7c7a95f5c8ff7649848bf08868c2ee4cc7d3ac45"
   }
  }
 },
 "nbformat": 4,
 "nbformat_minor": 5
}
